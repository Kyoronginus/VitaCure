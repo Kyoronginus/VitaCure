{
  "cells": [
    {
      "cell_type": "markdown",
      "metadata": {
        "id": "rBygWSHnPyah"
      },
      "source": [
        "**Project objective:**\n",
        "\n",
        "The objective of this project is to develop a robust machine learning model capable of predicting the likelihood of an individual having a specific disease based on their health-related attributes. By leveraging a comprehensive dataset that includes various physiological measurements and biomarkers, the model aims to classify individuals into diseased or non-diseased categories. This predictive tool will assist healthcare providers in early disease detection and management, potentially improving patient outcomes and reducing healthcare costs."
      ]
    },
    {
      "cell_type": "markdown",
      "metadata": {
        "id": "Odla9UF2Pyam"
      },
      "source": [
        "# **Step 1 | Import Libraries**\n"
      ]
    },
    {
      "cell_type": "code",
      "execution_count": 1,
      "metadata": {
        "execution": {
          "iopub.execute_input": "2025-03-02T15:32:10.826671Z",
          "iopub.status.busy": "2025-03-02T15:32:10.82624Z",
          "iopub.status.idle": "2025-03-02T15:32:10.834082Z",
          "shell.execute_reply": "2025-03-02T15:32:10.832539Z",
          "shell.execute_reply.started": "2025-03-02T15:32:10.826611Z"
        },
        "id": "wmkqcngYPyao",
        "trusted": true
      },
      "outputs": [],
      "source": [
        "import numpy as np\n",
        "import pandas as pd\n",
        "import matplotlib.pyplot as plt\n",
        "import seaborn as sns\n",
        "from sklearn.model_selection import train_test_split\n",
        "from imblearn.over_sampling import SMOTE\n",
        "from sklearn.neighbors import KNeighborsClassifier\n",
        "from sklearn.linear_model import LogisticRegression\n",
        "from sklearn.metrics import classification_report, accuracy_score, confusion_matrix, precision_score, recall_score, f1_score\n",
        "from sklearn.ensemble import RandomForestClassifier"
      ]
    },
    {
      "cell_type": "markdown",
      "metadata": {
        "id": "ph1BktJrPyas"
      },
      "source": [
        "# **Step 2 | Read Dataset**"
      ]
    },
    {
      "cell_type": "markdown",
      "metadata": {
        "id": "IrEhCIbvPyat"
      },
      "source": [
        "<div style=\"border-radius:10px; padding: 15px; background-color: #facfc8; font-size:115%; text-align:left\">\n",
        "\n",
        "First of all, let's load the dataset:"
      ]
    },
    {
      "cell_type": "code",
      "execution_count": 2,
      "metadata": {
        "execution": {
          "iopub.execute_input": "2025-03-02T15:32:10.836519Z",
          "iopub.status.busy": "2025-03-02T15:32:10.835986Z",
          "iopub.status.idle": "2025-03-02T15:32:10.856696Z",
          "shell.execute_reply": "2025-03-02T15:32:10.855493Z",
          "shell.execute_reply.started": "2025-03-02T15:32:10.836477Z"
        },
        "id": "e9g5new8fUeB",
        "trusted": true
      },
      "outputs": [],
      "source": [
        "data = pd.read_csv('blood_samples_dataset_test.csv')\n",
        "\n"
      ]
    },
    {
      "cell_type": "code",
      "execution_count": 3,
      "metadata": {
        "execution": {
          "iopub.execute_input": "2025-03-02T15:32:10.858681Z",
          "iopub.status.busy": "2025-03-02T15:32:10.858309Z",
          "iopub.status.idle": "2025-03-02T15:32:10.867797Z",
          "shell.execute_reply": "2025-03-02T15:32:10.866294Z",
          "shell.execute_reply.started": "2025-03-02T15:32:10.858612Z"
        },
        "id": "NM8O5BaePyau",
        "trusted": true
      },
      "outputs": [],
      "source": [
        "train_data, test_data = train_test_split(data, test_size=0.2, random_state=42)"
      ]
    },
    {
      "cell_type": "code",
      "execution_count": 4,
      "metadata": {
        "colab": {
          "base_uri": "https://localhost:8080/",
          "height": 441
        },
        "execution": {
          "iopub.execute_input": "2025-03-02T15:32:10.87111Z",
          "iopub.status.busy": "2025-03-02T15:32:10.870732Z",
          "iopub.status.idle": "2025-03-02T15:32:10.904325Z",
          "shell.execute_reply": "2025-03-02T15:32:10.903181Z",
          "shell.execute_reply.started": "2025-03-02T15:32:10.871082Z"
        },
        "id": "cDFvCHsL5NDy",
        "outputId": "a037cc37-33c4-4226-bb8e-2c496465eb27",
        "trusted": true
      },
      "outputs": [
        {
          "data": {
            "text/html": [
              "<div>\n",
              "<style scoped>\n",
              "    .dataframe tbody tr th:only-of-type {\n",
              "        vertical-align: middle;\n",
              "    }\n",
              "\n",
              "    .dataframe tbody tr th {\n",
              "        vertical-align: top;\n",
              "    }\n",
              "\n",
              "    .dataframe thead th {\n",
              "        text-align: right;\n",
              "    }\n",
              "</style>\n",
              "<table border=\"1\" class=\"dataframe\">\n",
              "  <thead>\n",
              "    <tr style=\"text-align: right;\">\n",
              "      <th></th>\n",
              "      <th>Glucose</th>\n",
              "      <th>Cholesterol</th>\n",
              "      <th>Hemoglobin</th>\n",
              "      <th>Platelets</th>\n",
              "      <th>White Blood Cells</th>\n",
              "      <th>Red Blood Cells</th>\n",
              "      <th>Hematocrit</th>\n",
              "      <th>Mean Corpuscular Volume</th>\n",
              "      <th>Mean Corpuscular Hemoglobin</th>\n",
              "      <th>Mean Corpuscular Hemoglobin Concentration</th>\n",
              "      <th>...</th>\n",
              "      <th>HbA1c</th>\n",
              "      <th>LDL Cholesterol</th>\n",
              "      <th>HDL Cholesterol</th>\n",
              "      <th>ALT</th>\n",
              "      <th>AST</th>\n",
              "      <th>Heart Rate</th>\n",
              "      <th>Creatinine</th>\n",
              "      <th>Troponin</th>\n",
              "      <th>C-reactive Protein</th>\n",
              "      <th>Disease</th>\n",
              "    </tr>\n",
              "  </thead>\n",
              "  <tbody>\n",
              "    <tr>\n",
              "      <th>0</th>\n",
              "      <td>0.343810</td>\n",
              "      <td>0.347211</td>\n",
              "      <td>0.879096</td>\n",
              "      <td>0.850307</td>\n",
              "      <td>0.451967</td>\n",
              "      <td>0.873944</td>\n",
              "      <td>0.337557</td>\n",
              "      <td>0.906811</td>\n",
              "      <td>0.457209</td>\n",
              "      <td>0.395726</td>\n",
              "      <td>...</td>\n",
              "      <td>0.456361</td>\n",
              "      <td>0.854836</td>\n",
              "      <td>0.776464</td>\n",
              "      <td>0.123743</td>\n",
              "      <td>0.518523</td>\n",
              "      <td>0.695120</td>\n",
              "      <td>0.246893</td>\n",
              "      <td>0.592482</td>\n",
              "      <td>0.807131</td>\n",
              "      <td>Diabetes</td>\n",
              "    </tr>\n",
              "    <tr>\n",
              "      <th>1</th>\n",
              "      <td>0.588391</td>\n",
              "      <td>0.003088</td>\n",
              "      <td>0.773188</td>\n",
              "      <td>0.854583</td>\n",
              "      <td>0.498644</td>\n",
              "      <td>0.565886</td>\n",
              "      <td>0.473069</td>\n",
              "      <td>0.508935</td>\n",
              "      <td>0.062029</td>\n",
              "      <td>0.864294</td>\n",
              "      <td>...</td>\n",
              "      <td>0.508146</td>\n",
              "      <td>0.616156</td>\n",
              "      <td>0.101654</td>\n",
              "      <td>0.147040</td>\n",
              "      <td>0.115004</td>\n",
              "      <td>0.098292</td>\n",
              "      <td>0.526956</td>\n",
              "      <td>0.251893</td>\n",
              "      <td>0.114850</td>\n",
              "      <td>Thalasse</td>\n",
              "    </tr>\n",
              "    <tr>\n",
              "      <th>2</th>\n",
              "      <td>0.891698</td>\n",
              "      <td>0.976791</td>\n",
              "      <td>0.027625</td>\n",
              "      <td>0.740255</td>\n",
              "      <td>0.635076</td>\n",
              "      <td>0.027142</td>\n",
              "      <td>0.843330</td>\n",
              "      <td>0.696492</td>\n",
              "      <td>0.688079</td>\n",
              "      <td>0.296286</td>\n",
              "      <td>...</td>\n",
              "      <td>0.806246</td>\n",
              "      <td>0.767300</td>\n",
              "      <td>0.920398</td>\n",
              "      <td>0.720335</td>\n",
              "      <td>0.957106</td>\n",
              "      <td>0.798999</td>\n",
              "      <td>0.684442</td>\n",
              "      <td>0.042009</td>\n",
              "      <td>0.166463</td>\n",
              "      <td>Diabetes</td>\n",
              "    </tr>\n",
              "    <tr>\n",
              "      <th>3</th>\n",
              "      <td>0.206044</td>\n",
              "      <td>0.212879</td>\n",
              "      <td>0.247231</td>\n",
              "      <td>0.927585</td>\n",
              "      <td>0.232335</td>\n",
              "      <td>0.123815</td>\n",
              "      <td>0.436986</td>\n",
              "      <td>0.298435</td>\n",
              "      <td>0.266428</td>\n",
              "      <td>0.194279</td>\n",
              "      <td>...</td>\n",
              "      <td>0.720981</td>\n",
              "      <td>0.336904</td>\n",
              "      <td>0.410912</td>\n",
              "      <td>0.022297</td>\n",
              "      <td>0.830511</td>\n",
              "      <td>0.606609</td>\n",
              "      <td>0.515503</td>\n",
              "      <td>0.960136</td>\n",
              "      <td>0.651620</td>\n",
              "      <td>Anemia</td>\n",
              "    </tr>\n",
              "    <tr>\n",
              "      <th>4</th>\n",
              "      <td>0.731964</td>\n",
              "      <td>0.561855</td>\n",
              "      <td>0.913374</td>\n",
              "      <td>0.684255</td>\n",
              "      <td>0.922896</td>\n",
              "      <td>0.243054</td>\n",
              "      <td>0.537608</td>\n",
              "      <td>0.830956</td>\n",
              "      <td>0.475400</td>\n",
              "      <td>0.179149</td>\n",
              "      <td>...</td>\n",
              "      <td>0.224386</td>\n",
              "      <td>0.261372</td>\n",
              "      <td>0.294475</td>\n",
              "      <td>0.886588</td>\n",
              "      <td>0.542060</td>\n",
              "      <td>0.650860</td>\n",
              "      <td>0.791743</td>\n",
              "      <td>0.611481</td>\n",
              "      <td>0.401127</td>\n",
              "      <td>Thalasse</td>\n",
              "    </tr>\n",
              "    <tr>\n",
              "      <th>...</th>\n",
              "      <td>...</td>\n",
              "      <td>...</td>\n",
              "      <td>...</td>\n",
              "      <td>...</td>\n",
              "      <td>...</td>\n",
              "      <td>...</td>\n",
              "      <td>...</td>\n",
              "      <td>...</td>\n",
              "      <td>...</td>\n",
              "      <td>...</td>\n",
              "      <td>...</td>\n",
              "      <td>...</td>\n",
              "      <td>...</td>\n",
              "      <td>...</td>\n",
              "      <td>...</td>\n",
              "      <td>...</td>\n",
              "      <td>...</td>\n",
              "      <td>...</td>\n",
              "      <td>...</td>\n",
              "      <td>...</td>\n",
              "      <td>...</td>\n",
              "    </tr>\n",
              "    <tr>\n",
              "      <th>481</th>\n",
              "      <td>0.007326</td>\n",
              "      <td>0.252854</td>\n",
              "      <td>0.688965</td>\n",
              "      <td>0.585497</td>\n",
              "      <td>0.544612</td>\n",
              "      <td>0.146135</td>\n",
              "      <td>0.351908</td>\n",
              "      <td>0.580549</td>\n",
              "      <td>0.891961</td>\n",
              "      <td>0.275039</td>\n",
              "      <td>...</td>\n",
              "      <td>0.409986</td>\n",
              "      <td>0.153422</td>\n",
              "      <td>0.174263</td>\n",
              "      <td>0.045693</td>\n",
              "      <td>0.050175</td>\n",
              "      <td>0.138868</td>\n",
              "      <td>0.533495</td>\n",
              "      <td>0.010287</td>\n",
              "      <td>0.068076</td>\n",
              "      <td>Diabetes</td>\n",
              "    </tr>\n",
              "    <tr>\n",
              "      <th>482</th>\n",
              "      <td>0.939915</td>\n",
              "      <td>0.202210</td>\n",
              "      <td>0.049386</td>\n",
              "      <td>0.926244</td>\n",
              "      <td>0.573190</td>\n",
              "      <td>0.759280</td>\n",
              "      <td>0.770963</td>\n",
              "      <td>0.229671</td>\n",
              "      <td>0.881976</td>\n",
              "      <td>0.318546</td>\n",
              "      <td>...</td>\n",
              "      <td>0.255325</td>\n",
              "      <td>0.216032</td>\n",
              "      <td>0.937486</td>\n",
              "      <td>0.303286</td>\n",
              "      <td>0.320990</td>\n",
              "      <td>0.351861</td>\n",
              "      <td>0.173075</td>\n",
              "      <td>0.088020</td>\n",
              "      <td>0.215551</td>\n",
              "      <td>Diabetes</td>\n",
              "    </tr>\n",
              "    <tr>\n",
              "      <th>483</th>\n",
              "      <td>0.539449</td>\n",
              "      <td>0.772569</td>\n",
              "      <td>0.640572</td>\n",
              "      <td>0.588195</td>\n",
              "      <td>0.667438</td>\n",
              "      <td>0.206742</td>\n",
              "      <td>0.237566</td>\n",
              "      <td>0.382557</td>\n",
              "      <td>0.782439</td>\n",
              "      <td>0.087289</td>\n",
              "      <td>...</td>\n",
              "      <td>0.110708</td>\n",
              "      <td>0.969043</td>\n",
              "      <td>0.870623</td>\n",
              "      <td>0.417573</td>\n",
              "      <td>0.419676</td>\n",
              "      <td>0.187228</td>\n",
              "      <td>0.501185</td>\n",
              "      <td>0.328932</td>\n",
              "      <td>0.201635</td>\n",
              "      <td>Heart Di</td>\n",
              "    </tr>\n",
              "    <tr>\n",
              "      <th>484</th>\n",
              "      <td>0.693828</td>\n",
              "      <td>0.377165</td>\n",
              "      <td>0.898659</td>\n",
              "      <td>0.065243</td>\n",
              "      <td>0.319042</td>\n",
              "      <td>0.074909</td>\n",
              "      <td>0.259575</td>\n",
              "      <td>0.486132</td>\n",
              "      <td>0.992022</td>\n",
              "      <td>0.461381</td>\n",
              "      <td>...</td>\n",
              "      <td>0.651357</td>\n",
              "      <td>0.010345</td>\n",
              "      <td>0.727764</td>\n",
              "      <td>0.416898</td>\n",
              "      <td>0.935822</td>\n",
              "      <td>0.112558</td>\n",
              "      <td>0.019671</td>\n",
              "      <td>0.620275</td>\n",
              "      <td>0.033933</td>\n",
              "      <td>Anemia</td>\n",
              "    </tr>\n",
              "    <tr>\n",
              "      <th>485</th>\n",
              "      <td>0.269342</td>\n",
              "      <td>0.011624</td>\n",
              "      <td>0.533576</td>\n",
              "      <td>0.342742</td>\n",
              "      <td>0.427327</td>\n",
              "      <td>0.443560</td>\n",
              "      <td>0.383607</td>\n",
              "      <td>0.174713</td>\n",
              "      <td>0.540524</td>\n",
              "      <td>0.684039</td>\n",
              "      <td>...</td>\n",
              "      <td>0.265842</td>\n",
              "      <td>0.299599</td>\n",
              "      <td>0.148096</td>\n",
              "      <td>0.929171</td>\n",
              "      <td>1.000402</td>\n",
              "      <td>0.626009</td>\n",
              "      <td>0.880665</td>\n",
              "      <td>0.268616</td>\n",
              "      <td>0.947198</td>\n",
              "      <td>Heart Di</td>\n",
              "    </tr>\n",
              "  </tbody>\n",
              "</table>\n",
              "<p>486 rows × 25 columns</p>\n",
              "</div>"
            ],
            "text/plain": [
              "      Glucose  Cholesterol  Hemoglobin  Platelets  White Blood Cells  \\\n",
              "0    0.343810     0.347211    0.879096   0.850307           0.451967   \n",
              "1    0.588391     0.003088    0.773188   0.854583           0.498644   \n",
              "2    0.891698     0.976791    0.027625   0.740255           0.635076   \n",
              "3    0.206044     0.212879    0.247231   0.927585           0.232335   \n",
              "4    0.731964     0.561855    0.913374   0.684255           0.922896   \n",
              "..        ...          ...         ...        ...                ...   \n",
              "481  0.007326     0.252854    0.688965   0.585497           0.544612   \n",
              "482  0.939915     0.202210    0.049386   0.926244           0.573190   \n",
              "483  0.539449     0.772569    0.640572   0.588195           0.667438   \n",
              "484  0.693828     0.377165    0.898659   0.065243           0.319042   \n",
              "485  0.269342     0.011624    0.533576   0.342742           0.427327   \n",
              "\n",
              "     Red Blood Cells  Hematocrit  Mean Corpuscular Volume  \\\n",
              "0           0.873944    0.337557                 0.906811   \n",
              "1           0.565886    0.473069                 0.508935   \n",
              "2           0.027142    0.843330                 0.696492   \n",
              "3           0.123815    0.436986                 0.298435   \n",
              "4           0.243054    0.537608                 0.830956   \n",
              "..               ...         ...                      ...   \n",
              "481         0.146135    0.351908                 0.580549   \n",
              "482         0.759280    0.770963                 0.229671   \n",
              "483         0.206742    0.237566                 0.382557   \n",
              "484         0.074909    0.259575                 0.486132   \n",
              "485         0.443560    0.383607                 0.174713   \n",
              "\n",
              "     Mean Corpuscular Hemoglobin  Mean Corpuscular Hemoglobin Concentration  \\\n",
              "0                       0.457209                                   0.395726   \n",
              "1                       0.062029                                   0.864294   \n",
              "2                       0.688079                                   0.296286   \n",
              "3                       0.266428                                   0.194279   \n",
              "4                       0.475400                                   0.179149   \n",
              "..                           ...                                        ...   \n",
              "481                     0.891961                                   0.275039   \n",
              "482                     0.881976                                   0.318546   \n",
              "483                     0.782439                                   0.087289   \n",
              "484                     0.992022                                   0.461381   \n",
              "485                     0.540524                                   0.684039   \n",
              "\n",
              "     ...     HbA1c  LDL Cholesterol  HDL Cholesterol       ALT       AST  \\\n",
              "0    ...  0.456361         0.854836         0.776464  0.123743  0.518523   \n",
              "1    ...  0.508146         0.616156         0.101654  0.147040  0.115004   \n",
              "2    ...  0.806246         0.767300         0.920398  0.720335  0.957106   \n",
              "3    ...  0.720981         0.336904         0.410912  0.022297  0.830511   \n",
              "4    ...  0.224386         0.261372         0.294475  0.886588  0.542060   \n",
              "..   ...       ...              ...              ...       ...       ...   \n",
              "481  ...  0.409986         0.153422         0.174263  0.045693  0.050175   \n",
              "482  ...  0.255325         0.216032         0.937486  0.303286  0.320990   \n",
              "483  ...  0.110708         0.969043         0.870623  0.417573  0.419676   \n",
              "484  ...  0.651357         0.010345         0.727764  0.416898  0.935822   \n",
              "485  ...  0.265842         0.299599         0.148096  0.929171  1.000402   \n",
              "\n",
              "     Heart Rate  Creatinine  Troponin  C-reactive Protein   Disease  \n",
              "0      0.695120    0.246893  0.592482            0.807131  Diabetes  \n",
              "1      0.098292    0.526956  0.251893            0.114850  Thalasse  \n",
              "2      0.798999    0.684442  0.042009            0.166463  Diabetes  \n",
              "3      0.606609    0.515503  0.960136            0.651620    Anemia  \n",
              "4      0.650860    0.791743  0.611481            0.401127  Thalasse  \n",
              "..          ...         ...       ...                 ...       ...  \n",
              "481    0.138868    0.533495  0.010287            0.068076  Diabetes  \n",
              "482    0.351861    0.173075  0.088020            0.215551  Diabetes  \n",
              "483    0.187228    0.501185  0.328932            0.201635  Heart Di  \n",
              "484    0.112558    0.019671  0.620275            0.033933    Anemia  \n",
              "485    0.626009    0.880665  0.268616            0.947198  Heart Di  \n",
              "\n",
              "[486 rows x 25 columns]"
            ]
          },
          "execution_count": 4,
          "metadata": {},
          "output_type": "execute_result"
        }
      ],
      "source": [
        "# combine datasets\n",
        "df = pd.concat([train_data, test_data], ignore_index=True)\n",
        "df"
      ]
    },
    {
      "cell_type": "markdown",
      "metadata": {
        "id": "PbB5OfzdPyaj"
      },
      "source": [
        "**Dataset:**\n",
        "\n",
        "The dataset comprises multiple health-related attributes collected from individuals. These attributes include:\n",
        "\n",
        "* **Glucose:** Blood sugar level (mg/dL)\n",
        "* **Cholesterol:** Level of cholesterol in the blood (mg/dL)\n",
        "* **Hemoglobin:** Protein in red blood cells carrying oxygen\n",
        "* **Platelets:** Blood cells aiding in clotting\n",
        "* **White Blood Cells (WBC):** Immune system cells fighting infections\n",
        "* **Red Blood Cells (RBC):** Cells carrying oxygen\n",
        "* **Hematocrit:** Percentage of blood volume occupied by RBC\n",
        "* **Mean Corpuscular Volume (MCV):** Average volume of RBC\n",
        "* **Mean Corpuscular Hemoglobin (MCH):** Average amount of hemoglobin in RBC\n",
        "* **Mean Corpuscular Hemoglobin Concentration (MCHC):** Average concentration of hemoglobin in RBC\n",
        "* **Insulin:** Hormone regulating blood sugar levels\n",
        "* **BMI (Body Mass Index):** Measure of body fat based on height and weight\n",
        "* **Systolic Blood Pressure (SBP):** Pressure in arteries during heartbeats\n",
        "* **Diastolic Blood Pressure (DBP):** Pressure in arteries at rest between beats\n",
        "* **Triglycerides:** Type of fat found in blood (mg/dL)\n",
        "* **HbA1c (Glycated Hemoglobin):** Measure of average blood sugar levels over past 2-3 months\n",
        "* **LDL (Low-Density Lipoprotein) Cholesterol:** \"Bad\" cholesterol\n",
        "* **HDL (High-Density Lipoprotein) Cholesterol:** \"Good\" cholesterol\n",
        "* **ALT (Alanine Aminotransferase):** Liver enzyme\n",
        "* **AST (Aspartate Aminotransferase):** Enzyme found in liver and heart\n",
        "* **Heart Rate:** Number of heartbeats per minute (bpm)\n",
        "* **Creatinine:** Waste product produced by muscles and filtered by kidneys\n",
        "* **Troponin:** Protein released into bloodstream during heart muscle damage\n",
        "* **C-reactive Protein (CRP):** Marker of inflammation in the body\n",
        "* **Disease:** Binary indicator (1: Diseased, 0: Non-diseased)"
      ]
    },
    {
      "cell_type": "markdown",
      "metadata": {
        "id": "rzAifxfDPyav"
      },
      "source": [
        "# **Step 3 | Dataset Overview**"
      ]
    },
    {
      "cell_type": "markdown",
      "metadata": {
        "id": "VLGJPmT-Pyav"
      },
      "source": [
        "<div style=\"border-radius:10px; padding: 15px; background-color: #facfc8; font-size:115%; text-align:left\">\n",
        "    \n",
        "Next, I'll delve into a detailed exploration of the dataset:"
      ]
    },
    {
      "cell_type": "markdown",
      "metadata": {
        "id": "PFQ3D959Pyaw"
      },
      "source": [
        "## **Step 3.1 | Dataset Basic Information**"
      ]
    },
    {
      "cell_type": "code",
      "execution_count": 5,
      "metadata": {
        "colab": {
          "base_uri": "https://localhost:8080/"
        },
        "execution": {
          "iopub.execute_input": "2025-03-02T15:32:10.906048Z",
          "iopub.status.busy": "2025-03-02T15:32:10.905737Z",
          "iopub.status.idle": "2025-03-02T15:32:10.923224Z",
          "shell.execute_reply": "2025-03-02T15:32:10.921986Z",
          "shell.execute_reply.started": "2025-03-02T15:32:10.906023Z"
        },
        "id": "fLiZkWDEPyaw",
        "outputId": "e2546ff0-63ac-4f70-a858-1273713052a2",
        "trusted": true
      },
      "outputs": [
        {
          "name": "stdout",
          "output_type": "stream",
          "text": [
            "<class 'pandas.core.frame.DataFrame'>\n",
            "RangeIndex: 486 entries, 0 to 485\n",
            "Data columns (total 25 columns):\n",
            " #   Column                                     Non-Null Count  Dtype  \n",
            "---  ------                                     --------------  -----  \n",
            " 0   Glucose                                    486 non-null    float64\n",
            " 1   Cholesterol                                486 non-null    float64\n",
            " 2   Hemoglobin                                 486 non-null    float64\n",
            " 3   Platelets                                  486 non-null    float64\n",
            " 4   White Blood Cells                          486 non-null    float64\n",
            " 5   Red Blood Cells                            486 non-null    float64\n",
            " 6   Hematocrit                                 486 non-null    float64\n",
            " 7   Mean Corpuscular Volume                    486 non-null    float64\n",
            " 8   Mean Corpuscular Hemoglobin                486 non-null    float64\n",
            " 9   Mean Corpuscular Hemoglobin Concentration  486 non-null    float64\n",
            " 10  Insulin                                    486 non-null    float64\n",
            " 11  BMI                                        486 non-null    float64\n",
            " 12  Systolic Blood Pressure                    486 non-null    float64\n",
            " 13  Diastolic Blood Pressure                   486 non-null    float64\n",
            " 14  Triglycerides                              486 non-null    float64\n",
            " 15  HbA1c                                      486 non-null    float64\n",
            " 16  LDL Cholesterol                            486 non-null    float64\n",
            " 17  HDL Cholesterol                            486 non-null    float64\n",
            " 18  ALT                                        486 non-null    float64\n",
            " 19  AST                                        486 non-null    float64\n",
            " 20  Heart Rate                                 486 non-null    float64\n",
            " 21  Creatinine                                 486 non-null    float64\n",
            " 22  Troponin                                   486 non-null    float64\n",
            " 23  C-reactive Protein                         486 non-null    float64\n",
            " 24  Disease                                    486 non-null    object \n",
            "dtypes: float64(24), object(1)\n",
            "memory usage: 95.1+ KB\n"
          ]
        }
      ],
      "source": [
        "# Display a concise summary of the dataframe\n",
        "df.info()"
      ]
    },
    {
      "cell_type": "code",
      "execution_count": 6,
      "metadata": {},
      "outputs": [
        {
          "data": {
            "text/html": [
              "<div>\n",
              "<style scoped>\n",
              "    .dataframe tbody tr th:only-of-type {\n",
              "        vertical-align: middle;\n",
              "    }\n",
              "\n",
              "    .dataframe tbody tr th {\n",
              "        vertical-align: top;\n",
              "    }\n",
              "\n",
              "    .dataframe thead th {\n",
              "        text-align: right;\n",
              "    }\n",
              "</style>\n",
              "<table border=\"1\" class=\"dataframe\">\n",
              "  <thead>\n",
              "    <tr style=\"text-align: right;\">\n",
              "      <th></th>\n",
              "      <th>Glucose</th>\n",
              "      <th>Systolic Blood Pressure</th>\n",
              "      <th>Diastolic Blood Pressure</th>\n",
              "      <th>BMI</th>\n",
              "      <th>Heart Rate</th>\n",
              "      <th>Disease</th>\n",
              "    </tr>\n",
              "  </thead>\n",
              "  <tbody>\n",
              "    <tr>\n",
              "      <th>0</th>\n",
              "      <td>0.343810</td>\n",
              "      <td>0.085629</td>\n",
              "      <td>0.193549</td>\n",
              "      <td>0.122491</td>\n",
              "      <td>0.695120</td>\n",
              "      <td>Diabetes</td>\n",
              "    </tr>\n",
              "    <tr>\n",
              "      <th>1</th>\n",
              "      <td>0.588391</td>\n",
              "      <td>0.756371</td>\n",
              "      <td>0.801113</td>\n",
              "      <td>0.448985</td>\n",
              "      <td>0.098292</td>\n",
              "      <td>Thalasse</td>\n",
              "    </tr>\n",
              "    <tr>\n",
              "      <th>2</th>\n",
              "      <td>0.891698</td>\n",
              "      <td>0.870922</td>\n",
              "      <td>0.583618</td>\n",
              "      <td>0.225409</td>\n",
              "      <td>0.798999</td>\n",
              "      <td>Diabetes</td>\n",
              "    </tr>\n",
              "    <tr>\n",
              "      <th>3</th>\n",
              "      <td>0.206044</td>\n",
              "      <td>0.668503</td>\n",
              "      <td>0.786053</td>\n",
              "      <td>0.666999</td>\n",
              "      <td>0.606609</td>\n",
              "      <td>Anemia</td>\n",
              "    </tr>\n",
              "    <tr>\n",
              "      <th>4</th>\n",
              "      <td>0.731964</td>\n",
              "      <td>0.897867</td>\n",
              "      <td>0.100140</td>\n",
              "      <td>0.100068</td>\n",
              "      <td>0.650860</td>\n",
              "      <td>Thalasse</td>\n",
              "    </tr>\n",
              "    <tr>\n",
              "      <th>...</th>\n",
              "      <td>...</td>\n",
              "      <td>...</td>\n",
              "      <td>...</td>\n",
              "      <td>...</td>\n",
              "      <td>...</td>\n",
              "      <td>...</td>\n",
              "    </tr>\n",
              "    <tr>\n",
              "      <th>481</th>\n",
              "      <td>0.007326</td>\n",
              "      <td>0.361580</td>\n",
              "      <td>0.301006</td>\n",
              "      <td>0.212883</td>\n",
              "      <td>0.138868</td>\n",
              "      <td>Diabetes</td>\n",
              "    </tr>\n",
              "    <tr>\n",
              "      <th>482</th>\n",
              "      <td>0.939915</td>\n",
              "      <td>0.477879</td>\n",
              "      <td>0.911750</td>\n",
              "      <td>0.619085</td>\n",
              "      <td>0.351861</td>\n",
              "      <td>Diabetes</td>\n",
              "    </tr>\n",
              "    <tr>\n",
              "      <th>483</th>\n",
              "      <td>0.539449</td>\n",
              "      <td>0.545533</td>\n",
              "      <td>0.240665</td>\n",
              "      <td>0.335474</td>\n",
              "      <td>0.187228</td>\n",
              "      <td>Heart Di</td>\n",
              "    </tr>\n",
              "    <tr>\n",
              "      <th>484</th>\n",
              "      <td>0.693828</td>\n",
              "      <td>0.966761</td>\n",
              "      <td>0.836813</td>\n",
              "      <td>0.190500</td>\n",
              "      <td>0.112558</td>\n",
              "      <td>Anemia</td>\n",
              "    </tr>\n",
              "    <tr>\n",
              "      <th>485</th>\n",
              "      <td>0.269342</td>\n",
              "      <td>0.942680</td>\n",
              "      <td>0.187483</td>\n",
              "      <td>0.642451</td>\n",
              "      <td>0.626009</td>\n",
              "      <td>Heart Di</td>\n",
              "    </tr>\n",
              "  </tbody>\n",
              "</table>\n",
              "<p>486 rows × 6 columns</p>\n",
              "</div>"
            ],
            "text/plain": [
              "      Glucose  Systolic Blood Pressure  Diastolic Blood Pressure       BMI  \\\n",
              "0    0.343810                 0.085629                  0.193549  0.122491   \n",
              "1    0.588391                 0.756371                  0.801113  0.448985   \n",
              "2    0.891698                 0.870922                  0.583618  0.225409   \n",
              "3    0.206044                 0.668503                  0.786053  0.666999   \n",
              "4    0.731964                 0.897867                  0.100140  0.100068   \n",
              "..        ...                      ...                       ...       ...   \n",
              "481  0.007326                 0.361580                  0.301006  0.212883   \n",
              "482  0.939915                 0.477879                  0.911750  0.619085   \n",
              "483  0.539449                 0.545533                  0.240665  0.335474   \n",
              "484  0.693828                 0.966761                  0.836813  0.190500   \n",
              "485  0.269342                 0.942680                  0.187483  0.642451   \n",
              "\n",
              "     Heart Rate   Disease  \n",
              "0      0.695120  Diabetes  \n",
              "1      0.098292  Thalasse  \n",
              "2      0.798999  Diabetes  \n",
              "3      0.606609    Anemia  \n",
              "4      0.650860  Thalasse  \n",
              "..          ...       ...  \n",
              "481    0.138868  Diabetes  \n",
              "482    0.351861  Diabetes  \n",
              "483    0.187228  Heart Di  \n",
              "484    0.112558    Anemia  \n",
              "485    0.626009  Heart Di  \n",
              "\n",
              "[486 rows x 6 columns]"
            ]
          },
          "execution_count": 6,
          "metadata": {},
          "output_type": "execute_result"
        }
      ],
      "source": [
        "# Select only the specified columns\n",
        "df = df[['Glucose', 'Systolic Blood Pressure', 'Diastolic Blood Pressure', 'BMI', 'Heart Rate', 'Disease']]\n",
        "df"
      ]
    },
    {
      "cell_type": "markdown",
      "metadata": {
        "id": "dxHsW8BlPyaw"
      },
      "source": [
        "**Inferences:**\n",
        "\n",
        "* **Number of Entries:** The dataset consists of **2837**, ranging from index 0 to 2836.\n",
        "    \n",
        "    \n",
        "* **Columns:** There are **25 columns** in the dataset corresponding to various attributes of the patients and results of tests.\n",
        "    \n",
        "    \n",
        "* **Datatypes:**\n",
        "    - Most of the columns (24 out of 25) are of the **float64** data type.\n",
        "    - Only the Disease column is of the object data type.\n",
        "    \n",
        "    \n",
        "* **Missing Values:** There don't appear to be any missing values in the dataset as each column has 303 non-null entries."
      ]
    },
    {
      "cell_type": "markdown",
      "metadata": {
        "id": "7HqoCwOQPyax"
      },
      "source": [
        "## **Step 3.2 | Summary Statistics for Numerical Variables**"
      ]
    },
    {
      "cell_type": "markdown",
      "metadata": {
        "id": "SIau_PumPyax"
      },
      "source": [
        "<div style=\"border-radius:10px; padding: 15px; background-color: #facfc8; font-size:115%; text-align:left\">\n",
        "\n",
        "Let's delve into the summary statistics for our __numerical__ attributes:"
      ]
    },
    {
      "cell_type": "code",
      "execution_count": 7,
      "metadata": {
        "colab": {
          "base_uri": "https://localhost:8080/",
          "height": 802
        },
        "execution": {
          "iopub.execute_input": "2025-03-02T15:32:10.924572Z",
          "iopub.status.busy": "2025-03-02T15:32:10.924252Z",
          "iopub.status.idle": "2025-03-02T15:32:11.003783Z",
          "shell.execute_reply": "2025-03-02T15:32:11.002304Z",
          "shell.execute_reply.started": "2025-03-02T15:32:10.924547Z"
        },
        "id": "pnVzwlVaPyay",
        "outputId": "4940e778-045e-415c-a1b7-60a444249441",
        "trusted": true
      },
      "outputs": [
        {
          "data": {
            "text/html": [
              "<div>\n",
              "<style scoped>\n",
              "    .dataframe tbody tr th:only-of-type {\n",
              "        vertical-align: middle;\n",
              "    }\n",
              "\n",
              "    .dataframe tbody tr th {\n",
              "        vertical-align: top;\n",
              "    }\n",
              "\n",
              "    .dataframe thead th {\n",
              "        text-align: right;\n",
              "    }\n",
              "</style>\n",
              "<table border=\"1\" class=\"dataframe\">\n",
              "  <thead>\n",
              "    <tr style=\"text-align: right;\">\n",
              "      <th></th>\n",
              "      <th>count</th>\n",
              "      <th>mean</th>\n",
              "      <th>std</th>\n",
              "      <th>min</th>\n",
              "      <th>25%</th>\n",
              "      <th>50%</th>\n",
              "      <th>75%</th>\n",
              "      <th>max</th>\n",
              "    </tr>\n",
              "  </thead>\n",
              "  <tbody>\n",
              "    <tr>\n",
              "      <th>Glucose</th>\n",
              "      <td>486.0</td>\n",
              "      <td>0.490044</td>\n",
              "      <td>0.284196</td>\n",
              "      <td>0.001827</td>\n",
              "      <td>0.236664</td>\n",
              "      <td>0.496471</td>\n",
              "      <td>0.727144</td>\n",
              "      <td>0.991742</td>\n",
              "    </tr>\n",
              "    <tr>\n",
              "      <th>Systolic Blood Pressure</th>\n",
              "      <td>486.0</td>\n",
              "      <td>0.511460</td>\n",
              "      <td>0.284696</td>\n",
              "      <td>-0.000197</td>\n",
              "      <td>0.274454</td>\n",
              "      <td>0.513765</td>\n",
              "      <td>0.746143</td>\n",
              "      <td>1.000107</td>\n",
              "    </tr>\n",
              "    <tr>\n",
              "      <th>Diastolic Blood Pressure</th>\n",
              "      <td>486.0</td>\n",
              "      <td>0.496802</td>\n",
              "      <td>0.281928</td>\n",
              "      <td>-0.000360</td>\n",
              "      <td>0.272618</td>\n",
              "      <td>0.481470</td>\n",
              "      <td>0.745734</td>\n",
              "      <td>0.998742</td>\n",
              "    </tr>\n",
              "    <tr>\n",
              "      <th>BMI</th>\n",
              "      <td>486.0</td>\n",
              "      <td>0.491792</td>\n",
              "      <td>0.288040</td>\n",
              "      <td>0.000051</td>\n",
              "      <td>0.244747</td>\n",
              "      <td>0.485184</td>\n",
              "      <td>0.732942</td>\n",
              "      <td>0.997262</td>\n",
              "    </tr>\n",
              "    <tr>\n",
              "      <th>Heart Rate</th>\n",
              "      <td>486.0</td>\n",
              "      <td>0.493794</td>\n",
              "      <td>0.292400</td>\n",
              "      <td>0.002145</td>\n",
              "      <td>0.228581</td>\n",
              "      <td>0.507581</td>\n",
              "      <td>0.751124</td>\n",
              "      <td>0.999857</td>\n",
              "    </tr>\n",
              "  </tbody>\n",
              "</table>\n",
              "</div>"
            ],
            "text/plain": [
              "                          count      mean       std       min       25%  \\\n",
              "Glucose                   486.0  0.490044  0.284196  0.001827  0.236664   \n",
              "Systolic Blood Pressure   486.0  0.511460  0.284696 -0.000197  0.274454   \n",
              "Diastolic Blood Pressure  486.0  0.496802  0.281928 -0.000360  0.272618   \n",
              "BMI                       486.0  0.491792  0.288040  0.000051  0.244747   \n",
              "Heart Rate                486.0  0.493794  0.292400  0.002145  0.228581   \n",
              "\n",
              "                               50%       75%       max  \n",
              "Glucose                   0.496471  0.727144  0.991742  \n",
              "Systolic Blood Pressure   0.513765  0.746143  1.000107  \n",
              "Diastolic Blood Pressure  0.481470  0.745734  0.998742  \n",
              "BMI                       0.485184  0.732942  0.997262  \n",
              "Heart Rate                0.507581  0.751124  0.999857  "
            ]
          },
          "execution_count": 7,
          "metadata": {},
          "output_type": "execute_result"
        }
      ],
      "source": [
        "# Get the summary statistics for numerical variables\n",
        "df.describe().T"
      ]
    },
    {
      "cell_type": "code",
      "execution_count": null,
      "metadata": {},
      "outputs": [],
      "source": []
    },
    {
      "cell_type": "markdown",
      "metadata": {
        "id": "xlgX0UIyPyay"
      },
      "source": [
        "## **Step 3.3 | Summary Statistics for Categorical Variables**"
      ]
    },
    {
      "cell_type": "markdown",
      "metadata": {
        "id": "_vjfWvEKPyay"
      },
      "source": [
        "<div style=\"border-radius:10px; padding: 15px; background-color: #facfc8; font-size:115%; text-align:left\">\n",
        "\n",
        "Afterward, let's look at the summary statistics of the categorical features:"
      ]
    },
    {
      "cell_type": "code",
      "execution_count": 8,
      "metadata": {
        "colab": {
          "base_uri": "https://localhost:8080/",
          "height": 175
        },
        "execution": {
          "iopub.execute_input": "2025-03-02T15:32:11.005803Z",
          "iopub.status.busy": "2025-03-02T15:32:11.005419Z",
          "iopub.status.idle": "2025-03-02T15:32:11.01772Z",
          "shell.execute_reply": "2025-03-02T15:32:11.016311Z",
          "shell.execute_reply.started": "2025-03-02T15:32:11.005774Z"
        },
        "id": "ixkCWZ2LPyaz",
        "outputId": "cc716379-b9b3-4d55-d47a-8701b9c14d83",
        "trusted": true
      },
      "outputs": [
        {
          "data": {
            "text/html": [
              "<div>\n",
              "<style scoped>\n",
              "    .dataframe tbody tr th:only-of-type {\n",
              "        vertical-align: middle;\n",
              "    }\n",
              "\n",
              "    .dataframe tbody tr th {\n",
              "        vertical-align: top;\n",
              "    }\n",
              "\n",
              "    .dataframe thead th {\n",
              "        text-align: right;\n",
              "    }\n",
              "</style>\n",
              "<table border=\"1\" class=\"dataframe\">\n",
              "  <thead>\n",
              "    <tr style=\"text-align: right;\">\n",
              "      <th></th>\n",
              "      <th>Disease</th>\n",
              "    </tr>\n",
              "  </thead>\n",
              "  <tbody>\n",
              "    <tr>\n",
              "      <th>count</th>\n",
              "      <td>486</td>\n",
              "    </tr>\n",
              "    <tr>\n",
              "      <th>unique</th>\n",
              "      <td>6</td>\n",
              "    </tr>\n",
              "    <tr>\n",
              "      <th>top</th>\n",
              "      <td>Diabetes</td>\n",
              "    </tr>\n",
              "    <tr>\n",
              "      <th>freq</th>\n",
              "      <td>294</td>\n",
              "    </tr>\n",
              "  </tbody>\n",
              "</table>\n",
              "</div>"
            ],
            "text/plain": [
              "         Disease\n",
              "count        486\n",
              "unique         6\n",
              "top     Diabetes\n",
              "freq         294"
            ]
          },
          "execution_count": 8,
          "metadata": {},
          "output_type": "execute_result"
        }
      ],
      "source": [
        "# Get the summary statistics for categorical variables\n",
        "df.describe(include='object')"
      ]
    },
    {
      "cell_type": "markdown",
      "metadata": {
        "id": "Jqs5fuP5Pyaz"
      },
      "source": [
        "**Categorical Features:**\n",
        "\n",
        "* **`Disease`**: There are 6 unique values, with Diabetes being the most frequent category, occurring 834 times out of 2837 entries."
      ]
    },
    {
      "cell_type": "markdown",
      "metadata": {
        "id": "Ys7YLwd9Pyaz"
      },
      "source": [
        "# **Step 4 | EDA**"
      ]
    },
    {
      "cell_type": "markdown",
      "metadata": {
        "id": "Pk8hYQlFPya0"
      },
      "source": [
        "In our Exploratory Data Analysis (EDA), we'll proceed in two primary phases:\n",
        "\n",
        "1. **Univariate Analysis**: During this stage, our attention will be directed towards examining each feature independently to grasp its distribution and scope.\n",
        "\n",
        "2. **Multivariate Analysis**: In this phase, we'll delve into the connection between all features together excluding the target. This exploration aids in understanding the significance and impact of each feature on predicting the target outcome.\n",
        "\n",
        "Through these sequential steps, our objective is to gain insights into the distinctive attributes of the data as well as how each feature contributes to our overarching goal: **predicting the target variable**."
      ]
    },
    {
      "cell_type": "markdown",
      "metadata": {
        "id": "TxTmx1BnPya0"
      },
      "source": [
        "## **Step 4.1 | Univariate Analysis**"
      ]
    },
    {
      "cell_type": "markdown",
      "metadata": {
        "id": "yP9vIhFXPya0"
      },
      "source": [
        "We conduct univariate analysis on the dataset's features, distinguishing between their respective data types:\n",
        "\n",
        "* For **continuous data**: We utilize density plot to illuminate the distribution of each feature. This enables us to grasp the central tendency, dispersion, and form of the dataset's distribution.\n",
        "\n",
        "* For **categorical data**: Count plots are employed to depict the frequency of each category. This offers a concise portrayal of the prevalence of each category within its corresponding feature.\n",
        "\n",
        "By leveraging these visualization methods, we enhance our comprehension of the distinct attributes associated with each feature in the dataset."
      ]
    },
    {
      "cell_type": "markdown",
      "metadata": {
        "id": "xBeywsadPya1"
      },
      "source": [
        "### **Step 4.1.1 | Numerical Variables Univariate Analysis**"
      ]
    },
    {
      "cell_type": "code",
      "execution_count": 9,
      "metadata": {
        "execution": {
          "iopub.execute_input": "2025-03-02T15:32:11.019593Z",
          "iopub.status.busy": "2025-03-02T15:32:11.019197Z",
          "iopub.status.idle": "2025-03-02T15:32:11.031957Z",
          "shell.execute_reply": "2025-03-02T15:32:11.030734Z",
          "shell.execute_reply.started": "2025-03-02T15:32:11.019557Z"
        },
        "id": "hkiFczZuwjtx",
        "trusted": true
      },
      "outputs": [],
      "source": [
        "# Filter out continuous features for the univariate analysis\n",
        "df_continuous = df.iloc[:, :-1]"
      ]
    },
    {
      "cell_type": "code",
      "execution_count": 10,
      "metadata": {
        "execution": {
          "iopub.execute_input": "2025-03-02T15:32:11.035737Z",
          "iopub.status.busy": "2025-03-02T15:32:11.035307Z",
          "iopub.status.idle": "2025-03-02T15:32:11.048304Z",
          "shell.execute_reply": "2025-03-02T15:32:11.046983Z",
          "shell.execute_reply.started": "2025-03-02T15:32:11.035708Z"
        },
        "id": "_-UMVN8YPya1",
        "trusted": true
      },
      "outputs": [],
      "source": [
        "# # Set up the subplot\n",
        "# fig, axes = plt.subplots(nrows=4, ncols=6, figsize=(20, 12))\n",
        "# fig.tight_layout(pad=2.5)\n",
        "\n",
        "# axes = axes.flatten()\n",
        "\n",
        "# for i, col in enumerate(df_continuous.columns):\n",
        "#   sns.distplot(df_continuous[col], ax = axes[i])\n",
        "\n",
        "# plt.show()"
      ]
    },
    {
      "cell_type": "markdown",
      "metadata": {
        "id": "gtHQOGWnPya1"
      },
      "source": [
        "Upon reviewing the density plots of the continuous features and cross-referencing them with the provided feature descriptions, everything appears consistent and within expected ranges. __There doesn't seem to be any noticeable noise or implausible values among the continuous variables.__"
      ]
    },
    {
      "cell_type": "markdown",
      "metadata": {
        "id": "Z9dVd9BEPya2"
      },
      "source": [
        "### **Step 4.1.2 | Categorical Variables Univariate Analysis**"
      ]
    },
    {
      "cell_type": "code",
      "execution_count": 11,
      "metadata": {
        "colab": {
          "base_uri": "https://localhost:8080/",
          "height": 699
        },
        "execution": {
          "iopub.execute_input": "2025-03-02T15:32:11.05018Z",
          "iopub.status.busy": "2025-03-02T15:32:11.049776Z",
          "iopub.status.idle": "2025-03-02T15:32:11.42328Z",
          "shell.execute_reply": "2025-03-02T15:32:11.422068Z",
          "shell.execute_reply.started": "2025-03-02T15:32:11.05009Z"
        },
        "id": "aev1mK2VPya2",
        "outputId": "952becd0-c57e-4b37-b507-ae6685493f93",
        "trusted": true
      },
      "outputs": [
        {
          "name": "stderr",
          "output_type": "stream",
          "text": [
            "C:\\Users\\tohru\\AppData\\Local\\Temp\\ipykernel_9780\\3670151817.py:2: FutureWarning: \n",
            "\n",
            "Passing `palette` without assigning `hue` is deprecated and will be removed in v0.14.0. Assign the `x` variable to `hue` and set `legend=False` for the same effect.\n",
            "\n",
            "  sns.countplot(x=df['Disease'], data=df, palette=\"viridis\")\n"
          ]
        },
        {
          "data": {
            "image/png": "[encoded data removed]",
            "text/plain": [
              "<Figure size 700x600 with 1 Axes>"
            ]
          },
          "metadata": {},
          "output_type": "display_data"
        }
      ],
      "source": [
        "plt.figure(figsize=(7, 6))\n",
        "sns.countplot(x=df['Disease'], data=df, palette=\"viridis\")\n",
        "\n",
        "# Customize plot appearance\n",
        "plt.xlabel('Category')\n",
        "plt.ylabel('Count')\n",
        "plt.title('Distribution of Categories')\n",
        "plt.xticks(rotation=45)  # Rotate x-axis labels for better readability\n",
        "\n",
        "# Show plot\n",
        "plt.tight_layout()\n",
        "plt.show()"
      ]
    },
    {
      "cell_type": "markdown",
      "metadata": {
        "id": "T-n1MVtYPya3"
      },
      "source": [
        "The countplot of Disease feature reveals that **`Diabetes`** disease is the most prevalent, followed by **`Anemia`** disease and **`Healthy`** people. Diseases **`Thalasse`**, **`Thromboc`**, and **`Heart Di`** are relatively less common. This distribution suggests that **`Diabetes`** disease is the dominant category in the dataset, with a significantly higher frequency compared to other categories."
      ]
    },
    {
      "cell_type": "markdown",
      "metadata": {
        "id": "p33Q4HXLPya3"
      },
      "source": [
        "## **Step 4.2 | Multivariate Analysis**"
      ]
    },
    {
      "cell_type": "markdown",
      "metadata": {
        "id": "oLjjNtq1Pya-"
      },
      "source": [
        "For our __Multivariate analysis__ on the dataset's features:\n",
        "\n",
        "We will create a **correlation matrix** to detect the correlation between all variables except the target and determine whether there is a high correlation between some features so that we can limit the number of features."
      ]
    },
    {
      "cell_type": "code",
      "execution_count": 12,
      "metadata": {
        "colab": {
          "base_uri": "https://localhost:8080/",
          "height": 1000
        },
        "execution": {
          "iopub.execute_input": "2025-03-02T15:32:11.425031Z",
          "iopub.status.busy": "2025-03-02T15:32:11.424719Z",
          "iopub.status.idle": "2025-03-02T15:32:13.463415Z",
          "shell.execute_reply": "2025-03-02T15:32:13.462337Z",
          "shell.execute_reply.started": "2025-03-02T15:32:11.425005Z"
        },
        "id": "_SFbmQlrLJHU",
        "outputId": "0727415a-9ac6-422b-d65d-6386c2b6493d",
        "trusted": true
      },
      "outputs": [
        {
          "data": {
            "image/png": "[encoded data removed]",
            "text/plain": [
              "<Figure size 1500x1000 with 2 Axes>"
            ]
          },
          "metadata": {},
          "output_type": "display_data"
        }
      ],
      "source": [
        "plt.figure(figsize=(15,10))\n",
        "\n",
        "sns.heatmap(df_continuous.corr(), annot=True, fmt = \".2f\")\n",
        "\n",
        "plt.tight_layout()\n",
        "plt.show()"
      ]
    },
    {
      "cell_type": "code",
      "execution_count": 13,
      "metadata": {
        "colab": {
          "base_uri": "https://localhost:8080/"
        },
        "execution": {
          "iopub.execute_input": "2025-03-02T15:32:13.46519Z",
          "iopub.status.busy": "2025-03-02T15:32:13.464866Z",
          "iopub.status.idle": "2025-03-02T15:32:14.045805Z",
          "shell.execute_reply": "2025-03-02T15:32:14.044487Z",
          "shell.execute_reply.started": "2025-03-02T15:32:13.465156Z"
        },
        "id": "nB86anXIMm8S",
        "outputId": "70393973-b995-4be2-aec3-bb3f4f74b0bb",
        "trusted": true
      },
      "outputs": [
        {
          "name": "stdout",
          "output_type": "stream",
          "text": [
            "No high correlation is found.\n"
          ]
        }
      ],
      "source": [
        "# Check for high correlations\n",
        "\n",
        "high_correlation_found = False\n",
        "\n",
        "features = df_continuous.columns\n",
        "for feature1 in features:\n",
        "  for feature2 in features:\n",
        "    if feature1 != feature2:\n",
        "      corr = df_continuous.corr().loc[feature1, feature2]\n",
        "      if corr > 0.5 or corr < -0.5:\n",
        "        print(f\"Correlation coefficient between {feature1} and {feature2}: {corr}\")\n",
        "        high_correlation_found = True\n",
        "\n",
        "if not high_correlation_found:\n",
        "    print(\"No high correlation is found.\")"
      ]
    },
    {
      "cell_type": "markdown",
      "metadata": {
        "id": "U7yOJ4NhPG72"
      },
      "source": [
        "**Inference:**\n",
        "\n",
        "Upon analyzing the correlation matrix of the continuous features in our dataset, we observe that no pairs of features exhibit a high correlation coefficient (greater than 0.5 or less than -0.5). This indicates that there are no strong linear relationships between any of the continuous variables"
      ]
    },
    {
      "cell_type": "markdown",
      "metadata": {
        "id": "MtEI6SPVPybB"
      },
      "source": [
        "# **Step 5 | Data Preprocessing**"
      ]
    },
    {
      "cell_type": "markdown",
      "metadata": {
        "id": "bbV_zJRLPybB"
      },
      "source": [
        "## **Step 5.1 | Irrelevant Features Removal**"
      ]
    },
    {
      "cell_type": "markdown",
      "metadata": {
        "id": "o8mrgd-VPybB"
      },
      "source": [
        "<div style=\"border-radius:10px; padding: 15px; background-color: #facfc8; font-size:115%; text-align:left\">\n",
        "\n",
        "All features in the dataset appear to be relevant based on our __EDA__. No columns seem redundant or irrelevant. Thus, we'll retain all features, ensuring no valuable information is lost, especially given the dataset's small size."
      ]
    },
    {
      "cell_type": "markdown",
      "metadata": {
        "id": "cgRPuk_gPybB"
      },
      "source": [
        "## **Step 5.2 | Missing Value Treatment**"
      ]
    },
    {
      "cell_type": "code",
      "execution_count": 14,
      "metadata": {
        "colab": {
          "base_uri": "https://localhost:8080/"
        },
        "execution": {
          "iopub.execute_input": "2025-03-02T15:32:14.048552Z",
          "iopub.status.busy": "2025-03-02T15:32:14.047909Z",
          "iopub.status.idle": "2025-03-02T15:32:14.058895Z",
          "shell.execute_reply": "2025-03-02T15:32:14.057334Z",
          "shell.execute_reply.started": "2025-03-02T15:32:14.048509Z"
        },
        "id": "TfhBsCHrPybB",
        "outputId": "fff9ae6b-7284-40c7-fb06-e5eddac7839b",
        "trusted": true
      },
      "outputs": [
        {
          "data": {
            "text/plain": [
              "0"
            ]
          },
          "execution_count": 14,
          "metadata": {},
          "output_type": "execute_result"
        }
      ],
      "source": [
        "# Check for missing values in the dataset\n",
        "df.isnull().sum().sum()"
      ]
    },
    {
      "cell_type": "markdown",
      "metadata": {
        "id": "gNO0b-TkPybC"
      },
      "source": [
        " Upon our above inspection, it is obvious that there are no missing values in our dataset. This is ideal as it means we don't have to make decisions about imputation or removal, which can introduce bias or reduce our already limited dataset size."
      ]
    },
    {
      "cell_type": "markdown",
      "metadata": {
        "id": "YL208wSmKWso"
      },
      "source": [
        "## **Step 5.3 | Duplicated Values Treatment**"
      ]
    },
    {
      "cell_type": "code",
      "execution_count": 15,
      "metadata": {
        "colab": {
          "base_uri": "https://localhost:8080/"
        },
        "execution": {
          "iopub.execute_input": "2025-03-02T15:32:14.061395Z",
          "iopub.status.busy": "2025-03-02T15:32:14.060937Z",
          "iopub.status.idle": "2025-03-02T15:32:14.075725Z",
          "shell.execute_reply": "2025-03-02T15:32:14.07461Z",
          "shell.execute_reply.started": "2025-03-02T15:32:14.061351Z"
        },
        "id": "eMmQpx1GKhMX",
        "outputId": "e270e0ed-58d1-477a-cc2d-fb601bd8a26f",
        "trusted": true
      },
      "outputs": [
        {
          "data": {
            "text/plain": [
              "0"
            ]
          },
          "execution_count": 15,
          "metadata": {},
          "output_type": "execute_result"
        }
      ],
      "source": [
        "df.duplicated().sum()"
      ]
    },
    {
      "cell_type": "code",
      "execution_count": 16,
      "metadata": {
        "colab": {
          "base_uri": "https://localhost:8080/"
        },
        "execution": {
          "iopub.execute_input": "2025-03-02T15:32:14.077312Z",
          "iopub.status.busy": "2025-03-02T15:32:14.076914Z",
          "iopub.status.idle": "2025-03-02T15:32:14.095232Z",
          "shell.execute_reply": "2025-03-02T15:32:14.094081Z",
          "shell.execute_reply.started": "2025-03-02T15:32:14.077276Z"
        },
        "id": "3_cYa-Z7Kwgl",
        "outputId": "0a179f58-2f8c-494d-cff7-9f068de601f6",
        "trusted": true
      },
      "outputs": [
        {
          "name": "stderr",
          "output_type": "stream",
          "text": [
            "C:\\Users\\tohru\\AppData\\Local\\Temp\\ipykernel_9780\\808328302.py:1: SettingWithCopyWarning: \n",
            "A value is trying to be set on a copy of a slice from a DataFrame\n",
            "\n",
            "See the caveats in the documentation: https://pandas.pydata.org/pandas-docs/stable/user_guide/indexing.html#returning-a-view-versus-a-copy\n",
            "  df.drop_duplicates(inplace = True)\n"
          ]
        },
        {
          "data": {
            "text/plain": [
              "0"
            ]
          },
          "execution_count": 16,
          "metadata": {},
          "output_type": "execute_result"
        }
      ],
      "source": [
        "df.drop_duplicates(inplace = True)\n",
        "df.duplicated().sum()"
      ]
    },
    {
      "cell_type": "code",
      "execution_count": 17,
      "metadata": {
        "colab": {
          "base_uri": "https://localhost:8080/"
        },
        "execution": {
          "iopub.execute_input": "2025-03-02T15:32:14.097813Z",
          "iopub.status.busy": "2025-03-02T15:32:14.097357Z",
          "iopub.status.idle": "2025-03-02T15:32:14.109694Z",
          "shell.execute_reply": "2025-03-02T15:32:14.108364Z",
          "shell.execute_reply.started": "2025-03-02T15:32:14.097777Z"
        },
        "id": "l3tb9kTFDGPL",
        "outputId": "b5ca9110-194d-48f3-a1dc-2a97ea443f9e",
        "trusted": true
      },
      "outputs": [
        {
          "data": {
            "text/plain": [
              "(486, 6)"
            ]
          },
          "execution_count": 17,
          "metadata": {},
          "output_type": "execute_result"
        }
      ],
      "source": [
        "df.shape"
      ]
    },
    {
      "cell_type": "markdown",
      "metadata": {
        "id": "LwTcvgsvK87h"
      },
      "source": [
        "Upon our above inspection, we found that there were about **2286** duplicated records in our dataset. We addressed this issue by dropping the duplicates. This is ideal as it helps to ensure the integrity of our data by eliminating redundant entries, thus providing a more accurate analysis"
      ]
    },
    {
      "cell_type": "markdown",
      "metadata": {
        "id": "vhQfc-DoPybC"
      },
      "source": [
        "## **Step 5.4 | Outlier Treatment**"
      ]
    },
    {
      "cell_type": "markdown",
      "metadata": {
        "id": "LZi7lorkPybC"
      },
      "source": [
        "<div style=\"border-radius:10px; padding: 15px; background-color: #facfc8; font-size:115%; text-align:left\">\n",
        "\n",
        "I am going to check for outliers using the __IQR method__ for the continuous features:"
      ]
    },
    {
      "cell_type": "code",
      "execution_count": 18,
      "metadata": {
        "execution": {
          "iopub.execute_input": "2025-03-02T15:32:14.112155Z",
          "iopub.status.busy": "2025-03-02T15:32:14.111735Z",
          "iopub.status.idle": "2025-03-02T15:32:14.122459Z",
          "shell.execute_reply": "2025-03-02T15:32:14.121288Z",
          "shell.execute_reply.started": "2025-03-02T15:32:14.112119Z"
        },
        "id": "sdpgrZvwPybD",
        "trusted": true
      },
      "outputs": [],
      "source": [
        "continuous_features = df_continuous.columns.to_list()"
      ]
    },
    {
      "cell_type": "code",
      "execution_count": 19,
      "metadata": {
        "colab": {
          "base_uri": "https://localhost:8080/",
          "height": 836
        },
        "execution": {
          "iopub.execute_input": "2025-03-02T15:32:14.124588Z",
          "iopub.status.busy": "2025-03-02T15:32:14.124242Z",
          "iopub.status.idle": "2025-03-02T15:32:14.160779Z",
          "shell.execute_reply": "2025-03-02T15:32:14.159518Z",
          "shell.execute_reply.started": "2025-03-02T15:32:14.124561Z"
        },
        "id": "piMoUJt1PybD",
        "outputId": "7e766005-b798-42f6-8af1-35cc0c2e637b",
        "trusted": true
      },
      "outputs": [
        {
          "data": {
            "text/plain": [
              "Glucose                     0\n",
              "Systolic Blood Pressure     0\n",
              "Diastolic Blood Pressure    0\n",
              "BMI                         0\n",
              "Heart Rate                  0\n",
              "dtype: int64"
            ]
          },
          "execution_count": 19,
          "metadata": {},
          "output_type": "execute_result"
        }
      ],
      "source": [
        "Q1 = df[continuous_features].quantile(0.25)\n",
        "Q3 = df[continuous_features].quantile(0.75)\n",
        "IQR = Q3 - Q1\n",
        "outliers_count_specified = ((df[continuous_features] < (Q1 - 1.5 * IQR)) | (df[continuous_features] > (Q3 + 1.5 * IQR))).sum()\n",
        "\n",
        "outliers_count_specified"
      ]
    },
    {
      "cell_type": "markdown",
      "metadata": {
        "id": "mw4enTHrPybD"
      },
      "source": [
        "Upon identifying outliers for the specified continuous features, we found the following:\n",
        "\n",
        "**There are no outliers detected in this data**"
      ]
    },
    {
      "cell_type": "markdown",
      "metadata": {
        "id": "9MCxxHxEPybE"
      },
      "source": [
        "## **Step 5.5 | Disease Feature Encoding**"
      ]
    },
    {
      "cell_type": "code",
      "execution_count": 20,
      "metadata": {
        "colab": {
          "base_uri": "https://localhost:8080/",
          "height": 441
        },
        "execution": {
          "iopub.execute_input": "2025-03-02T15:32:14.163522Z",
          "iopub.status.busy": "2025-03-02T15:32:14.16247Z",
          "iopub.status.idle": "2025-03-02T15:32:14.196642Z",
          "shell.execute_reply": "2025-03-02T15:32:14.195326Z",
          "shell.execute_reply.started": "2025-03-02T15:32:14.163479Z"
        },
        "id": "sBnsIijCPybE",
        "outputId": "53e08b39-e245-4445-ce5f-8b3b9d3b52fa",
        "trusted": true
      },
      "outputs": [
        {
          "name": "stderr",
          "output_type": "stream",
          "text": [
            "C:\\Users\\tohru\\AppData\\Local\\Temp\\ipykernel_9780\\414813572.py:2: SettingWithCopyWarning: \n",
            "A value is trying to be set on a copy of a slice from a DataFrame.\n",
            "Try using .loc[row_indexer,col_indexer] = value instead\n",
            "\n",
            "See the caveats in the documentation: https://pandas.pydata.org/pandas-docs/stable/user_guide/indexing.html#returning-a-view-versus-a-copy\n",
            "  df.Disease = [0 if value == \"Healthy\" else 1 for value in df.Disease]\n"
          ]
        },
        {
          "data": {
            "text/html": [
              "<div>\n",
              "<style scoped>\n",
              "    .dataframe tbody tr th:only-of-type {\n",
              "        vertical-align: middle;\n",
              "    }\n",
              "\n",
              "    .dataframe tbody tr th {\n",
              "        vertical-align: top;\n",
              "    }\n",
              "\n",
              "    .dataframe thead th {\n",
              "        text-align: right;\n",
              "    }\n",
              "</style>\n",
              "<table border=\"1\" class=\"dataframe\">\n",
              "  <thead>\n",
              "    <tr style=\"text-align: right;\">\n",
              "      <th></th>\n",
              "      <th>Glucose</th>\n",
              "      <th>Systolic Blood Pressure</th>\n",
              "      <th>Diastolic Blood Pressure</th>\n",
              "      <th>BMI</th>\n",
              "      <th>Heart Rate</th>\n",
              "      <th>Disease</th>\n",
              "    </tr>\n",
              "  </thead>\n",
              "  <tbody>\n",
              "    <tr>\n",
              "      <th>0</th>\n",
              "      <td>0.343810</td>\n",
              "      <td>0.085629</td>\n",
              "      <td>0.193549</td>\n",
              "      <td>0.122491</td>\n",
              "      <td>0.695120</td>\n",
              "      <td>1</td>\n",
              "    </tr>\n",
              "    <tr>\n",
              "      <th>1</th>\n",
              "      <td>0.588391</td>\n",
              "      <td>0.756371</td>\n",
              "      <td>0.801113</td>\n",
              "      <td>0.448985</td>\n",
              "      <td>0.098292</td>\n",
              "      <td>1</td>\n",
              "    </tr>\n",
              "    <tr>\n",
              "      <th>2</th>\n",
              "      <td>0.891698</td>\n",
              "      <td>0.870922</td>\n",
              "      <td>0.583618</td>\n",
              "      <td>0.225409</td>\n",
              "      <td>0.798999</td>\n",
              "      <td>1</td>\n",
              "    </tr>\n",
              "    <tr>\n",
              "      <th>3</th>\n",
              "      <td>0.206044</td>\n",
              "      <td>0.668503</td>\n",
              "      <td>0.786053</td>\n",
              "      <td>0.666999</td>\n",
              "      <td>0.606609</td>\n",
              "      <td>1</td>\n",
              "    </tr>\n",
              "    <tr>\n",
              "      <th>4</th>\n",
              "      <td>0.731964</td>\n",
              "      <td>0.897867</td>\n",
              "      <td>0.100140</td>\n",
              "      <td>0.100068</td>\n",
              "      <td>0.650860</td>\n",
              "      <td>1</td>\n",
              "    </tr>\n",
              "    <tr>\n",
              "      <th>...</th>\n",
              "      <td>...</td>\n",
              "      <td>...</td>\n",
              "      <td>...</td>\n",
              "      <td>...</td>\n",
              "      <td>...</td>\n",
              "      <td>...</td>\n",
              "    </tr>\n",
              "    <tr>\n",
              "      <th>481</th>\n",
              "      <td>0.007326</td>\n",
              "      <td>0.361580</td>\n",
              "      <td>0.301006</td>\n",
              "      <td>0.212883</td>\n",
              "      <td>0.138868</td>\n",
              "      <td>1</td>\n",
              "    </tr>\n",
              "    <tr>\n",
              "      <th>482</th>\n",
              "      <td>0.939915</td>\n",
              "      <td>0.477879</td>\n",
              "      <td>0.911750</td>\n",
              "      <td>0.619085</td>\n",
              "      <td>0.351861</td>\n",
              "      <td>1</td>\n",
              "    </tr>\n",
              "    <tr>\n",
              "      <th>483</th>\n",
              "      <td>0.539449</td>\n",
              "      <td>0.545533</td>\n",
              "      <td>0.240665</td>\n",
              "      <td>0.335474</td>\n",
              "      <td>0.187228</td>\n",
              "      <td>1</td>\n",
              "    </tr>\n",
              "    <tr>\n",
              "      <th>484</th>\n",
              "      <td>0.693828</td>\n",
              "      <td>0.966761</td>\n",
              "      <td>0.836813</td>\n",
              "      <td>0.190500</td>\n",
              "      <td>0.112558</td>\n",
              "      <td>1</td>\n",
              "    </tr>\n",
              "    <tr>\n",
              "      <th>485</th>\n",
              "      <td>0.269342</td>\n",
              "      <td>0.942680</td>\n",
              "      <td>0.187483</td>\n",
              "      <td>0.642451</td>\n",
              "      <td>0.626009</td>\n",
              "      <td>1</td>\n",
              "    </tr>\n",
              "  </tbody>\n",
              "</table>\n",
              "<p>486 rows × 6 columns</p>\n",
              "</div>"
            ],
            "text/plain": [
              "      Glucose  Systolic Blood Pressure  Diastolic Blood Pressure       BMI  \\\n",
              "0    0.343810                 0.085629                  0.193549  0.122491   \n",
              "1    0.588391                 0.756371                  0.801113  0.448985   \n",
              "2    0.891698                 0.870922                  0.583618  0.225409   \n",
              "3    0.206044                 0.668503                  0.786053  0.666999   \n",
              "4    0.731964                 0.897867                  0.100140  0.100068   \n",
              "..        ...                      ...                       ...       ...   \n",
              "481  0.007326                 0.361580                  0.301006  0.212883   \n",
              "482  0.939915                 0.477879                  0.911750  0.619085   \n",
              "483  0.539449                 0.545533                  0.240665  0.335474   \n",
              "484  0.693828                 0.966761                  0.836813  0.190500   \n",
              "485  0.269342                 0.942680                  0.187483  0.642451   \n",
              "\n",
              "     Heart Rate  Disease  \n",
              "0      0.695120        1  \n",
              "1      0.098292        1  \n",
              "2      0.798999        1  \n",
              "3      0.606609        1  \n",
              "4      0.650860        1  \n",
              "..          ...      ...  \n",
              "481    0.138868        1  \n",
              "482    0.351861        1  \n",
              "483    0.187228        1  \n",
              "484    0.112558        1  \n",
              "485    0.626009        1  \n",
              "\n",
              "[486 rows x 6 columns]"
            ]
          },
          "execution_count": 20,
          "metadata": {},
          "output_type": "execute_result"
        }
      ],
      "source": [
        "# Convert target to numerical values\n",
        "df.Disease = [0 if value == \"Healthy\" else 1 for value in df.Disease]\n",
        "\n",
        "df"
      ]
    },
    {
      "cell_type": "code",
      "execution_count": 21,
      "metadata": {
        "colab": {
          "base_uri": "https://localhost:8080/",
          "height": 422
        },
        "execution": {
          "iopub.execute_input": "2025-03-02T15:32:14.198904Z",
          "iopub.status.busy": "2025-03-02T15:32:14.19844Z",
          "iopub.status.idle": "2025-03-02T15:32:14.333331Z",
          "shell.execute_reply": "2025-03-02T15:32:14.331772Z",
          "shell.execute_reply.started": "2025-03-02T15:32:14.198865Z"
        },
        "id": "dL-NUdw2PybE",
        "outputId": "4e91d0b6-6ab4-4042-be02-7901867c4f77",
        "trusted": true
      },
      "outputs": [
        {
          "data": {
            "image/png": "[encoded data removed]",
            "text/plain": [
              "<Figure size 500x500 with 1 Axes>"
            ]
          },
          "metadata": {},
          "output_type": "display_data"
        }
      ],
      "source": [
        "plt.figure(figsize = (5,5))\n",
        "\n",
        "labels = ['Disease','Healthy']\n",
        "explode = [0, 0.1]\n",
        "\n",
        "plt.pie(df.Disease.value_counts(), labels = labels, explode = explode, autopct = '%1.1f%%')\n",
        "\n",
        "plt.show()"
      ]
    },
    {
      "cell_type": "markdown",
      "metadata": {
        "id": "4Myc7HeoRn4S"
      },
      "source": [
        "The chart drawn clearly indicates a **class imbalance**, which, if not addressed, can lead to significant issues in model performance. This imbalance will likely cause the model to be biased towards the majority class, resulting in poor recognition of the minority class and unreliable predictions. Therefore, it's crucial to implement strategies to mitigate this imbalance to ensure the model's accuracy and robustness across all classes."
      ]
    },
    {
      "cell_type": "markdown",
      "metadata": {
        "id": "hK1VqzbRPybF"
      },
      "source": [
        "## **Step 5.6 | Oversampling disease feature using SMOTE**"
      ]
    },
    {
      "cell_type": "code",
      "execution_count": 22,
      "metadata": {
        "colab": {
          "base_uri": "https://localhost:8080/"
        },
        "execution": {
          "iopub.execute_input": "2025-03-02T15:32:14.335535Z",
          "iopub.status.busy": "2025-03-02T15:32:14.334982Z",
          "iopub.status.idle": "2025-03-02T15:32:14.357559Z",
          "shell.execute_reply": "2025-03-02T15:32:14.354237Z",
          "shell.execute_reply.started": "2025-03-02T15:32:14.33549Z"
        },
        "id": "EFK8uHr9HvYK",
        "outputId": "1c594848-4aec-4cea-91fe-acfa5adcdf2b",
        "trusted": true
      },
      "outputs": [
        {
          "data": {
            "text/plain": [
              "(486, 5)"
            ]
          },
          "execution_count": 22,
          "metadata": {},
          "output_type": "execute_result"
        }
      ],
      "source": [
        "# updating numerical data\n",
        "\n",
        "df_continuous = df.drop('Disease', axis=1)\n",
        "df_continuous.shape"
      ]
    },
    {
      "cell_type": "code",
      "execution_count": 23,
      "metadata": {
        "execution": {
          "iopub.execute_input": "2025-03-02T15:32:14.359961Z",
          "iopub.status.busy": "2025-03-02T15:32:14.359375Z",
          "iopub.status.idle": "2025-03-02T15:32:14.466343Z",
          "shell.execute_reply": "2025-03-02T15:32:14.463493Z",
          "shell.execute_reply.started": "2025-03-02T15:32:14.359905Z"
        },
        "id": "5VgShc31S5nP",
        "trusted": true
      },
      "outputs": [],
      "source": [
        "from imblearn.over_sampling import SMOTE\n",
        "\n",
        "# Ensure k_neighbors <= n_samples - 1\n",
        "smote = SMOTE(random_state=43, k_neighbors=min(2, len(df_continuous)-1))\n",
        "x_resampled, y_resampled = smote.fit_resample(df_continuous, df['Disease'])\n"
      ]
    },
    {
      "cell_type": "code",
      "execution_count": 24,
      "metadata": {
        "colab": {
          "base_uri": "https://localhost:8080/"
        },
        "execution": {
          "iopub.status.busy": "2025-03-02T15:32:14.467894Z",
          "iopub.status.idle": "2025-03-02T15:32:14.468488Z",
          "shell.execute_reply": "2025-03-02T15:32:14.468236Z",
          "shell.execute_reply.started": "2025-03-02T15:32:14.468212Z"
        },
        "id": "IeiZKwNqIi97",
        "outputId": "9999b64d-143a-4845-b249-3cffa6c1c642",
        "trusted": true
      },
      "outputs": [
        {
          "name": "stdout",
          "output_type": "stream",
          "text": [
            "shape of resampled x: (962, 5)\n",
            "shape of resampled y: (962,)\n"
          ]
        }
      ],
      "source": [
        "print(\"shape of resampled x:\", x_resampled.shape)\n",
        "print(\"shape of resampled y:\", y_resampled.shape)"
      ]
    },
    {
      "cell_type": "code",
      "execution_count": 25,
      "metadata": {
        "colab": {
          "base_uri": "https://localhost:8080/",
          "height": 268
        },
        "execution": {
          "iopub.status.busy": "2025-03-02T15:32:14.470518Z",
          "iopub.status.idle": "2025-03-02T15:32:14.470967Z",
          "shell.execute_reply": "2025-03-02T15:32:14.470804Z",
          "shell.execute_reply.started": "2025-03-02T15:32:14.470787Z"
        },
        "id": "MGL9iEVKIxB0",
        "outputId": "0c47b45e-5dd5-4fc4-f8b0-55570bf681aa",
        "trusted": true
      },
      "outputs": [
        {
          "data": {
            "image/png": "[encoded data removed]",
            "text/plain": [
              "<Figure size 300x300 with 1 Axes>"
            ]
          },
          "metadata": {},
          "output_type": "display_data"
        }
      ],
      "source": [
        "plt.figure(figsize = (3,3))\n",
        "\n",
        "labels = ['Disease','Healthy']\n",
        "explode = [0, 0.1]\n",
        "\n",
        "plt.pie(y_resampled.value_counts(), labels = labels, autopct = '%1.1f%%')\n",
        "\n",
        "plt.show()"
      ]
    },
    {
      "cell_type": "markdown",
      "metadata": {
        "id": "ApQPRkc5PybF"
      },
      "source": [
        "As we see we resolved the imbalance issue using oversampling with smote, making the two classes **equal**"
      ]
    },
    {
      "cell_type": "markdown",
      "metadata": {
        "id": "Ac07F_9DJ8P0"
      },
      "source": [
        "## **Step 5.7 | Splitting the data into train and test sets**"
      ]
    },
    {
      "cell_type": "code",
      "execution_count": 26,
      "metadata": {
        "execution": {
          "iopub.status.busy": "2025-03-02T15:32:14.472302Z",
          "iopub.status.idle": "2025-03-02T15:32:14.472713Z",
          "shell.execute_reply": "2025-03-02T15:32:14.472525Z",
          "shell.execute_reply.started": "2025-03-02T15:32:14.47251Z"
        },
        "id": "gPbey7WkPybG",
        "trusted": true
      },
      "outputs": [],
      "source": [
        "# Splitting data into train and test sets\n",
        "x_train, x_test, y_train, y_test = train_test_split(x_resampled, y_resampled, test_size=0.2, random_state=0)"
      ]
    },
    {
      "cell_type": "code",
      "execution_count": 27,
      "metadata": {
        "colab": {
          "base_uri": "https://localhost:8080/"
        },
        "execution": {
          "iopub.status.busy": "2025-03-02T15:32:14.474692Z",
          "iopub.status.idle": "2025-03-02T15:32:14.475081Z",
          "shell.execute_reply": "2025-03-02T15:32:14.474927Z",
          "shell.execute_reply.started": "2025-03-02T15:32:14.474912Z"
        },
        "id": "G5Hcn6IMPybG",
        "outputId": "dc2f618d-caaa-4f0f-c398-4ea4fb39fd41",
        "trusted": true
      },
      "outputs": [
        {
          "name": "stdout",
          "output_type": "stream",
          "text": [
            "Shape of x-train: (769, 5) | Shape of y-train: (769,)\n",
            "Shape of x-test: (193, 5) | Shape of y-test: (193,)\n"
          ]
        }
      ],
      "source": [
        "print(f\"Shape of x-train: {x_train.shape} | Shape of y-train: {y_train.shape}\")\n",
        "print(f\"Shape of x-test: {x_test.shape} | Shape of y-test: {y_test.shape}\")"
      ]
    },
    {
      "cell_type": "markdown",
      "metadata": {
        "id": "uEJtZwxzPybI"
      },
      "source": [
        "# **Step 6 | Building Models**"
      ]
    },
    {
      "cell_type": "markdown",
      "metadata": {
        "id": "Wloc6FvYyNBk"
      },
      "source": [
        "let's first build a logistic regression model"
      ]
    },
    {
      "cell_type": "markdown",
      "metadata": {
        "id": "QHa5RP_fPybI"
      },
      "source": [
        "## **Step 6.1 | Building Logistic Regression Model**"
      ]
    },
    {
      "cell_type": "markdown",
      "metadata": {
        "id": "cRDhdb2asdFY"
      },
      "source": [
        "### **Step 6.1.1 | Training the model**"
      ]
    },
    {
      "cell_type": "code",
      "execution_count": 28,
      "metadata": {
        "colab": {
          "base_uri": "https://localhost:8080/",
          "height": 80
        },
        "execution": {
          "iopub.status.busy": "2025-03-02T15:32:14.477051Z",
          "iopub.status.idle": "2025-03-02T15:32:14.477451Z",
          "shell.execute_reply": "2025-03-02T15:32:14.477287Z",
          "shell.execute_reply.started": "2025-03-02T15:32:14.47727Z"
        },
        "id": "7F_EglBjPybI",
        "outputId": "4a8ab023-411a-4139-e846-1f77ed6b3fe5",
        "trusted": true
      },
      "outputs": [
        {
          "data": {
            "text/html": [
              "<style>#sk-container-id-1 {\n",
              "  /* Definition of color scheme common for light and dark mode */\n",
              "  --sklearn-color-text: black;\n",
              "  --sklearn-color-line: gray;\n",
              "  /* Definition of color scheme for unfitted estimators */\n",
              "  --sklearn-color-unfitted-level-0: #fff5e6;\n",
              "  --sklearn-color-unfitted-level-1: #f6e4d2;\n",
              "  --sklearn-color-unfitted-level-2: #ffe0b3;\n",
              "  --sklearn-color-unfitted-level-3: chocolate;\n",
              "  /* Definition of color scheme for fitted estimators */\n",
              "  --sklearn-color-fitted-level-0: #f0f8ff;\n",
              "  --sklearn-color-fitted-level-1: #d4ebff;\n",
              "  --sklearn-color-fitted-level-2: #b3dbfd;\n",
              "  --sklearn-color-fitted-level-3: cornflowerblue;\n",
              "\n",
              "  /* Specific color for light theme */\n",
              "  --sklearn-color-text-on-default-background: var(--sg-text-color, var(--theme-code-foreground, var(--jp-content-font-color1, black)));\n",
              "  --sklearn-color-background: var(--sg-background-color, var(--theme-background, var(--jp-layout-color0, white)));\n",
              "  --sklearn-color-border-box: var(--sg-text-color, var(--theme-code-foreground, var(--jp-content-font-color1, black)));\n",
              "  --sklearn-color-icon: #696969;\n",
              "\n",
              "  @media (prefers-color-scheme: dark) {\n",
              "    /* Redefinition of color scheme for dark theme */\n",
              "    --sklearn-color-text-on-default-background: var(--sg-text-color, var(--theme-code-foreground, var(--jp-content-font-color1, white)));\n",
              "    --sklearn-color-background: var(--sg-background-color, var(--theme-background, var(--jp-layout-color0, #111)));\n",
              "    --sklearn-color-border-box: var(--sg-text-color, var(--theme-code-foreground, var(--jp-content-font-color1, white)));\n",
              "    --sklearn-color-icon: #878787;\n",
              "  }\n",
              "}\n",
              "\n",
              "#sk-container-id-1 {\n",
              "  color: var(--sklearn-color-text);\n",
              "}\n",
              "\n",
              "#sk-container-id-1 pre {\n",
              "  padding: 0;\n",
              "}\n",
              "\n",
              "#sk-container-id-1 input.sk-hidden--visually {\n",
              "  border: 0;\n",
              "  clip: rect(1px 1px 1px 1px);\n",
              "  clip: rect(1px, 1px, 1px, 1px);\n",
              "  height: 1px;\n",
              "  margin: -1px;\n",
              "  overflow: hidden;\n",
              "  padding: 0;\n",
              "  position: absolute;\n",
              "  width: 1px;\n",
              "}\n",
              "\n",
              "#sk-container-id-1 div.sk-dashed-wrapped {\n",
              "  border: 1px dashed var(--sklearn-color-line);\n",
              "  margin: 0 0.4em 0.5em 0.4em;\n",
              "  box-sizing: border-box;\n",
              "  padding-bottom: 0.4em;\n",
              "  background-color: var(--sklearn-color-background);\n",
              "}\n",
              "\n",
              "#sk-container-id-1 div.sk-container {\n",
              "  /* jupyter's `normalize.less` sets `[hidden] { display: none; }`\n",
              "     but bootstrap.min.css set `[hidden] { display: none !important; }`\n",
              "     so we also need the `!important` here to be able to override the\n",
              "     default hidden behavior on the sphinx rendered scikit-learn.org.\n",
              "     See: https://github.com/scikit-learn/scikit-learn/issues/21755 */\n",
              "  display: inline-block !important;\n",
              "  position: relative;\n",
              "}\n",
              "\n",
              "#sk-container-id-1 div.sk-text-repr-fallback {\n",
              "  display: none;\n",
              "}\n",
              "\n",
              "div.sk-parallel-item,\n",
              "div.sk-serial,\n",
              "div.sk-item {\n",
              "  /* draw centered vertical line to link estimators */\n",
              "  background-image: linear-gradient(var(--sklearn-color-text-on-default-background), var(--sklearn-color-text-on-default-background));\n",
              "  background-size: 2px 100%;\n",
              "  background-repeat: no-repeat;\n",
              "  background-position: center center;\n",
              "}\n",
              "\n",
              "/* Parallel-specific style estimator block */\n",
              "\n",
              "#sk-container-id-1 div.sk-parallel-item::after {\n",
              "  content: \"\";\n",
              "  width: 100%;\n",
              "  border-bottom: 2px solid var(--sklearn-color-text-on-default-background);\n",
              "  flex-grow: 1;\n",
              "}\n",
              "\n",
              "#sk-container-id-1 div.sk-parallel {\n",
              "  display: flex;\n",
              "  align-items: stretch;\n",
              "  justify-content: center;\n",
              "  background-color: var(--sklearn-color-background);\n",
              "  position: relative;\n",
              "}\n",
              "\n",
              "#sk-container-id-1 div.sk-parallel-item {\n",
              "  display: flex;\n",
              "  flex-direction: column;\n",
              "}\n",
              "\n",
              "#sk-container-id-1 div.sk-parallel-item:first-child::after {\n",
              "  align-self: flex-end;\n",
              "  width: 50%;\n",
              "}\n",
              "\n",
              "#sk-container-id-1 div.sk-parallel-item:last-child::after {\n",
              "  align-self: flex-start;\n",
              "  width: 50%;\n",
              "}\n",
              "\n",
              "#sk-container-id-1 div.sk-parallel-item:only-child::after {\n",
              "  width: 0;\n",
              "}\n",
              "\n",
              "/* Serial-specific style estimator block */\n",
              "\n",
              "#sk-container-id-1 div.sk-serial {\n",
              "  display: flex;\n",
              "  flex-direction: column;\n",
              "  align-items: center;\n",
              "  background-color: var(--sklearn-color-background);\n",
              "  padding-right: 1em;\n",
              "  padding-left: 1em;\n",
              "}\n",
              "\n",
              "\n",
              "/* Toggleable style: style used for estimator/Pipeline/ColumnTransformer box that is\n",
              "clickable and can be expanded/collapsed.\n",
              "- Pipeline and ColumnTransformer use this feature and define the default style\n",
              "- Estimators will overwrite some part of the style using the `sk-estimator` class\n",
              "*/\n",
              "\n",
              "/* Pipeline and ColumnTransformer style (default) */\n",
              "\n",
              "#sk-container-id-1 div.sk-toggleable {\n",
              "  /* Default theme specific background. It is overwritten whether we have a\n",
              "  specific estimator or a Pipeline/ColumnTransformer */\n",
              "  background-color: var(--sklearn-color-background);\n",
              "}\n",
              "\n",
              "/* Toggleable label */\n",
              "#sk-container-id-1 label.sk-toggleable__label {\n",
              "  cursor: pointer;\n",
              "  display: block;\n",
              "  width: 100%;\n",
              "  margin-bottom: 0;\n",
              "  padding: 0.5em;\n",
              "  box-sizing: border-box;\n",
              "  text-align: center;\n",
              "}\n",
              "\n",
              "#sk-container-id-1 label.sk-toggleable__label-arrow:before {\n",
              "  /* Arrow on the left of the label */\n",
              "  content: \"▸\";\n",
              "  float: left;\n",
              "  margin-right: 0.25em;\n",
              "  color: var(--sklearn-color-icon);\n",
              "}\n",
              "\n",
              "#sk-container-id-1 label.sk-toggleable__label-arrow:hover:before {\n",
              "  color: var(--sklearn-color-text);\n",
              "}\n",
              "\n",
              "/* Toggleable content - dropdown */\n",
              "\n",
              "#sk-container-id-1 div.sk-toggleable__content {\n",
              "  max-height: 0;\n",
              "  max-width: 0;\n",
              "  overflow: hidden;\n",
              "  text-align: left;\n",
              "  /* unfitted */\n",
              "  background-color: var(--sklearn-color-unfitted-level-0);\n",
              "}\n",
              "\n",
              "#sk-container-id-1 div.sk-toggleable__content.fitted {\n",
              "  /* fitted */\n",
              "  background-color: var(--sklearn-color-fitted-level-0);\n",
              "}\n",
              "\n",
              "#sk-container-id-1 div.sk-toggleable__content pre {\n",
              "  margin: 0.2em;\n",
              "  border-radius: 0.25em;\n",
              "  color: var(--sklearn-color-text);\n",
              "  /* unfitted */\n",
              "  background-color: var(--sklearn-color-unfitted-level-0);\n",
              "}\n",
              "\n",
              "#sk-container-id-1 div.sk-toggleable__content.fitted pre {\n",
              "  /* unfitted */\n",
              "  background-color: var(--sklearn-color-fitted-level-0);\n",
              "}\n",
              "\n",
              "#sk-container-id-1 input.sk-toggleable__control:checked~div.sk-toggleable__content {\n",
              "  /* Expand drop-down */\n",
              "  max-height: 200px;\n",
              "  max-width: 100%;\n",
              "  overflow: auto;\n",
              "}\n",
              "\n",
              "#sk-container-id-1 input.sk-toggleable__control:checked~label.sk-toggleable__label-arrow:before {\n",
              "  content: \"▾\";\n",
              "}\n",
              "\n",
              "/* Pipeline/ColumnTransformer-specific style */\n",
              "\n",
              "#sk-container-id-1 div.sk-label input.sk-toggleable__control:checked~label.sk-toggleable__label {\n",
              "  color: var(--sklearn-color-text);\n",
              "  background-color: var(--sklearn-color-unfitted-level-2);\n",
              "}\n",
              "\n",
              "#sk-container-id-1 div.sk-label.fitted input.sk-toggleable__control:checked~label.sk-toggleable__label {\n",
              "  background-color: var(--sklearn-color-fitted-level-2);\n",
              "}\n",
              "\n",
              "/* Estimator-specific style */\n",
              "\n",
              "/* Colorize estimator box */\n",
              "#sk-container-id-1 div.sk-estimator input.sk-toggleable__control:checked~label.sk-toggleable__label {\n",
              "  /* unfitted */\n",
              "  background-color: var(--sklearn-color-unfitted-level-2);\n",
              "}\n",
              "\n",
              "#sk-container-id-1 div.sk-estimator.fitted input.sk-toggleable__control:checked~label.sk-toggleable__label {\n",
              "  /* fitted */\n",
              "  background-color: var(--sklearn-color-fitted-level-2);\n",
              "}\n",
              "\n",
              "#sk-container-id-1 div.sk-label label.sk-toggleable__label,\n",
              "#sk-container-id-1 div.sk-label label {\n",
              "  /* The background is the default theme color */\n",
              "  color: var(--sklearn-color-text-on-default-background);\n",
              "}\n",
              "\n",
              "/* On hover, darken the color of the background */\n",
              "#sk-container-id-1 div.sk-label:hover label.sk-toggleable__label {\n",
              "  color: var(--sklearn-color-text);\n",
              "  background-color: var(--sklearn-color-unfitted-level-2);\n",
              "}\n",
              "\n",
              "/* Label box, darken color on hover, fitted */\n",
              "#sk-container-id-1 div.sk-label.fitted:hover label.sk-toggleable__label.fitted {\n",
              "  color: var(--sklearn-color-text);\n",
              "  background-color: var(--sklearn-color-fitted-level-2);\n",
              "}\n",
              "\n",
              "/* Estimator label */\n",
              "\n",
              "#sk-container-id-1 div.sk-label label {\n",
              "  font-family: monospace;\n",
              "  font-weight: bold;\n",
              "  display: inline-block;\n",
              "  line-height: 1.2em;\n",
              "}\n",
              "\n",
              "#sk-container-id-1 div.sk-label-container {\n",
              "  text-align: center;\n",
              "}\n",
              "\n",
              "/* Estimator-specific */\n",
              "#sk-container-id-1 div.sk-estimator {\n",
              "  font-family: monospace;\n",
              "  border: 1px dotted var(--sklearn-color-border-box);\n",
              "  border-radius: 0.25em;\n",
              "  box-sizing: border-box;\n",
              "  margin-bottom: 0.5em;\n",
              "  /* unfitted */\n",
              "  background-color: var(--sklearn-color-unfitted-level-0);\n",
              "}\n",
              "\n",
              "#sk-container-id-1 div.sk-estimator.fitted {\n",
              "  /* fitted */\n",
              "  background-color: var(--sklearn-color-fitted-level-0);\n",
              "}\n",
              "\n",
              "/* on hover */\n",
              "#sk-container-id-1 div.sk-estimator:hover {\n",
              "  /* unfitted */\n",
              "  background-color: var(--sklearn-color-unfitted-level-2);\n",
              "}\n",
              "\n",
              "#sk-container-id-1 div.sk-estimator.fitted:hover {\n",
              "  /* fitted */\n",
              "  background-color: var(--sklearn-color-fitted-level-2);\n",
              "}\n",
              "\n",
              "/* Specification for estimator info (e.g. \"i\" and \"?\") */\n",
              "\n",
              "/* Common style for \"i\" and \"?\" */\n",
              "\n",
              ".sk-estimator-doc-link,\n",
              "a:link.sk-estimator-doc-link,\n",
              "a:visited.sk-estimator-doc-link {\n",
              "  float: right;\n",
              "  font-size: smaller;\n",
              "  line-height: 1em;\n",
              "  font-family: monospace;\n",
              "  background-color: var(--sklearn-color-background);\n",
              "  border-radius: 1em;\n",
              "  height: 1em;\n",
              "  width: 1em;\n",
              "  text-decoration: none !important;\n",
              "  margin-left: 1ex;\n",
              "  /* unfitted */\n",
              "  border: var(--sklearn-color-unfitted-level-1) 1pt solid;\n",
              "  color: var(--sklearn-color-unfitted-level-1);\n",
              "}\n",
              "\n",
              ".sk-estimator-doc-link.fitted,\n",
              "a:link.sk-estimator-doc-link.fitted,\n",
              "a:visited.sk-estimator-doc-link.fitted {\n",
              "  /* fitted */\n",
              "  border: var(--sklearn-color-fitted-level-1) 1pt solid;\n",
              "  color: var(--sklearn-color-fitted-level-1);\n",
              "}\n",
              "\n",
              "/* On hover */\n",
              "div.sk-estimator:hover .sk-estimator-doc-link:hover,\n",
              ".sk-estimator-doc-link:hover,\n",
              "div.sk-label-container:hover .sk-estimator-doc-link:hover,\n",
              ".sk-estimator-doc-link:hover {\n",
              "  /* unfitted */\n",
              "  background-color: var(--sklearn-color-unfitted-level-3);\n",
              "  color: var(--sklearn-color-background);\n",
              "  text-decoration: none;\n",
              "}\n",
              "\n",
              "div.sk-estimator.fitted:hover .sk-estimator-doc-link.fitted:hover,\n",
              ".sk-estimator-doc-link.fitted:hover,\n",
              "div.sk-label-container:hover .sk-estimator-doc-link.fitted:hover,\n",
              ".sk-estimator-doc-link.fitted:hover {\n",
              "  /* fitted */\n",
              "  background-color: var(--sklearn-color-fitted-level-3);\n",
              "  color: var(--sklearn-color-background);\n",
              "  text-decoration: none;\n",
              "}\n",
              "\n",
              "/* Span, style for the box shown on hovering the info icon */\n",
              ".sk-estimator-doc-link span {\n",
              "  display: none;\n",
              "  z-index: 9999;\n",
              "  position: relative;\n",
              "  font-weight: normal;\n",
              "  right: .2ex;\n",
              "  padding: .5ex;\n",
              "  margin: .5ex;\n",
              "  width: min-content;\n",
              "  min-width: 20ex;\n",
              "  max-width: 50ex;\n",
              "  color: var(--sklearn-color-text);\n",
              "  box-shadow: 2pt 2pt 4pt #999;\n",
              "  /* unfitted */\n",
              "  background: var(--sklearn-color-unfitted-level-0);\n",
              "  border: .5pt solid var(--sklearn-color-unfitted-level-3);\n",
              "}\n",
              "\n",
              ".sk-estimator-doc-link.fitted span {\n",
              "  /* fitted */\n",
              "  background: var(--sklearn-color-fitted-level-0);\n",
              "  border: var(--sklearn-color-fitted-level-3);\n",
              "}\n",
              "\n",
              ".sk-estimator-doc-link:hover span {\n",
              "  display: block;\n",
              "}\n",
              "\n",
              "/* \"?\"-specific style due to the `<a>` HTML tag */\n",
              "\n",
              "#sk-container-id-1 a.estimator_doc_link {\n",
              "  float: right;\n",
              "  font-size: 1rem;\n",
              "  line-height: 1em;\n",
              "  font-family: monospace;\n",
              "  background-color: var(--sklearn-color-background);\n",
              "  border-radius: 1rem;\n",
              "  height: 1rem;\n",
              "  width: 1rem;\n",
              "  text-decoration: none;\n",
              "  /* unfitted */\n",
              "  color: var(--sklearn-color-unfitted-level-1);\n",
              "  border: var(--sklearn-color-unfitted-level-1) 1pt solid;\n",
              "}\n",
              "\n",
              "#sk-container-id-1 a.estimator_doc_link.fitted {\n",
              "  /* fitted */\n",
              "  border: var(--sklearn-color-fitted-level-1) 1pt solid;\n",
              "  color: var(--sklearn-color-fitted-level-1);\n",
              "}\n",
              "\n",
              "/* On hover */\n",
              "#sk-container-id-1 a.estimator_doc_link:hover {\n",
              "  /* unfitted */\n",
              "  background-color: var(--sklearn-color-unfitted-level-3);\n",
              "  color: var(--sklearn-color-background);\n",
              "  text-decoration: none;\n",
              "}\n",
              "\n",
              "#sk-container-id-1 a.estimator_doc_link.fitted:hover {\n",
              "  /* fitted */\n",
              "  background-color: var(--sklearn-color-fitted-level-3);\n",
              "}\n",
              "</style><div id=\"sk-container-id-1\" class=\"sk-top-container\"><div class=\"sk-text-repr-fallback\"><pre>LogisticRegression()</pre><b>In a Jupyter environment, please rerun this cell to show the HTML representation or trust the notebook. <br />On GitHub, the HTML representation is unable to render, please try loading this page with nbviewer.org.</b></div><div class=\"sk-container\" hidden><div class=\"sk-item\"><div class=\"sk-estimator fitted sk-toggleable\"><input class=\"sk-toggleable__control sk-hidden--visually\" id=\"sk-estimator-id-1\" type=\"checkbox\" checked><label for=\"sk-estimator-id-1\" class=\"sk-toggleable__label fitted sk-toggleable__label-arrow fitted\">&nbsp;&nbsp;LogisticRegression<a class=\"sk-estimator-doc-link fitted\" rel=\"noreferrer\" target=\"_blank\" href=\"https://scikit-learn.org/1.4/modules/generated/sklearn.linear_model.LogisticRegression.html\">?<span>Documentation for LogisticRegression</span></a><span class=\"sk-estimator-doc-link fitted\">i<span>Fitted</span></span></label><div class=\"sk-toggleable__content fitted\"><pre>LogisticRegression()</pre></div> </div></div></div></div>"
            ],
            "text/plain": [
              "LogisticRegression()"
            ]
          },
          "execution_count": 28,
          "metadata": {},
          "output_type": "execute_result"
        }
      ],
      "source": [
        "l_reg_model = LogisticRegression()\n",
        "l_reg_model.fit(x_train, y_train)"
      ]
    },
    {
      "cell_type": "markdown",
      "metadata": {
        "id": "SC_DeLCjspb5"
      },
      "source": [
        "### **Step 6.1.2 | Evaluating the model**"
      ]
    },
    {
      "cell_type": "code",
      "execution_count": 29,
      "metadata": {
        "colab": {
          "base_uri": "https://localhost:8080/"
        },
        "execution": {
          "iopub.status.busy": "2025-03-02T15:32:14.479529Z",
          "iopub.status.idle": "2025-03-02T15:32:14.480182Z",
          "shell.execute_reply": "2025-03-02T15:32:14.480007Z",
          "shell.execute_reply.started": "2025-03-02T15:32:14.479989Z"
        },
        "id": "6uqS6pt8swjy",
        "outputId": "296756e2-137a-4b26-eb99-bd33c7727ac5",
        "trusted": true
      },
      "outputs": [
        {
          "name": "stdout",
          "output_type": "stream",
          "text": [
            "Train Accuracy: 88.3%\n",
            "Test Accuracy: 90.67%\n"
          ]
        }
      ],
      "source": [
        "yreg_pred_train = l_reg_model.predict(x_train)\n",
        "\n",
        "l_reg_accuracy_train = accuracy_score(y_train, yreg_pred_train)\n",
        "print(f\"Train Accuracy: {round(l_reg_accuracy_train * 100,2)}%\")\n",
        "\n",
        "yreg_pred_test = l_reg_model.predict(x_test)\n",
        "\n",
        "l_reg_accuracy_test = accuracy_score(y_test, yreg_pred_test)\n",
        "print(f\"Test Accuracy: {round(l_reg_accuracy_test * 100,2)}%\")"
      ]
    },
    {
      "cell_type": "code",
      "execution_count": 30,
      "metadata": {
        "colab": {
          "base_uri": "https://localhost:8080/"
        },
        "execution": {
          "iopub.status.busy": "2025-03-02T15:32:14.481846Z",
          "iopub.status.idle": "2025-03-02T15:32:14.482233Z",
          "shell.execute_reply": "2025-03-02T15:32:14.482076Z",
          "shell.execute_reply.started": "2025-03-02T15:32:14.482061Z"
        },
        "id": "Zr0cV6u8ugq3",
        "outputId": "5160c7c2-2755-447f-ef5a-dfe10673c6c9",
        "trusted": true
      },
      "outputs": [
        {
          "name": "stdout",
          "output_type": "stream",
          "text": [
            "Classification Report:\n",
            "              precision    recall  f1-score   support\n",
            "\n",
            "           0       0.85      1.00      0.92       102\n",
            "           1       1.00      0.80      0.89        91\n",
            "\n",
            "    accuracy                           0.91       193\n",
            "   macro avg       0.93      0.90      0.90       193\n",
            "weighted avg       0.92      0.91      0.91       193\n",
            "\n"
          ]
        }
      ],
      "source": [
        "print(\"Classification Report:\")\n",
        "print(classification_report(y_test, yreg_pred_test))"
      ]
    },
    {
      "cell_type": "code",
      "execution_count": 31,
      "metadata": {
        "colab": {
          "base_uri": "https://localhost:8080/",
          "height": 507
        },
        "execution": {
          "iopub.status.busy": "2025-03-02T15:32:14.483918Z",
          "iopub.status.idle": "2025-03-02T15:32:14.484325Z",
          "shell.execute_reply": "2025-03-02T15:32:14.484161Z",
          "shell.execute_reply.started": "2025-03-02T15:32:14.484138Z"
        },
        "id": "EnhlNr70uukj",
        "outputId": "5c56c212-b999-49a9-c813-408b28b50d43",
        "trusted": true
      },
      "outputs": [
        {
          "data": {
            "image/png": "[encoded data removed]",
            "text/plain": [
              "<Figure size 500x500 with 2 Axes>"
            ]
          },
          "metadata": {},
          "output_type": "display_data"
        }
      ],
      "source": [
        "conf_matrix = confusion_matrix(y_test, yreg_pred_test)\n",
        "\n",
        "plt.figure(figsize=(5, 5))\n",
        "\n",
        "sns.heatmap(conf_matrix, annot=True, fmt='d', cmap='Blues',\n",
        "            xticklabels=['Healthy','Disease'], yticklabels=['Healthy','Disease'])\n",
        "plt.xlabel('Predicted')\n",
        "plt.ylabel('True')\n",
        "plt.title('Confusion Matrix Heatmap')\n",
        "\n",
        "plt.tight_layout()\n",
        "plt.show()"
      ]
    },
    {
      "cell_type": "markdown",
      "metadata": {
        "id": "5-9156BtyVTi"
      },
      "source": [
        "now, let's try building a random forest model"
      ]
    },
    {
      "cell_type": "markdown",
      "metadata": {
        "id": "t6SusVzgPybM"
      },
      "source": [
        "## **Step 6.2 | Building Random Forest Model**"
      ]
    },
    {
      "cell_type": "markdown",
      "metadata": {
        "id": "uDpYtYDtwN5l"
      },
      "source": [
        "### **Step 6.2.1 | Training the model**"
      ]
    },
    {
      "cell_type": "code",
      "execution_count": 32,
      "metadata": {
        "colab": {
          "base_uri": "https://localhost:8080/",
          "height": 80
        },
        "execution": {
          "iopub.status.busy": "2025-03-02T15:32:14.485977Z",
          "iopub.status.idle": "2025-03-02T15:32:14.486356Z",
          "shell.execute_reply": "2025-03-02T15:32:14.486204Z",
          "shell.execute_reply.started": "2025-03-02T15:32:14.486189Z"
        },
        "id": "xP2FwHy7PybM",
        "outputId": "b2367a8f-b3aa-440e-affc-0df63a90788a",
        "trusted": true
      },
      "outputs": [
        {
          "data": {
            "text/html": [
              "<style>#sk-container-id-2 {\n",
              "  /* Definition of color scheme common for light and dark mode */\n",
              "  --sklearn-color-text: black;\n",
              "  --sklearn-color-line: gray;\n",
              "  /* Definition of color scheme for unfitted estimators */\n",
              "  --sklearn-color-unfitted-level-0: #fff5e6;\n",
              "  --sklearn-color-unfitted-level-1: #f6e4d2;\n",
              "  --sklearn-color-unfitted-level-2: #ffe0b3;\n",
              "  --sklearn-color-unfitted-level-3: chocolate;\n",
              "  /* Definition of color scheme for fitted estimators */\n",
              "  --sklearn-color-fitted-level-0: #f0f8ff;\n",
              "  --sklearn-color-fitted-level-1: #d4ebff;\n",
              "  --sklearn-color-fitted-level-2: #b3dbfd;\n",
              "  --sklearn-color-fitted-level-3: cornflowerblue;\n",
              "\n",
              "  /* Specific color for light theme */\n",
              "  --sklearn-color-text-on-default-background: var(--sg-text-color, var(--theme-code-foreground, var(--jp-content-font-color1, black)));\n",
              "  --sklearn-color-background: var(--sg-background-color, var(--theme-background, var(--jp-layout-color0, white)));\n",
              "  --sklearn-color-border-box: var(--sg-text-color, var(--theme-code-foreground, var(--jp-content-font-color1, black)));\n",
              "  --sklearn-color-icon: #696969;\n",
              "\n",
              "  @media (prefers-color-scheme: dark) {\n",
              "    /* Redefinition of color scheme for dark theme */\n",
              "    --sklearn-color-text-on-default-background: var(--sg-text-color, var(--theme-code-foreground, var(--jp-content-font-color1, white)));\n",
              "    --sklearn-color-background: var(--sg-background-color, var(--theme-background, var(--jp-layout-color0, #111)));\n",
              "    --sklearn-color-border-box: var(--sg-text-color, var(--theme-code-foreground, var(--jp-content-font-color1, white)));\n",
              "    --sklearn-color-icon: #878787;\n",
              "  }\n",
              "}\n",
              "\n",
              "#sk-container-id-2 {\n",
              "  color: var(--sklearn-color-text);\n",
              "}\n",
              "\n",
              "#sk-container-id-2 pre {\n",
              "  padding: 0;\n",
              "}\n",
              "\n",
              "#sk-container-id-2 input.sk-hidden--visually {\n",
              "  border: 0;\n",
              "  clip: rect(1px 1px 1px 1px);\n",
              "  clip: rect(1px, 1px, 1px, 1px);\n",
              "  height: 1px;\n",
              "  margin: -1px;\n",
              "  overflow: hidden;\n",
              "  padding: 0;\n",
              "  position: absolute;\n",
              "  width: 1px;\n",
              "}\n",
              "\n",
              "#sk-container-id-2 div.sk-dashed-wrapped {\n",
              "  border: 1px dashed var(--sklearn-color-line);\n",
              "  margin: 0 0.4em 0.5em 0.4em;\n",
              "  box-sizing: border-box;\n",
              "  padding-bottom: 0.4em;\n",
              "  background-color: var(--sklearn-color-background);\n",
              "}\n",
              "\n",
              "#sk-container-id-2 div.sk-container {\n",
              "  /* jupyter's `normalize.less` sets `[hidden] { display: none; }`\n",
              "     but bootstrap.min.css set `[hidden] { display: none !important; }`\n",
              "     so we also need the `!important` here to be able to override the\n",
              "     default hidden behavior on the sphinx rendered scikit-learn.org.\n",
              "     See: https://github.com/scikit-learn/scikit-learn/issues/21755 */\n",
              "  display: inline-block !important;\n",
              "  position: relative;\n",
              "}\n",
              "\n",
              "#sk-container-id-2 div.sk-text-repr-fallback {\n",
              "  display: none;\n",
              "}\n",
              "\n",
              "div.sk-parallel-item,\n",
              "div.sk-serial,\n",
              "div.sk-item {\n",
              "  /* draw centered vertical line to link estimators */\n",
              "  background-image: linear-gradient(var(--sklearn-color-text-on-default-background), var(--sklearn-color-text-on-default-background));\n",
              "  background-size: 2px 100%;\n",
              "  background-repeat: no-repeat;\n",
              "  background-position: center center;\n",
              "}\n",
              "\n",
              "/* Parallel-specific style estimator block */\n",
              "\n",
              "#sk-container-id-2 div.sk-parallel-item::after {\n",
              "  content: \"\";\n",
              "  width: 100%;\n",
              "  border-bottom: 2px solid var(--sklearn-color-text-on-default-background);\n",
              "  flex-grow: 1;\n",
              "}\n",
              "\n",
              "#sk-container-id-2 div.sk-parallel {\n",
              "  display: flex;\n",
              "  align-items: stretch;\n",
              "  justify-content: center;\n",
              "  background-color: var(--sklearn-color-background);\n",
              "  position: relative;\n",
              "}\n",
              "\n",
              "#sk-container-id-2 div.sk-parallel-item {\n",
              "  display: flex;\n",
              "  flex-direction: column;\n",
              "}\n",
              "\n",
              "#sk-container-id-2 div.sk-parallel-item:first-child::after {\n",
              "  align-self: flex-end;\n",
              "  width: 50%;\n",
              "}\n",
              "\n",
              "#sk-container-id-2 div.sk-parallel-item:last-child::after {\n",
              "  align-self: flex-start;\n",
              "  width: 50%;\n",
              "}\n",
              "\n",
              "#sk-container-id-2 div.sk-parallel-item:only-child::after {\n",
              "  width: 0;\n",
              "}\n",
              "\n",
              "/* Serial-specific style estimator block */\n",
              "\n",
              "#sk-container-id-2 div.sk-serial {\n",
              "  display: flex;\n",
              "  flex-direction: column;\n",
              "  align-items: center;\n",
              "  background-color: var(--sklearn-color-background);\n",
              "  padding-right: 1em;\n",
              "  padding-left: 1em;\n",
              "}\n",
              "\n",
              "\n",
              "/* Toggleable style: style used for estimator/Pipeline/ColumnTransformer box that is\n",
              "clickable and can be expanded/collapsed.\n",
              "- Pipeline and ColumnTransformer use this feature and define the default style\n",
              "- Estimators will overwrite some part of the style using the `sk-estimator` class\n",
              "*/\n",
              "\n",
              "/* Pipeline and ColumnTransformer style (default) */\n",
              "\n",
              "#sk-container-id-2 div.sk-toggleable {\n",
              "  /* Default theme specific background. It is overwritten whether we have a\n",
              "  specific estimator or a Pipeline/ColumnTransformer */\n",
              "  background-color: var(--sklearn-color-background);\n",
              "}\n",
              "\n",
              "/* Toggleable label */\n",
              "#sk-container-id-2 label.sk-toggleable__label {\n",
              "  cursor: pointer;\n",
              "  display: block;\n",
              "  width: 100%;\n",
              "  margin-bottom: 0;\n",
              "  padding: 0.5em;\n",
              "  box-sizing: border-box;\n",
              "  text-align: center;\n",
              "}\n",
              "\n",
              "#sk-container-id-2 label.sk-toggleable__label-arrow:before {\n",
              "  /* Arrow on the left of the label */\n",
              "  content: \"▸\";\n",
              "  float: left;\n",
              "  margin-right: 0.25em;\n",
              "  color: var(--sklearn-color-icon);\n",
              "}\n",
              "\n",
              "#sk-container-id-2 label.sk-toggleable__label-arrow:hover:before {\n",
              "  color: var(--sklearn-color-text);\n",
              "}\n",
              "\n",
              "/* Toggleable content - dropdown */\n",
              "\n",
              "#sk-container-id-2 div.sk-toggleable__content {\n",
              "  max-height: 0;\n",
              "  max-width: 0;\n",
              "  overflow: hidden;\n",
              "  text-align: left;\n",
              "  /* unfitted */\n",
              "  background-color: var(--sklearn-color-unfitted-level-0);\n",
              "}\n",
              "\n",
              "#sk-container-id-2 div.sk-toggleable__content.fitted {\n",
              "  /* fitted */\n",
              "  background-color: var(--sklearn-color-fitted-level-0);\n",
              "}\n",
              "\n",
              "#sk-container-id-2 div.sk-toggleable__content pre {\n",
              "  margin: 0.2em;\n",
              "  border-radius: 0.25em;\n",
              "  color: var(--sklearn-color-text);\n",
              "  /* unfitted */\n",
              "  background-color: var(--sklearn-color-unfitted-level-0);\n",
              "}\n",
              "\n",
              "#sk-container-id-2 div.sk-toggleable__content.fitted pre {\n",
              "  /* unfitted */\n",
              "  background-color: var(--sklearn-color-fitted-level-0);\n",
              "}\n",
              "\n",
              "#sk-container-id-2 input.sk-toggleable__control:checked~div.sk-toggleable__content {\n",
              "  /* Expand drop-down */\n",
              "  max-height: 200px;\n",
              "  max-width: 100%;\n",
              "  overflow: auto;\n",
              "}\n",
              "\n",
              "#sk-container-id-2 input.sk-toggleable__control:checked~label.sk-toggleable__label-arrow:before {\n",
              "  content: \"▾\";\n",
              "}\n",
              "\n",
              "/* Pipeline/ColumnTransformer-specific style */\n",
              "\n",
              "#sk-container-id-2 div.sk-label input.sk-toggleable__control:checked~label.sk-toggleable__label {\n",
              "  color: var(--sklearn-color-text);\n",
              "  background-color: var(--sklearn-color-unfitted-level-2);\n",
              "}\n",
              "\n",
              "#sk-container-id-2 div.sk-label.fitted input.sk-toggleable__control:checked~label.sk-toggleable__label {\n",
              "  background-color: var(--sklearn-color-fitted-level-2);\n",
              "}\n",
              "\n",
              "/* Estimator-specific style */\n",
              "\n",
              "/* Colorize estimator box */\n",
              "#sk-container-id-2 div.sk-estimator input.sk-toggleable__control:checked~label.sk-toggleable__label {\n",
              "  /* unfitted */\n",
              "  background-color: var(--sklearn-color-unfitted-level-2);\n",
              "}\n",
              "\n",
              "#sk-container-id-2 div.sk-estimator.fitted input.sk-toggleable__control:checked~label.sk-toggleable__label {\n",
              "  /* fitted */\n",
              "  background-color: var(--sklearn-color-fitted-level-2);\n",
              "}\n",
              "\n",
              "#sk-container-id-2 div.sk-label label.sk-toggleable__label,\n",
              "#sk-container-id-2 div.sk-label label {\n",
              "  /* The background is the default theme color */\n",
              "  color: var(--sklearn-color-text-on-default-background);\n",
              "}\n",
              "\n",
              "/* On hover, darken the color of the background */\n",
              "#sk-container-id-2 div.sk-label:hover label.sk-toggleable__label {\n",
              "  color: var(--sklearn-color-text);\n",
              "  background-color: var(--sklearn-color-unfitted-level-2);\n",
              "}\n",
              "\n",
              "/* Label box, darken color on hover, fitted */\n",
              "#sk-container-id-2 div.sk-label.fitted:hover label.sk-toggleable__label.fitted {\n",
              "  color: var(--sklearn-color-text);\n",
              "  background-color: var(--sklearn-color-fitted-level-2);\n",
              "}\n",
              "\n",
              "/* Estimator label */\n",
              "\n",
              "#sk-container-id-2 div.sk-label label {\n",
              "  font-family: monospace;\n",
              "  font-weight: bold;\n",
              "  display: inline-block;\n",
              "  line-height: 1.2em;\n",
              "}\n",
              "\n",
              "#sk-container-id-2 div.sk-label-container {\n",
              "  text-align: center;\n",
              "}\n",
              "\n",
              "/* Estimator-specific */\n",
              "#sk-container-id-2 div.sk-estimator {\n",
              "  font-family: monospace;\n",
              "  border: 1px dotted var(--sklearn-color-border-box);\n",
              "  border-radius: 0.25em;\n",
              "  box-sizing: border-box;\n",
              "  margin-bottom: 0.5em;\n",
              "  /* unfitted */\n",
              "  background-color: var(--sklearn-color-unfitted-level-0);\n",
              "}\n",
              "\n",
              "#sk-container-id-2 div.sk-estimator.fitted {\n",
              "  /* fitted */\n",
              "  background-color: var(--sklearn-color-fitted-level-0);\n",
              "}\n",
              "\n",
              "/* on hover */\n",
              "#sk-container-id-2 div.sk-estimator:hover {\n",
              "  /* unfitted */\n",
              "  background-color: var(--sklearn-color-unfitted-level-2);\n",
              "}\n",
              "\n",
              "#sk-container-id-2 div.sk-estimator.fitted:hover {\n",
              "  /* fitted */\n",
              "  background-color: var(--sklearn-color-fitted-level-2);\n",
              "}\n",
              "\n",
              "/* Specification for estimator info (e.g. \"i\" and \"?\") */\n",
              "\n",
              "/* Common style for \"i\" and \"?\" */\n",
              "\n",
              ".sk-estimator-doc-link,\n",
              "a:link.sk-estimator-doc-link,\n",
              "a:visited.sk-estimator-doc-link {\n",
              "  float: right;\n",
              "  font-size: smaller;\n",
              "  line-height: 1em;\n",
              "  font-family: monospace;\n",
              "  background-color: var(--sklearn-color-background);\n",
              "  border-radius: 1em;\n",
              "  height: 1em;\n",
              "  width: 1em;\n",
              "  text-decoration: none !important;\n",
              "  margin-left: 1ex;\n",
              "  /* unfitted */\n",
              "  border: var(--sklearn-color-unfitted-level-1) 1pt solid;\n",
              "  color: var(--sklearn-color-unfitted-level-1);\n",
              "}\n",
              "\n",
              ".sk-estimator-doc-link.fitted,\n",
              "a:link.sk-estimator-doc-link.fitted,\n",
              "a:visited.sk-estimator-doc-link.fitted {\n",
              "  /* fitted */\n",
              "  border: var(--sklearn-color-fitted-level-1) 1pt solid;\n",
              "  color: var(--sklearn-color-fitted-level-1);\n",
              "}\n",
              "\n",
              "/* On hover */\n",
              "div.sk-estimator:hover .sk-estimator-doc-link:hover,\n",
              ".sk-estimator-doc-link:hover,\n",
              "div.sk-label-container:hover .sk-estimator-doc-link:hover,\n",
              ".sk-estimator-doc-link:hover {\n",
              "  /* unfitted */\n",
              "  background-color: var(--sklearn-color-unfitted-level-3);\n",
              "  color: var(--sklearn-color-background);\n",
              "  text-decoration: none;\n",
              "}\n",
              "\n",
              "div.sk-estimator.fitted:hover .sk-estimator-doc-link.fitted:hover,\n",
              ".sk-estimator-doc-link.fitted:hover,\n",
              "div.sk-label-container:hover .sk-estimator-doc-link.fitted:hover,\n",
              ".sk-estimator-doc-link.fitted:hover {\n",
              "  /* fitted */\n",
              "  background-color: var(--sklearn-color-fitted-level-3);\n",
              "  color: var(--sklearn-color-background);\n",
              "  text-decoration: none;\n",
              "}\n",
              "\n",
              "/* Span, style for the box shown on hovering the info icon */\n",
              ".sk-estimator-doc-link span {\n",
              "  display: none;\n",
              "  z-index: 9999;\n",
              "  position: relative;\n",
              "  font-weight: normal;\n",
              "  right: .2ex;\n",
              "  padding: .5ex;\n",
              "  margin: .5ex;\n",
              "  width: min-content;\n",
              "  min-width: 20ex;\n",
              "  max-width: 50ex;\n",
              "  color: var(--sklearn-color-text);\n",
              "  box-shadow: 2pt 2pt 4pt #999;\n",
              "  /* unfitted */\n",
              "  background: var(--sklearn-color-unfitted-level-0);\n",
              "  border: .5pt solid var(--sklearn-color-unfitted-level-3);\n",
              "}\n",
              "\n",
              ".sk-estimator-doc-link.fitted span {\n",
              "  /* fitted */\n",
              "  background: var(--sklearn-color-fitted-level-0);\n",
              "  border: var(--sklearn-color-fitted-level-3);\n",
              "}\n",
              "\n",
              ".sk-estimator-doc-link:hover span {\n",
              "  display: block;\n",
              "}\n",
              "\n",
              "/* \"?\"-specific style due to the `<a>` HTML tag */\n",
              "\n",
              "#sk-container-id-2 a.estimator_doc_link {\n",
              "  float: right;\n",
              "  font-size: 1rem;\n",
              "  line-height: 1em;\n",
              "  font-family: monospace;\n",
              "  background-color: var(--sklearn-color-background);\n",
              "  border-radius: 1rem;\n",
              "  height: 1rem;\n",
              "  width: 1rem;\n",
              "  text-decoration: none;\n",
              "  /* unfitted */\n",
              "  color: var(--sklearn-color-unfitted-level-1);\n",
              "  border: var(--sklearn-color-unfitted-level-1) 1pt solid;\n",
              "}\n",
              "\n",
              "#sk-container-id-2 a.estimator_doc_link.fitted {\n",
              "  /* fitted */\n",
              "  border: var(--sklearn-color-fitted-level-1) 1pt solid;\n",
              "  color: var(--sklearn-color-fitted-level-1);\n",
              "}\n",
              "\n",
              "/* On hover */\n",
              "#sk-container-id-2 a.estimator_doc_link:hover {\n",
              "  /* unfitted */\n",
              "  background-color: var(--sklearn-color-unfitted-level-3);\n",
              "  color: var(--sklearn-color-background);\n",
              "  text-decoration: none;\n",
              "}\n",
              "\n",
              "#sk-container-id-2 a.estimator_doc_link.fitted:hover {\n",
              "  /* fitted */\n",
              "  background-color: var(--sklearn-color-fitted-level-3);\n",
              "}\n",
              "</style><div id=\"sk-container-id-2\" class=\"sk-top-container\"><div class=\"sk-text-repr-fallback\"><pre>RandomForestClassifier()</pre><b>In a Jupyter environment, please rerun this cell to show the HTML representation or trust the notebook. <br />On GitHub, the HTML representation is unable to render, please try loading this page with nbviewer.org.</b></div><div class=\"sk-container\" hidden><div class=\"sk-item\"><div class=\"sk-estimator fitted sk-toggleable\"><input class=\"sk-toggleable__control sk-hidden--visually\" id=\"sk-estimator-id-2\" type=\"checkbox\" checked><label for=\"sk-estimator-id-2\" class=\"sk-toggleable__label fitted sk-toggleable__label-arrow fitted\">&nbsp;&nbsp;RandomForestClassifier<a class=\"sk-estimator-doc-link fitted\" rel=\"noreferrer\" target=\"_blank\" href=\"https://scikit-learn.org/1.4/modules/generated/sklearn.ensemble.RandomForestClassifier.html\">?<span>Documentation for RandomForestClassifier</span></a><span class=\"sk-estimator-doc-link fitted\">i<span>Fitted</span></span></label><div class=\"sk-toggleable__content fitted\"><pre>RandomForestClassifier()</pre></div> </div></div></div></div>"
            ],
            "text/plain": [
              "RandomForestClassifier()"
            ]
          },
          "execution_count": 32,
          "metadata": {},
          "output_type": "execute_result"
        }
      ],
      "source": [
        "rf_model = RandomForestClassifier()\n",
        "rf_model.fit(x_train, y_train)"
      ]
    },
    {
      "cell_type": "markdown",
      "metadata": {
        "id": "gE-joD3SwXX_"
      },
      "source": [
        "### **Step 6.1.2 | Evaluating the model**"
      ]
    },
    {
      "cell_type": "code",
      "execution_count": 33,
      "metadata": {
        "colab": {
          "base_uri": "https://localhost:8080/"
        },
        "execution": {
          "iopub.status.busy": "2025-03-02T15:32:14.488203Z",
          "iopub.status.idle": "2025-03-02T15:32:14.488611Z",
          "shell.execute_reply": "2025-03-02T15:32:14.488454Z",
          "shell.execute_reply.started": "2025-03-02T15:32:14.488438Z"
        },
        "id": "Omreh3PXwbw3",
        "outputId": "323a8584-95dd-4163-c626-ef5db7939a3c",
        "trusted": true
      },
      "outputs": [
        {
          "name": "stdout",
          "output_type": "stream",
          "text": [
            "Train Accuracy: 100.0%\n",
            "Test Accuracy: 97.41%\n"
          ]
        }
      ],
      "source": [
        "yrf_pred_train = rf_model.predict(x_train)\n",
        "\n",
        "rf_accuracy_train = accuracy_score(y_train, yrf_pred_train)\n",
        "print(f\"Train Accuracy: {round(rf_accuracy_train * 100,2)}%\")\n",
        "\n",
        "yrf_pred_test = rf_model.predict(x_test)\n",
        "\n",
        "rf_accuracy_test = accuracy_score(y_test, yrf_pred_test)\n",
        "print(f\"Test Accuracy: {round(rf_accuracy_test * 100,2)}%\")"
      ]
    },
    {
      "cell_type": "code",
      "execution_count": 34,
      "metadata": {
        "colab": {
          "base_uri": "https://localhost:8080/"
        },
        "execution": {
          "iopub.status.busy": "2025-03-02T15:32:14.490388Z",
          "iopub.status.idle": "2025-03-02T15:32:14.490827Z",
          "shell.execute_reply": "2025-03-02T15:32:14.490659Z",
          "shell.execute_reply.started": "2025-03-02T15:32:14.490608Z"
        },
        "id": "5H9ond8ewyXQ",
        "outputId": "864cf469-e703-4682-f014-e92f6d4f7fa9",
        "trusted": true
      },
      "outputs": [
        {
          "name": "stdout",
          "output_type": "stream",
          "text": [
            "Classification Report:\n",
            "              precision    recall  f1-score   support\n",
            "\n",
            "           0       0.95      1.00      0.98       102\n",
            "           1       1.00      0.95      0.97        91\n",
            "\n",
            "    accuracy                           0.97       193\n",
            "   macro avg       0.98      0.97      0.97       193\n",
            "weighted avg       0.98      0.97      0.97       193\n",
            "\n"
          ]
        }
      ],
      "source": [
        "print(\"Classification Report:\")\n",
        "print(classification_report(y_test, yrf_pred_test))"
      ]
    },
    {
      "cell_type": "code",
      "execution_count": 35,
      "metadata": {
        "colab": {
          "base_uri": "https://localhost:8080/",
          "height": 507
        },
        "execution": {
          "iopub.status.busy": "2025-03-02T15:32:14.492774Z",
          "iopub.status.idle": "2025-03-02T15:32:14.493191Z",
          "shell.execute_reply": "2025-03-02T15:32:14.493023Z",
          "shell.execute_reply.started": "2025-03-02T15:32:14.493007Z"
        },
        "id": "Cm9bza3ixC9t",
        "outputId": "d3c17426-17bf-4f13-c74c-d69c5c25cbc7",
        "trusted": true
      },
      "outputs": [
        {
          "data": {
            "image/png": "[encoded data removed]",
            "text/plain": [
              "<Figure size 500x500 with 2 Axes>"
            ]
          },
          "metadata": {},
          "output_type": "display_data"
        }
      ],
      "source": [
        "conf_matrix = confusion_matrix(y_test, yrf_pred_test)\n",
        "\n",
        "plt.figure(figsize=(5, 5))\n",
        "\n",
        "sns.heatmap(conf_matrix, annot=True, fmt='d', cmap='Blues',\n",
        "            xticklabels=['Healthy','Disease'], yticklabels=['Healthy','Disease'])\n",
        "plt.xlabel('Predicted')\n",
        "plt.ylabel('True')\n",
        "plt.title('Confusion Matrix Heatmap')\n",
        "\n",
        "plt.tight_layout()\n",
        "plt.show()"
      ]
    },
    {
      "cell_type": "markdown",
      "metadata": {
        "id": "EZRUSkOwPybR"
      },
      "source": [
        "# **Step 7 | Conclusion**"
      ]
    },
    {
      "cell_type": "markdown",
      "metadata": {
        "id": "JheGeX29PybS"
      },
      "source": [
        "In the critical context of disease diagnosis, our primary objective is to ensure a high recall for the positive class. Accurately identifying every potential case is paramount, as even one missed diagnosis could have serious consequences. However, while striving for this high recall, it is essential to maintain balanced performance to avoid unnecessary medical interventions for healthy individuals. Therefore, our models will be evaluated against these vital medical benchmarks to achieve both comprehensive detection and judicious intervention."
      ]
    },
    {
      "cell_type": "code",
      "execution_count": 36,
      "metadata": {
        "execution": {
          "iopub.status.busy": "2025-03-02T15:32:14.494389Z",
          "iopub.status.idle": "2025-03-02T15:32:14.494799Z",
          "shell.execute_reply": "2025-03-02T15:32:14.494608Z",
          "shell.execute_reply.started": "2025-03-02T15:32:14.494592Z"
        },
        "id": "6w76ctgyPybS",
        "trusted": true
      },
      "outputs": [],
      "source": [
        "models = pd.DataFrame({\n",
        "    'Model': [\n",
        "        'Logistic Regression','Random Forest'\n",
        "    ],\n",
        "    'Training Accuracy Score': [\n",
        "        l_reg_accuracy_train,rf_accuracy_train\n",
        "    ],\n",
        "    'Test Accuracy Score': [\n",
        "       l_reg_accuracy_test,rf_accuracy_test\n",
        "    ]\n",
        "})"
      ]
    },
    {
      "cell_type": "code",
      "execution_count": 37,
      "metadata": {
        "colab": {
          "base_uri": "https://localhost:8080/",
          "height": 112
        },
        "execution": {
          "iopub.status.busy": "2025-03-02T15:32:14.496355Z",
          "iopub.status.idle": "2025-03-02T15:32:14.496767Z",
          "shell.execute_reply": "2025-03-02T15:32:14.496574Z",
          "shell.execute_reply.started": "2025-03-02T15:32:14.496559Z"
        },
        "id": "VSSKuq7rzWyN",
        "outputId": "13e59a45-3881-464a-92dd-6c7b152ff9be",
        "trusted": true
      },
      "outputs": [
        {
          "data": {
            "text/html": [
              "<style type=\"text/css\">\n",
              "#T_e8944_row0_col1, #T_e8944_row0_col2 {\n",
              "  background-color: #fee838;\n",
              "  color: #000000;\n",
              "}\n",
              "#T_e8944_row1_col1, #T_e8944_row1_col2 {\n",
              "  background-color: #00224e;\n",
              "  color: #f1f1f1;\n",
              "}\n",
              "</style>\n",
              "<table id=\"T_e8944\">\n",
              "  <thead>\n",
              "    <tr>\n",
              "      <th class=\"blank level0\" >&nbsp;</th>\n",
              "      <th id=\"T_e8944_level0_col0\" class=\"col_heading level0 col0\" >Model</th>\n",
              "      <th id=\"T_e8944_level0_col1\" class=\"col_heading level0 col1\" >Training Accuracy Score</th>\n",
              "      <th id=\"T_e8944_level0_col2\" class=\"col_heading level0 col2\" >Test Accuracy Score</th>\n",
              "    </tr>\n",
              "  </thead>\n",
              "  <tbody>\n",
              "    <tr>\n",
              "      <th id=\"T_e8944_level0_row0\" class=\"row_heading level0 row0\" >1</th>\n",
              "      <td id=\"T_e8944_row0_col0\" class=\"data row0 col0\" >Random Forest</td>\n",
              "      <td id=\"T_e8944_row0_col1\" class=\"data row0 col1\" >1.000000</td>\n",
              "      <td id=\"T_e8944_row0_col2\" class=\"data row0 col2\" >0.974093</td>\n",
              "    </tr>\n",
              "    <tr>\n",
              "      <th id=\"T_e8944_level0_row1\" class=\"row_heading level0 row1\" >0</th>\n",
              "      <td id=\"T_e8944_row1_col0\" class=\"data row1 col0\" >Logistic Regression</td>\n",
              "      <td id=\"T_e8944_row1_col1\" class=\"data row1 col1\" >0.882965</td>\n",
              "      <td id=\"T_e8944_row1_col2\" class=\"data row1 col2\" >0.906736</td>\n",
              "    </tr>\n",
              "  </tbody>\n",
              "</table>\n"
            ],
            "text/plain": [
              "<pandas.io.formats.style.Styler at 0x24dcd5e3ec0>"
            ]
          },
          "execution_count": 37,
          "metadata": {},
          "output_type": "execute_result"
        }
      ],
      "source": [
        "models.sort_values(by='Training Accuracy Score', ascending=False).style.background_gradient(cmap='cividis')"
      ]
    },
    {
      "cell_type": "code",
      "execution_count": 38,
      "metadata": {
        "colab": {
          "base_uri": "https://localhost:8080/",
          "height": 607
        },
        "execution": {
          "iopub.status.busy": "2025-03-02T15:32:14.497755Z",
          "iopub.status.idle": "2025-03-02T15:32:14.498122Z",
          "shell.execute_reply": "2025-03-02T15:32:14.497966Z",
          "shell.execute_reply.started": "2025-03-02T15:32:14.497951Z"
        },
        "id": "lB8oBN8uPybS",
        "outputId": "3f32a548-2969-4332-f225-e27b286bb963",
        "trusted": true
      },
      "outputs": [
        {
          "data": {
            "image/png": "[encoded data removed]",
            "text/plain": [
              "<Figure size 1000x600 with 1 Axes>"
            ]
          },
          "metadata": {},
          "output_type": "display_data"
        }
      ],
      "source": [
        "model_names = ['Logistic Regression', 'Random Forest']\n",
        "\n",
        "accuracies = [l_reg_accuracy_test, rf_accuracy_test]\n",
        "precisions = [precision_score(y_test, yreg_pred_test), precision_score(y_test, yrf_pred_test)]\n",
        "recalls = [recall_score(y_test, yreg_pred_test), recall_score(y_test, yrf_pred_test)]\n",
        "f1_scores = [f1_score(y_test, yreg_pred_test), f1_score(y_test, yrf_pred_test)]\n",
        "\n",
        "graph = pd.DataFrame({\n",
        "    'Model': model_names * 4,\n",
        "    'Metric': ['Accuracy'] * 2 + ['Precision'] * 2 + ['Recall'] * 2 + ['F1-Score'] * 2,\n",
        "    'Score': accuracies + precisions + recalls + f1_scores\n",
        "})\n",
        "\n",
        "plt.figure(figsize=(10, 6))\n",
        "sns.barplot(x='Model', y='Score', hue='Metric', data=graph, palette='viridis')\n",
        "\n",
        "plt.xlabel('Models')\n",
        "plt.ylabel('Score')\n",
        "plt.title('Model Comparison - Accuracy, Precision, Recall, and f1-score')\n",
        "\n",
        "plt.tight_layout()\n",
        "plt.show()"
      ]
    },
    {
      "cell_type": "code",
      "execution_count": 39,
      "metadata": {},
      "outputs": [
        {
          "name": "stderr",
          "output_type": "stream",
          "text": [
            "c:\\Users\\tohru\\anaconda3\\Lib\\site-packages\\keras\\src\\layers\\core\\input_layer.py:27: UserWarning: Argument `input_shape` is deprecated. Use `shape` instead.\n",
            "  warnings.warn(\n"
          ]
        },
        {
          "name": "stdout",
          "output_type": "stream",
          "text": [
            "Epoch 1/5\n",
            "\u001b[1m25/25\u001b[0m \u001b[32m━━━━━━━━━━━━━━━━━━━━\u001b[0m\u001b[37m\u001b[0m \u001b[1m1s\u001b[0m 2ms/step - accuracy: 0.5266 - loss: 0.6732\n",
            "Epoch 2/5\n",
            "\u001b[1m25/25\u001b[0m \u001b[32m━━━━━━━━━━━━━━━━━━━━\u001b[0m\u001b[37m\u001b[0m \u001b[1m0s\u001b[0m 2ms/step - accuracy: 0.5158 - loss: 0.6701 \n",
            "Epoch 3/5\n",
            "\u001b[1m25/25\u001b[0m \u001b[32m━━━━━━━━━━━━━━━━━━━━\u001b[0m\u001b[37m\u001b[0m \u001b[1m0s\u001b[0m 2ms/step - accuracy: 0.5301 - loss: 0.6537 \n",
            "Epoch 4/5\n",
            "\u001b[1m25/25\u001b[0m \u001b[32m━━━━━━━━━━━━━━━━━━━━\u001b[0m\u001b[37m\u001b[0m \u001b[1m0s\u001b[0m 2ms/step - accuracy: 0.5166 - loss: 0.6475 \n",
            "Epoch 5/5\n",
            "\u001b[1m25/25\u001b[0m \u001b[32m━━━━━━━━━━━━━━━━━━━━\u001b[0m\u001b[37m\u001b[0m \u001b[1m0s\u001b[0m 2ms/step - accuracy: 0.5541 - loss: 0.6275 \n",
            "INFO:tensorflow:Assets written to: C:\\Users\\tohru\\AppData\\Local\\Temp\\tmpovfdu2wv\\assets\n"
          ]
        },
        {
          "name": "stderr",
          "output_type": "stream",
          "text": [
            "INFO:tensorflow:Assets written to: C:\\Users\\tohru\\AppData\\Local\\Temp\\tmpovfdu2wv\\assets\n"
          ]
        },
        {
          "name": "stdout",
          "output_type": "stream",
          "text": [
            "Saved artifact at 'C:\\Users\\tohru\\AppData\\Local\\Temp\\tmpovfdu2wv'. The following endpoints are available:\n",
            "\n",
            "* Endpoint 'serve'\n",
            "  args_0 (POSITIONAL_ONLY): TensorSpec(shape=(None, 5), dtype=tf.float32, name='keras_tensor')\n",
            "Output Type:\n",
            "  TensorSpec(shape=(None, 1), dtype=tf.float32, name=None)\n",
            "Captures:\n",
            "  2533347892816: TensorSpec(shape=(), dtype=tf.resource, name=None)\n",
            "  2533347893584: TensorSpec(shape=(), dtype=tf.resource, name=None)\n",
            "  2533347886096: TensorSpec(shape=(), dtype=tf.resource, name=None)\n",
            "  2533347894736: TensorSpec(shape=(), dtype=tf.resource, name=None)\n",
            "Model has been converted and saved as 'model.tflite'\n"
          ]
        }
      ],
      "source": [
        "import tensorflow as tf\n",
        "from tensorflow import keras\n",
        "\n",
        "# Assuming you have a trained Keras model named 'model'\n",
        "# For example, let's create a simple model for demonstration purposes\n",
        "model = keras.Sequential([\n",
        "    keras.layers.InputLayer(input_shape=(5,)),\n",
        "    keras.layers.Dense(10, activation='relu'),\n",
        "    keras.layers.Dense(1, activation='sigmoid')\n",
        "])\n",
        "\n",
        "# Compile and train the model (this is just a placeholder, replace with your actual model training code)\n",
        "model.compile(optimizer='adam', loss='binary_crossentropy', metrics=['accuracy'])\n",
        "model.fit(x_train, y_train, epochs=5)\n",
        "\n",
        "# Convert the model to TensorFlow Lite format\n",
        "converter = tf.lite.TFLiteConverter.from_keras_model(model)\n",
        "tflite_model = converter.convert()\n",
        "\n",
        "# Save the converted model to a file\n",
        "with open('model.tflite', 'wb') as f:\n",
        "    f.write(tflite_model)\n",
        "\n",
        "print(\"Model has been converted and saved as 'model.tflite'\")"
      ]
    },
    {
      "cell_type": "code",
      "execution_count": 40,
      "metadata": {},
      "outputs": [
        {
          "name": "stdout",
          "output_type": "stream",
          "text": [
            "Requirement already satisfied: tensorflow in c:\\users\\tohru\\anaconda3\\lib\\site-packages (2.18.0)\n",
            "Requirement already satisfied: tensorflow-intel==2.18.0 in c:\\users\\tohru\\anaconda3\\lib\\site-packages (from tensorflow) (2.18.0)\n",
            "Requirement already satisfied: absl-py>=1.0.0 in c:\\users\\tohru\\anaconda3\\lib\\site-packages (from tensorflow-intel==2.18.0->tensorflow) (2.1.0)\n",
            "Requirement already satisfied: astunparse>=1.6.0 in c:\\users\\tohru\\anaconda3\\lib\\site-packages (from tensorflow-intel==2.18.0->tensorflow) (1.6.3)\n",
            "Requirement already satisfied: flatbuffers>=24.3.25 in c:\\users\\tohru\\anaconda3\\lib\\site-packages (from tensorflow-intel==2.18.0->tensorflow) (24.3.25)\n",
            "Requirement already satisfied: gast!=0.5.0,!=0.5.1,!=0.5.2,>=0.2.1 in c:\\users\\tohru\\anaconda3\\lib\\site-packages (from tensorflow-intel==2.18.0->tensorflow) (0.6.0)\n",
            "Requirement already satisfied: google-pasta>=0.1.1 in c:\\users\\tohru\\anaconda3\\lib\\site-packages (from tensorflow-intel==2.18.0->tensorflow) (0.2.0)\n",
            "Requirement already satisfied: libclang>=13.0.0 in c:\\users\\tohru\\anaconda3\\lib\\site-packages (from tensorflow-intel==2.18.0->tensorflow) (18.1.1)\n",
            "Requirement already satisfied: opt-einsum>=2.3.2 in c:\\users\\tohru\\anaconda3\\lib\\site-packages (from tensorflow-intel==2.18.0->tensorflow) (3.4.0)\n",
            "Requirement already satisfied: packaging in c:\\users\\tohru\\anaconda3\\lib\\site-packages (from tensorflow-intel==2.18.0->tensorflow) (23.2)\n",
            "Requirement already satisfied: protobuf!=4.21.0,!=4.21.1,!=4.21.2,!=4.21.3,!=4.21.4,!=4.21.5,<6.0.0dev,>=3.20.3 in c:\\users\\tohru\\anaconda3\\lib\\site-packages (from tensorflow-intel==2.18.0->tensorflow) (3.20.3)\n",
            "Requirement already satisfied: requests<3,>=2.21.0 in c:\\users\\tohru\\anaconda3\\lib\\site-packages (from tensorflow-intel==2.18.0->tensorflow) (2.32.2)\n",
            "Requirement already satisfied: setuptools in c:\\users\\tohru\\anaconda3\\lib\\site-packages (from tensorflow-intel==2.18.0->tensorflow) (69.5.1)\n",
            "Requirement already satisfied: six>=1.12.0 in c:\\users\\tohru\\anaconda3\\lib\\site-packages (from tensorflow-intel==2.18.0->tensorflow) (1.16.0)\n",
            "Requirement already satisfied: termcolor>=1.1.0 in c:\\users\\tohru\\anaconda3\\lib\\site-packages (from tensorflow-intel==2.18.0->tensorflow) (2.5.0)\n",
            "Requirement already satisfied: typing-extensions>=3.6.6 in c:\\users\\tohru\\anaconda3\\lib\\site-packages (from tensorflow-intel==2.18.0->tensorflow) (4.12.2)\n",
            "Requirement already satisfied: wrapt>=1.11.0 in c:\\users\\tohru\\anaconda3\\lib\\site-packages (from tensorflow-intel==2.18.0->tensorflow) (1.14.1)\n",
            "Requirement already satisfied: grpcio<2.0,>=1.24.3 in c:\\users\\tohru\\anaconda3\\lib\\site-packages (from tensorflow-intel==2.18.0->tensorflow) (1.68.1)\n",
            "Requirement already satisfied: tensorboard<2.19,>=2.18 in c:\\users\\tohru\\anaconda3\\lib\\site-packages (from tensorflow-intel==2.18.0->tensorflow) (2.18.0)\n",
            "Requirement already satisfied: keras>=3.5.0 in c:\\users\\tohru\\anaconda3\\lib\\site-packages (from tensorflow-intel==2.18.0->tensorflow) (3.7.0)\n",
            "Requirement already satisfied: numpy<2.1.0,>=1.26.0 in c:\\users\\tohru\\anaconda3\\lib\\site-packages (from tensorflow-intel==2.18.0->tensorflow) (1.26.4)\n",
            "Requirement already satisfied: h5py>=3.11.0 in c:\\users\\tohru\\anaconda3\\lib\\site-packages (from tensorflow-intel==2.18.0->tensorflow) (3.11.0)\n",
            "Requirement already satisfied: ml-dtypes<0.5.0,>=0.4.0 in c:\\users\\tohru\\anaconda3\\lib\\site-packages (from tensorflow-intel==2.18.0->tensorflow) (0.4.1)\n",
            "Requirement already satisfied: wheel<1.0,>=0.23.0 in c:\\users\\tohru\\anaconda3\\lib\\site-packages (from astunparse>=1.6.0->tensorflow-intel==2.18.0->tensorflow) (0.43.0)\n",
            "Requirement already satisfied: rich in c:\\users\\tohru\\anaconda3\\lib\\site-packages (from keras>=3.5.0->tensorflow-intel==2.18.0->tensorflow) (13.3.5)\n",
            "Requirement already satisfied: namex in c:\\users\\tohru\\anaconda3\\lib\\site-packages (from keras>=3.5.0->tensorflow-intel==2.18.0->tensorflow) (0.0.8)\n",
            "Requirement already satisfied: optree in c:\\users\\tohru\\anaconda3\\lib\\site-packages (from keras>=3.5.0->tensorflow-intel==2.18.0->tensorflow) (0.13.1)\n",
            "Requirement already satisfied: charset-normalizer<4,>=2 in c:\\users\\tohru\\anaconda3\\lib\\site-packages (from requests<3,>=2.21.0->tensorflow-intel==2.18.0->tensorflow) (2.0.4)\n",
            "Requirement already satisfied: idna<4,>=2.5 in c:\\users\\tohru\\anaconda3\\lib\\site-packages (from requests<3,>=2.21.0->tensorflow-intel==2.18.0->tensorflow) (3.7)\n",
            "Requirement already satisfied: urllib3<3,>=1.21.1 in c:\\users\\tohru\\anaconda3\\lib\\site-packages (from requests<3,>=2.21.0->tensorflow-intel==2.18.0->tensorflow) (2.2.2)\n",
            "Requirement already satisfied: certifi>=2017.4.17 in c:\\users\\tohru\\anaconda3\\lib\\site-packages (from requests<3,>=2.21.0->tensorflow-intel==2.18.0->tensorflow) (2024.8.30)\n",
            "Requirement already satisfied: markdown>=2.6.8 in c:\\users\\tohru\\anaconda3\\lib\\site-packages (from tensorboard<2.19,>=2.18->tensorflow-intel==2.18.0->tensorflow) (3.4.1)\n",
            "Requirement already satisfied: tensorboard-data-server<0.8.0,>=0.7.0 in c:\\users\\tohru\\anaconda3\\lib\\site-packages (from tensorboard<2.19,>=2.18->tensorflow-intel==2.18.0->tensorflow) (0.7.2)\n",
            "Requirement already satisfied: werkzeug>=1.0.1 in c:\\users\\tohru\\anaconda3\\lib\\site-packages (from tensorboard<2.19,>=2.18->tensorflow-intel==2.18.0->tensorflow) (3.0.3)\n",
            "Requirement already satisfied: MarkupSafe>=2.1.1 in c:\\users\\tohru\\anaconda3\\lib\\site-packages (from werkzeug>=1.0.1->tensorboard<2.19,>=2.18->tensorflow-intel==2.18.0->tensorflow) (2.1.3)\n",
            "Requirement already satisfied: markdown-it-py<3.0.0,>=2.2.0 in c:\\users\\tohru\\anaconda3\\lib\\site-packages (from rich->keras>=3.5.0->tensorflow-intel==2.18.0->tensorflow) (2.2.0)\n",
            "Requirement already satisfied: pygments<3.0.0,>=2.13.0 in c:\\users\\tohru\\anaconda3\\lib\\site-packages (from rich->keras>=3.5.0->tensorflow-intel==2.18.0->tensorflow) (2.15.1)\n",
            "Requirement already satisfied: mdurl~=0.1 in c:\\users\\tohru\\anaconda3\\lib\\site-packages (from markdown-it-py<3.0.0,>=2.2.0->rich->keras>=3.5.0->tensorflow-intel==2.18.0->tensorflow) (0.1.0)\n",
            "Note: you may need to restart the kernel to use updated packages.\n",
            "2.18.0\n"
          ]
        }
      ],
      "source": [
        "%pip install tensorflow\n",
        "import tensorflow as tf\n",
        "print(tf.__version__)"
      ]
    },
    {
      "cell_type": "code",
      "execution_count": null,
      "metadata": {},
      "outputs": [],
      "source": []
    },
    {
      "cell_type": "markdown",
      "metadata": {
        "id": "9-oU30AQPybS"
      },
      "source": [
        "__The Random forest model demonstrates a perfect capability in recognizing potential diseases. With a recall of 1.00, it's evident that almost all patients with diseases are correctly identified. This is of paramount importance in a medical setting. However, the model's balanced performance ensures that while aiming for high recall, it doesn't compromise on precision, thereby not overburdening the system with unnecessary alerts.__\n",
        "\n"
      ]
    },
    {
      "cell_type": "markdown",
      "metadata": {
        "id": "ayxYI1vIPybS"
      },
      "source": [
        "*__Best regards!__*"
      ]
    }
  ],
  "metadata": {
    "colab": {
      "name": "Disease Prediction",
      "provenance": []
    },
    "kaggle": {
      "accelerator": "none",
      "dataSources": [
        {
          "datasetId": 4532617,
          "sourceId": 7752217,
          "sourceType": "datasetVersion"
        }
      ],
      "dockerImageVersionId": 30698,
      "isGpuEnabled": false,
      "isInternetEnabled": true,
      "language": "python",
      "sourceType": "notebook"
    },
    "kernelspec": {
      "display_name": "base",
      "language": "python",
      "name": "python3"
    },
    "language_info": {
      "codemirror_mode": {
        "name": "ipython",
        "version": 3
      },
      "file_extension": ".py",
      "mimetype": "text/x-python",
      "name": "python",
      "nbconvert_exporter": "python",
      "pygments_lexer": "ipython3",
      "version": "3.12.4"
    }
  },
  "nbformat": 4,
  "nbformat_minor": 0
}
