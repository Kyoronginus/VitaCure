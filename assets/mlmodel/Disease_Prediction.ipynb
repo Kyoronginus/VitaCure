{
  "cells": [
    {
      "cell_type": "markdown",
      "metadata": {
        "id": "rBygWSHnPyah"
      },
      "source": [
        "**Project objective:**\n",
        "\n",
        "The objective of this project is to develop a robust machine learning model capable of predicting the likelihood of an individual having a specific disease based on their health-related attributes. By leveraging a comprehensive dataset that includes various physiological measurements and biomarkers, the model aims to classify individuals into diseased or non-diseased categories. This predictive tool will assist healthcare providers in early disease detection and management, potentially improving patient outcomes and reducing healthcare costs."
      ]
    },
    {
      "cell_type": "markdown",
      "metadata": {
        "id": "Odla9UF2Pyam"
      },
      "source": [
        "# **Step 1 | Import Libraries**\n"
      ]
    },
    {
      "cell_type": "code",
      "execution_count": 9,
      "metadata": {
        "execution": {
          "iopub.execute_input": "2025-03-02T15:32:10.826671Z",
          "iopub.status.busy": "2025-03-02T15:32:10.82624Z",
          "iopub.status.idle": "2025-03-02T15:32:10.834082Z",
          "shell.execute_reply": "2025-03-02T15:32:10.832539Z",
          "shell.execute_reply.started": "2025-03-02T15:32:10.826611Z"
        },
        "id": "wmkqcngYPyao",
        "trusted": true
      },
      "outputs": [],
      "source": [
        "import numpy as np\n",
        "import pandas as pd\n",
        "import matplotlib.pyplot as plt\n",
        "import seaborn as sns\n",
        "from sklearn.model_selection import train_test_split\n",
        "from imblearn.over_sampling import SMOTE\n",
        "from sklearn.neighbors import KNeighborsClassifier\n",
        "from sklearn.linear_model import LogisticRegression\n",
        "from sklearn.metrics import classification_report, accuracy_score, confusion_matrix, precision_score, recall_score, f1_score\n",
        "from sklearn.ensemble import RandomForestClassifier"
      ]
    },
    {
      "cell_type": "markdown",
      "metadata": {
        "id": "ph1BktJrPyas"
      },
      "source": [
        "# **Step 2 | Read Dataset**"
      ]
    },
    {
      "cell_type": "markdown",
      "metadata": {
        "id": "IrEhCIbvPyat"
      },
      "source": [
        "<div style=\"border-radius:10px; padding: 15px; background-color: #facfc8; font-size:115%; text-align:left\">\n",
        "\n",
        "First of all, let's load the dataset:"
      ]
    },
    {
      "cell_type": "code",
      "execution_count": 10,
      "metadata": {
        "execution": {
          "iopub.execute_input": "2025-03-02T15:32:10.836519Z",
          "iopub.status.busy": "2025-03-02T15:32:10.835986Z",
          "iopub.status.idle": "2025-03-02T15:32:10.856696Z",
          "shell.execute_reply": "2025-03-02T15:32:10.855493Z",
          "shell.execute_reply.started": "2025-03-02T15:32:10.836477Z"
        },
        "id": "e9g5new8fUeB",
        "trusted": true
      },
      "outputs": [],
      "source": [
        "data = pd.read_csv('blood_samples_dataset_test.csv')\n",
        "\n"
      ]
    },
    {
      "cell_type": "code",
      "execution_count": 11,
      "metadata": {
        "execution": {
          "iopub.execute_input": "2025-03-02T15:32:10.858681Z",
          "iopub.status.busy": "2025-03-02T15:32:10.858309Z",
          "iopub.status.idle": "2025-03-02T15:32:10.867797Z",
          "shell.execute_reply": "2025-03-02T15:32:10.866294Z",
          "shell.execute_reply.started": "2025-03-02T15:32:10.858612Z"
        },
        "id": "NM8O5BaePyau",
        "trusted": true
      },
      "outputs": [],
      "source": [
        "train_data, test_data = train_test_split(data, test_size=0.2, random_state=42)"
      ]
    },
    {
      "cell_type": "code",
      "execution_count": 12,
      "metadata": {
        "colab": {
          "base_uri": "https://localhost:8080/",
          "height": 441
        },
        "execution": {
          "iopub.execute_input": "2025-03-02T15:32:10.87111Z",
          "iopub.status.busy": "2025-03-02T15:32:10.870732Z",
          "iopub.status.idle": "2025-03-02T15:32:10.904325Z",
          "shell.execute_reply": "2025-03-02T15:32:10.903181Z",
          "shell.execute_reply.started": "2025-03-02T15:32:10.871082Z"
        },
        "id": "cDFvCHsL5NDy",
        "outputId": "a037cc37-33c4-4226-bb8e-2c496465eb27",
        "trusted": true
      },
      "outputs": [
        {
          "data": {
            "text/html": [
              "<div>\n",
              "<style scoped>\n",
              "    .dataframe tbody tr th:only-of-type {\n",
              "        vertical-align: middle;\n",
              "    }\n",
              "\n",
              "    .dataframe tbody tr th {\n",
              "        vertical-align: top;\n",
              "    }\n",
              "\n",
              "    .dataframe thead th {\n",
              "        text-align: right;\n",
              "    }\n",
              "</style>\n",
              "<table border=\"1\" class=\"dataframe\">\n",
              "  <thead>\n",
              "    <tr style=\"text-align: right;\">\n",
              "      <th></th>\n",
              "      <th>Glucose</th>\n",
              "      <th>Cholesterol</th>\n",
              "      <th>Hemoglobin</th>\n",
              "      <th>Platelets</th>\n",
              "      <th>White Blood Cells</th>\n",
              "      <th>Red Blood Cells</th>\n",
              "      <th>Hematocrit</th>\n",
              "      <th>Mean Corpuscular Volume</th>\n",
              "      <th>Mean Corpuscular Hemoglobin</th>\n",
              "      <th>Mean Corpuscular Hemoglobin Concentration</th>\n",
              "      <th>...</th>\n",
              "      <th>HbA1c</th>\n",
              "      <th>LDL Cholesterol</th>\n",
              "      <th>HDL Cholesterol</th>\n",
              "      <th>ALT</th>\n",
              "      <th>AST</th>\n",
              "      <th>Heart Rate</th>\n",
              "      <th>Creatinine</th>\n",
              "      <th>Troponin</th>\n",
              "      <th>C-reactive Protein</th>\n",
              "      <th>Disease</th>\n",
              "    </tr>\n",
              "  </thead>\n",
              "  <tbody>\n",
              "    <tr>\n",
              "      <th>0</th>\n",
              "      <td>0.343810</td>\n",
              "      <td>0.347211</td>\n",
              "      <td>0.879096</td>\n",
              "      <td>0.850307</td>\n",
              "      <td>0.451967</td>\n",
              "      <td>0.873944</td>\n",
              "      <td>0.337557</td>\n",
              "      <td>0.906811</td>\n",
              "      <td>0.457209</td>\n",
              "      <td>0.395726</td>\n",
              "      <td>...</td>\n",
              "      <td>0.456361</td>\n",
              "      <td>0.854836</td>\n",
              "      <td>0.776464</td>\n",
              "      <td>0.123743</td>\n",
              "      <td>0.518523</td>\n",
              "      <td>0.695120</td>\n",
              "      <td>0.246893</td>\n",
              "      <td>0.592482</td>\n",
              "      <td>0.807131</td>\n",
              "      <td>Diabetes</td>\n",
              "    </tr>\n",
              "    <tr>\n",
              "      <th>1</th>\n",
              "      <td>0.588391</td>\n",
              "      <td>0.003088</td>\n",
              "      <td>0.773188</td>\n",
              "      <td>0.854583</td>\n",
              "      <td>0.498644</td>\n",
              "      <td>0.565886</td>\n",
              "      <td>0.473069</td>\n",
              "      <td>0.508935</td>\n",
              "      <td>0.062029</td>\n",
              "      <td>0.864294</td>\n",
              "      <td>...</td>\n",
              "      <td>0.508146</td>\n",
              "      <td>0.616156</td>\n",
              "      <td>0.101654</td>\n",
              "      <td>0.147040</td>\n",
              "      <td>0.115004</td>\n",
              "      <td>0.098292</td>\n",
              "      <td>0.526956</td>\n",
              "      <td>0.251893</td>\n",
              "      <td>0.114850</td>\n",
              "      <td>Thalasse</td>\n",
              "    </tr>\n",
              "    <tr>\n",
              "      <th>2</th>\n",
              "      <td>0.891698</td>\n",
              "      <td>0.976791</td>\n",
              "      <td>0.027625</td>\n",
              "      <td>0.740255</td>\n",
              "      <td>0.635076</td>\n",
              "      <td>0.027142</td>\n",
              "      <td>0.843330</td>\n",
              "      <td>0.696492</td>\n",
              "      <td>0.688079</td>\n",
              "      <td>0.296286</td>\n",
              "      <td>...</td>\n",
              "      <td>0.806246</td>\n",
              "      <td>0.767300</td>\n",
              "      <td>0.920398</td>\n",
              "      <td>0.720335</td>\n",
              "      <td>0.957106</td>\n",
              "      <td>0.798999</td>\n",
              "      <td>0.684442</td>\n",
              "      <td>0.042009</td>\n",
              "      <td>0.166463</td>\n",
              "      <td>Diabetes</td>\n",
              "    </tr>\n",
              "    <tr>\n",
              "      <th>3</th>\n",
              "      <td>0.206044</td>\n",
              "      <td>0.212879</td>\n",
              "      <td>0.247231</td>\n",
              "      <td>0.927585</td>\n",
              "      <td>0.232335</td>\n",
              "      <td>0.123815</td>\n",
              "      <td>0.436986</td>\n",
              "      <td>0.298435</td>\n",
              "      <td>0.266428</td>\n",
              "      <td>0.194279</td>\n",
              "      <td>...</td>\n",
              "      <td>0.720981</td>\n",
              "      <td>0.336904</td>\n",
              "      <td>0.410912</td>\n",
              "      <td>0.022297</td>\n",
              "      <td>0.830511</td>\n",
              "      <td>0.606609</td>\n",
              "      <td>0.515503</td>\n",
              "      <td>0.960136</td>\n",
              "      <td>0.651620</td>\n",
              "      <td>Anemia</td>\n",
              "    </tr>\n",
              "    <tr>\n",
              "      <th>4</th>\n",
              "      <td>0.731964</td>\n",
              "      <td>0.561855</td>\n",
              "      <td>0.913374</td>\n",
              "      <td>0.684255</td>\n",
              "      <td>0.922896</td>\n",
              "      <td>0.243054</td>\n",
              "      <td>0.537608</td>\n",
              "      <td>0.830956</td>\n",
              "      <td>0.475400</td>\n",
              "      <td>0.179149</td>\n",
              "      <td>...</td>\n",
              "      <td>0.224386</td>\n",
              "      <td>0.261372</td>\n",
              "      <td>0.294475</td>\n",
              "      <td>0.886588</td>\n",
              "      <td>0.542060</td>\n",
              "      <td>0.650860</td>\n",
              "      <td>0.791743</td>\n",
              "      <td>0.611481</td>\n",
              "      <td>0.401127</td>\n",
              "      <td>Thalasse</td>\n",
              "    </tr>\n",
              "    <tr>\n",
              "      <th>...</th>\n",
              "      <td>...</td>\n",
              "      <td>...</td>\n",
              "      <td>...</td>\n",
              "      <td>...</td>\n",
              "      <td>...</td>\n",
              "      <td>...</td>\n",
              "      <td>...</td>\n",
              "      <td>...</td>\n",
              "      <td>...</td>\n",
              "      <td>...</td>\n",
              "      <td>...</td>\n",
              "      <td>...</td>\n",
              "      <td>...</td>\n",
              "      <td>...</td>\n",
              "      <td>...</td>\n",
              "      <td>...</td>\n",
              "      <td>...</td>\n",
              "      <td>...</td>\n",
              "      <td>...</td>\n",
              "      <td>...</td>\n",
              "      <td>...</td>\n",
              "    </tr>\n",
              "    <tr>\n",
              "      <th>481</th>\n",
              "      <td>0.007326</td>\n",
              "      <td>0.252854</td>\n",
              "      <td>0.688965</td>\n",
              "      <td>0.585497</td>\n",
              "      <td>0.544612</td>\n",
              "      <td>0.146135</td>\n",
              "      <td>0.351908</td>\n",
              "      <td>0.580549</td>\n",
              "      <td>0.891961</td>\n",
              "      <td>0.275039</td>\n",
              "      <td>...</td>\n",
              "      <td>0.409986</td>\n",
              "      <td>0.153422</td>\n",
              "      <td>0.174263</td>\n",
              "      <td>0.045693</td>\n",
              "      <td>0.050175</td>\n",
              "      <td>0.138868</td>\n",
              "      <td>0.533495</td>\n",
              "      <td>0.010287</td>\n",
              "      <td>0.068076</td>\n",
              "      <td>Diabetes</td>\n",
              "    </tr>\n",
              "    <tr>\n",
              "      <th>482</th>\n",
              "      <td>0.939915</td>\n",
              "      <td>0.202210</td>\n",
              "      <td>0.049386</td>\n",
              "      <td>0.926244</td>\n",
              "      <td>0.573190</td>\n",
              "      <td>0.759280</td>\n",
              "      <td>0.770963</td>\n",
              "      <td>0.229671</td>\n",
              "      <td>0.881976</td>\n",
              "      <td>0.318546</td>\n",
              "      <td>...</td>\n",
              "      <td>0.255325</td>\n",
              "      <td>0.216032</td>\n",
              "      <td>0.937486</td>\n",
              "      <td>0.303286</td>\n",
              "      <td>0.320990</td>\n",
              "      <td>0.351861</td>\n",
              "      <td>0.173075</td>\n",
              "      <td>0.088020</td>\n",
              "      <td>0.215551</td>\n",
              "      <td>Diabetes</td>\n",
              "    </tr>\n",
              "    <tr>\n",
              "      <th>483</th>\n",
              "      <td>0.539449</td>\n",
              "      <td>0.772569</td>\n",
              "      <td>0.640572</td>\n",
              "      <td>0.588195</td>\n",
              "      <td>0.667438</td>\n",
              "      <td>0.206742</td>\n",
              "      <td>0.237566</td>\n",
              "      <td>0.382557</td>\n",
              "      <td>0.782439</td>\n",
              "      <td>0.087289</td>\n",
              "      <td>...</td>\n",
              "      <td>0.110708</td>\n",
              "      <td>0.969043</td>\n",
              "      <td>0.870623</td>\n",
              "      <td>0.417573</td>\n",
              "      <td>0.419676</td>\n",
              "      <td>0.187228</td>\n",
              "      <td>0.501185</td>\n",
              "      <td>0.328932</td>\n",
              "      <td>0.201635</td>\n",
              "      <td>Heart Di</td>\n",
              "    </tr>\n",
              "    <tr>\n",
              "      <th>484</th>\n",
              "      <td>0.693828</td>\n",
              "      <td>0.377165</td>\n",
              "      <td>0.898659</td>\n",
              "      <td>0.065243</td>\n",
              "      <td>0.319042</td>\n",
              "      <td>0.074909</td>\n",
              "      <td>0.259575</td>\n",
              "      <td>0.486132</td>\n",
              "      <td>0.992022</td>\n",
              "      <td>0.461381</td>\n",
              "      <td>...</td>\n",
              "      <td>0.651357</td>\n",
              "      <td>0.010345</td>\n",
              "      <td>0.727764</td>\n",
              "      <td>0.416898</td>\n",
              "      <td>0.935822</td>\n",
              "      <td>0.112558</td>\n",
              "      <td>0.019671</td>\n",
              "      <td>0.620275</td>\n",
              "      <td>0.033933</td>\n",
              "      <td>Anemia</td>\n",
              "    </tr>\n",
              "    <tr>\n",
              "      <th>485</th>\n",
              "      <td>0.269342</td>\n",
              "      <td>0.011624</td>\n",
              "      <td>0.533576</td>\n",
              "      <td>0.342742</td>\n",
              "      <td>0.427327</td>\n",
              "      <td>0.443560</td>\n",
              "      <td>0.383607</td>\n",
              "      <td>0.174713</td>\n",
              "      <td>0.540524</td>\n",
              "      <td>0.684039</td>\n",
              "      <td>...</td>\n",
              "      <td>0.265842</td>\n",
              "      <td>0.299599</td>\n",
              "      <td>0.148096</td>\n",
              "      <td>0.929171</td>\n",
              "      <td>1.000402</td>\n",
              "      <td>0.626009</td>\n",
              "      <td>0.880665</td>\n",
              "      <td>0.268616</td>\n",
              "      <td>0.947198</td>\n",
              "      <td>Heart Di</td>\n",
              "    </tr>\n",
              "  </tbody>\n",
              "</table>\n",
              "<p>486 rows × 25 columns</p>\n",
              "</div>"
            ],
            "text/plain": [
              "      Glucose  Cholesterol  Hemoglobin  Platelets  White Blood Cells  \\\n",
              "0    0.343810     0.347211    0.879096   0.850307           0.451967   \n",
              "1    0.588391     0.003088    0.773188   0.854583           0.498644   \n",
              "2    0.891698     0.976791    0.027625   0.740255           0.635076   \n",
              "3    0.206044     0.212879    0.247231   0.927585           0.232335   \n",
              "4    0.731964     0.561855    0.913374   0.684255           0.922896   \n",
              "..        ...          ...         ...        ...                ...   \n",
              "481  0.007326     0.252854    0.688965   0.585497           0.544612   \n",
              "482  0.939915     0.202210    0.049386   0.926244           0.573190   \n",
              "483  0.539449     0.772569    0.640572   0.588195           0.667438   \n",
              "484  0.693828     0.377165    0.898659   0.065243           0.319042   \n",
              "485  0.269342     0.011624    0.533576   0.342742           0.427327   \n",
              "\n",
              "     Red Blood Cells  Hematocrit  Mean Corpuscular Volume  \\\n",
              "0           0.873944    0.337557                 0.906811   \n",
              "1           0.565886    0.473069                 0.508935   \n",
              "2           0.027142    0.843330                 0.696492   \n",
              "3           0.123815    0.436986                 0.298435   \n",
              "4           0.243054    0.537608                 0.830956   \n",
              "..               ...         ...                      ...   \n",
              "481         0.146135    0.351908                 0.580549   \n",
              "482         0.759280    0.770963                 0.229671   \n",
              "483         0.206742    0.237566                 0.382557   \n",
              "484         0.074909    0.259575                 0.486132   \n",
              "485         0.443560    0.383607                 0.174713   \n",
              "\n",
              "     Mean Corpuscular Hemoglobin  Mean Corpuscular Hemoglobin Concentration  \\\n",
              "0                       0.457209                                   0.395726   \n",
              "1                       0.062029                                   0.864294   \n",
              "2                       0.688079                                   0.296286   \n",
              "3                       0.266428                                   0.194279   \n",
              "4                       0.475400                                   0.179149   \n",
              "..                           ...                                        ...   \n",
              "481                     0.891961                                   0.275039   \n",
              "482                     0.881976                                   0.318546   \n",
              "483                     0.782439                                   0.087289   \n",
              "484                     0.992022                                   0.461381   \n",
              "485                     0.540524                                   0.684039   \n",
              "\n",
              "     ...     HbA1c  LDL Cholesterol  HDL Cholesterol       ALT       AST  \\\n",
              "0    ...  0.456361         0.854836         0.776464  0.123743  0.518523   \n",
              "1    ...  0.508146         0.616156         0.101654  0.147040  0.115004   \n",
              "2    ...  0.806246         0.767300         0.920398  0.720335  0.957106   \n",
              "3    ...  0.720981         0.336904         0.410912  0.022297  0.830511   \n",
              "4    ...  0.224386         0.261372         0.294475  0.886588  0.542060   \n",
              "..   ...       ...              ...              ...       ...       ...   \n",
              "481  ...  0.409986         0.153422         0.174263  0.045693  0.050175   \n",
              "482  ...  0.255325         0.216032         0.937486  0.303286  0.320990   \n",
              "483  ...  0.110708         0.969043         0.870623  0.417573  0.419676   \n",
              "484  ...  0.651357         0.010345         0.727764  0.416898  0.935822   \n",
              "485  ...  0.265842         0.299599         0.148096  0.929171  1.000402   \n",
              "\n",
              "     Heart Rate  Creatinine  Troponin  C-reactive Protein   Disease  \n",
              "0      0.695120    0.246893  0.592482            0.807131  Diabetes  \n",
              "1      0.098292    0.526956  0.251893            0.114850  Thalasse  \n",
              "2      0.798999    0.684442  0.042009            0.166463  Diabetes  \n",
              "3      0.606609    0.515503  0.960136            0.651620    Anemia  \n",
              "4      0.650860    0.791743  0.611481            0.401127  Thalasse  \n",
              "..          ...         ...       ...                 ...       ...  \n",
              "481    0.138868    0.533495  0.010287            0.068076  Diabetes  \n",
              "482    0.351861    0.173075  0.088020            0.215551  Diabetes  \n",
              "483    0.187228    0.501185  0.328932            0.201635  Heart Di  \n",
              "484    0.112558    0.019671  0.620275            0.033933    Anemia  \n",
              "485    0.626009    0.880665  0.268616            0.947198  Heart Di  \n",
              "\n",
              "[486 rows x 25 columns]"
            ]
          },
          "execution_count": 12,
          "metadata": {},
          "output_type": "execute_result"
        }
      ],
      "source": [
        "# combine datasets\n",
        "df = pd.concat([train_data, test_data], ignore_index=True)\n",
        "df"
      ]
    },
    {
      "cell_type": "markdown",
      "metadata": {
        "id": "PbB5OfzdPyaj"
      },
      "source": [
        "**Dataset:**\n",
        "\n",
        "The dataset comprises multiple health-related attributes collected from individuals. These attributes include:\n",
        "\n",
        "* **Glucose:** Blood sugar level (mg/dL)\n",
        "* **Cholesterol:** Level of cholesterol in the blood (mg/dL)\n",
        "* **Hemoglobin:** Protein in red blood cells carrying oxygen\n",
        "* **Platelets:** Blood cells aiding in clotting\n",
        "* **White Blood Cells (WBC):** Immune system cells fighting infections\n",
        "* **Red Blood Cells (RBC):** Cells carrying oxygen\n",
        "* **Hematocrit:** Percentage of blood volume occupied by RBC\n",
        "* **Mean Corpuscular Volume (MCV):** Average volume of RBC\n",
        "* **Mean Corpuscular Hemoglobin (MCH):** Average amount of hemoglobin in RBC\n",
        "* **Mean Corpuscular Hemoglobin Concentration (MCHC):** Average concentration of hemoglobin in RBC\n",
        "* **Insulin:** Hormone regulating blood sugar levels\n",
        "* **BMI (Body Mass Index):** Measure of body fat based on height and weight\n",
        "* **Systolic Blood Pressure (SBP):** Pressure in arteries during heartbeats\n",
        "* **Diastolic Blood Pressure (DBP):** Pressure in arteries at rest between beats\n",
        "* **Triglycerides:** Type of fat found in blood (mg/dL)\n",
        "* **HbA1c (Glycated Hemoglobin):** Measure of average blood sugar levels over past 2-3 months\n",
        "* **LDL (Low-Density Lipoprotein) Cholesterol:** \"Bad\" cholesterol\n",
        "* **HDL (High-Density Lipoprotein) Cholesterol:** \"Good\" cholesterol\n",
        "* **ALT (Alanine Aminotransferase):** Liver enzyme\n",
        "* **AST (Aspartate Aminotransferase):** Enzyme found in liver and heart\n",
        "* **Heart Rate:** Number of heartbeats per minute (bpm)\n",
        "* **Creatinine:** Waste product produced by muscles and filtered by kidneys\n",
        "* **Troponin:** Protein released into bloodstream during heart muscle damage\n",
        "* **C-reactive Protein (CRP):** Marker of inflammation in the body\n",
        "* **Disease:** Binary indicator (1: Diseased, 0: Non-diseased)"
      ]
    },
    {
      "cell_type": "markdown",
      "metadata": {
        "id": "rzAifxfDPyav"
      },
      "source": [
        "# **Step 3 | Dataset Overview**"
      ]
    },
    {
      "cell_type": "markdown",
      "metadata": {
        "id": "VLGJPmT-Pyav"
      },
      "source": [
        "<div style=\"border-radius:10px; padding: 15px; background-color: #facfc8; font-size:115%; text-align:left\">\n",
        "    \n",
        "Next, I'll delve into a detailed exploration of the dataset:"
      ]
    },
    {
      "cell_type": "markdown",
      "metadata": {
        "id": "PFQ3D959Pyaw"
      },
      "source": [
        "## **Step 3.1 | Dataset Basic Information**"
      ]
    },
    {
      "cell_type": "code",
      "execution_count": 13,
      "metadata": {
        "colab": {
          "base_uri": "https://localhost:8080/"
        },
        "execution": {
          "iopub.execute_input": "2025-03-02T15:32:10.906048Z",
          "iopub.status.busy": "2025-03-02T15:32:10.905737Z",
          "iopub.status.idle": "2025-03-02T15:32:10.923224Z",
          "shell.execute_reply": "2025-03-02T15:32:10.921986Z",
          "shell.execute_reply.started": "2025-03-02T15:32:10.906023Z"
        },
        "id": "fLiZkWDEPyaw",
        "outputId": "e2546ff0-63ac-4f70-a858-1273713052a2",
        "trusted": true
      },
      "outputs": [
        {
          "name": "stdout",
          "output_type": "stream",
          "text": [
            "<class 'pandas.core.frame.DataFrame'>\n",
            "RangeIndex: 486 entries, 0 to 485\n",
            "Data columns (total 25 columns):\n",
            " #   Column                                     Non-Null Count  Dtype  \n",
            "---  ------                                     --------------  -----  \n",
            " 0   Glucose                                    486 non-null    float64\n",
            " 1   Cholesterol                                486 non-null    float64\n",
            " 2   Hemoglobin                                 486 non-null    float64\n",
            " 3   Platelets                                  486 non-null    float64\n",
            " 4   White Blood Cells                          486 non-null    float64\n",
            " 5   Red Blood Cells                            486 non-null    float64\n",
            " 6   Hematocrit                                 486 non-null    float64\n",
            " 7   Mean Corpuscular Volume                    486 non-null    float64\n",
            " 8   Mean Corpuscular Hemoglobin                486 non-null    float64\n",
            " 9   Mean Corpuscular Hemoglobin Concentration  486 non-null    float64\n",
            " 10  Insulin                                    486 non-null    float64\n",
            " 11  BMI                                        486 non-null    float64\n",
            " 12  Systolic Blood Pressure                    486 non-null    float64\n",
            " 13  Diastolic Blood Pressure                   486 non-null    float64\n",
            " 14  Triglycerides                              486 non-null    float64\n",
            " 15  HbA1c                                      486 non-null    float64\n",
            " 16  LDL Cholesterol                            486 non-null    float64\n",
            " 17  HDL Cholesterol                            486 non-null    float64\n",
            " 18  ALT                                        486 non-null    float64\n",
            " 19  AST                                        486 non-null    float64\n",
            " 20  Heart Rate                                 486 non-null    float64\n",
            " 21  Creatinine                                 486 non-null    float64\n",
            " 22  Troponin                                   486 non-null    float64\n",
            " 23  C-reactive Protein                         486 non-null    float64\n",
            " 24  Disease                                    486 non-null    object \n",
            "dtypes: float64(24), object(1)\n",
            "memory usage: 95.0+ KB\n"
          ]
        }
      ],
      "source": [
        "# Display a concise summary of the dataframe\n",
        "df.info()"
      ]
    },
    {
      "cell_type": "markdown",
      "metadata": {
        "id": "dxHsW8BlPyaw"
      },
      "source": [
        "**Inferences:**\n",
        "\n",
        "* **Number of Entries:** The dataset consists of **2837**, ranging from index 0 to 2836.\n",
        "    \n",
        "    \n",
        "* **Columns:** There are **25 columns** in the dataset corresponding to various attributes of the patients and results of tests.\n",
        "    \n",
        "    \n",
        "* **Datatypes:**\n",
        "    - Most of the columns (24 out of 25) are of the **float64** data type.\n",
        "    - Only the Disease column is of the object data type.\n",
        "    \n",
        "    \n",
        "* **Missing Values:** There don't appear to be any missing values in the dataset as each column has 303 non-null entries."
      ]
    },
    {
      "cell_type": "markdown",
      "metadata": {
        "id": "7HqoCwOQPyax"
      },
      "source": [
        "## **Step 3.2 | Summary Statistics for Numerical Variables**"
      ]
    },
    {
      "cell_type": "markdown",
      "metadata": {
        "id": "SIau_PumPyax"
      },
      "source": [
        "<div style=\"border-radius:10px; padding: 15px; background-color: #facfc8; font-size:115%; text-align:left\">\n",
        "\n",
        "Let's delve into the summary statistics for our __numerical__ attributes:"
      ]
    },
    {
      "cell_type": "code",
      "execution_count": 14,
      "metadata": {
        "colab": {
          "base_uri": "https://localhost:8080/",
          "height": 802
        },
        "execution": {
          "iopub.execute_input": "2025-03-02T15:32:10.924572Z",
          "iopub.status.busy": "2025-03-02T15:32:10.924252Z",
          "iopub.status.idle": "2025-03-02T15:32:11.003783Z",
          "shell.execute_reply": "2025-03-02T15:32:11.002304Z",
          "shell.execute_reply.started": "2025-03-02T15:32:10.924547Z"
        },
        "id": "pnVzwlVaPyay",
        "outputId": "4940e778-045e-415c-a1b7-60a444249441",
        "trusted": true
      },
      "outputs": [
        {
          "data": {
            "text/html": [
              "<div>\n",
              "<style scoped>\n",
              "    .dataframe tbody tr th:only-of-type {\n",
              "        vertical-align: middle;\n",
              "    }\n",
              "\n",
              "    .dataframe tbody tr th {\n",
              "        vertical-align: top;\n",
              "    }\n",
              "\n",
              "    .dataframe thead th {\n",
              "        text-align: right;\n",
              "    }\n",
              "</style>\n",
              "<table border=\"1\" class=\"dataframe\">\n",
              "  <thead>\n",
              "    <tr style=\"text-align: right;\">\n",
              "      <th></th>\n",
              "      <th>count</th>\n",
              "      <th>mean</th>\n",
              "      <th>std</th>\n",
              "      <th>min</th>\n",
              "      <th>25%</th>\n",
              "      <th>50%</th>\n",
              "      <th>75%</th>\n",
              "      <th>max</th>\n",
              "    </tr>\n",
              "  </thead>\n",
              "  <tbody>\n",
              "    <tr>\n",
              "      <th>Glucose</th>\n",
              "      <td>486.0</td>\n",
              "      <td>0.490044</td>\n",
              "      <td>0.284196</td>\n",
              "      <td>0.001827</td>\n",
              "      <td>0.236664</td>\n",
              "      <td>0.496471</td>\n",
              "      <td>0.727144</td>\n",
              "      <td>0.991742</td>\n",
              "    </tr>\n",
              "    <tr>\n",
              "      <th>Cholesterol</th>\n",
              "      <td>486.0</td>\n",
              "      <td>0.506797</td>\n",
              "      <td>0.282871</td>\n",
              "      <td>0.003088</td>\n",
              "      <td>0.268021</td>\n",
              "      <td>0.502397</td>\n",
              "      <td>0.754638</td>\n",
              "      <td>0.999606</td>\n",
              "    </tr>\n",
              "    <tr>\n",
              "      <th>Hemoglobin</th>\n",
              "      <td>486.0</td>\n",
              "      <td>0.485502</td>\n",
              "      <td>0.298818</td>\n",
              "      <td>0.000719</td>\n",
              "      <td>0.201994</td>\n",
              "      <td>0.477706</td>\n",
              "      <td>0.750028</td>\n",
              "      <td>0.997876</td>\n",
              "    </tr>\n",
              "    <tr>\n",
              "      <th>Platelets</th>\n",
              "      <td>486.0</td>\n",
              "      <td>0.528136</td>\n",
              "      <td>0.292610</td>\n",
              "      <td>0.000006</td>\n",
              "      <td>0.276155</td>\n",
              "      <td>0.538642</td>\n",
              "      <td>0.789486</td>\n",
              "      <td>0.999507</td>\n",
              "    </tr>\n",
              "    <tr>\n",
              "      <th>White Blood Cells</th>\n",
              "      <td>486.0</td>\n",
              "      <td>0.509783</td>\n",
              "      <td>0.290887</td>\n",
              "      <td>-0.000206</td>\n",
              "      <td>0.264944</td>\n",
              "      <td>0.511102</td>\n",
              "      <td>0.767896</td>\n",
              "      <td>0.999646</td>\n",
              "    </tr>\n",
              "    <tr>\n",
              "      <th>Red Blood Cells</th>\n",
              "      <td>486.0</td>\n",
              "      <td>0.504347</td>\n",
              "      <td>0.302865</td>\n",
              "      <td>0.000552</td>\n",
              "      <td>0.218573</td>\n",
              "      <td>0.518103</td>\n",
              "      <td>0.768466</td>\n",
              "      <td>0.997267</td>\n",
              "    </tr>\n",
              "    <tr>\n",
              "      <th>Hematocrit</th>\n",
              "      <td>486.0</td>\n",
              "      <td>0.501042</td>\n",
              "      <td>0.294501</td>\n",
              "      <td>0.004556</td>\n",
              "      <td>0.246255</td>\n",
              "      <td>0.496275</td>\n",
              "      <td>0.761107</td>\n",
              "      <td>1.000857</td>\n",
              "    </tr>\n",
              "    <tr>\n",
              "      <th>Mean Corpuscular Volume</th>\n",
              "      <td>486.0</td>\n",
              "      <td>0.516185</td>\n",
              "      <td>0.279954</td>\n",
              "      <td>0.000309</td>\n",
              "      <td>0.287755</td>\n",
              "      <td>0.533319</td>\n",
              "      <td>0.746765</td>\n",
              "      <td>0.996362</td>\n",
              "    </tr>\n",
              "    <tr>\n",
              "      <th>Mean Corpuscular Hemoglobin</th>\n",
              "      <td>486.0</td>\n",
              "      <td>0.510145</td>\n",
              "      <td>0.285213</td>\n",
              "      <td>-0.000614</td>\n",
              "      <td>0.259967</td>\n",
              "      <td>0.498332</td>\n",
              "      <td>0.761956</td>\n",
              "      <td>0.999234</td>\n",
              "    </tr>\n",
              "    <tr>\n",
              "      <th>Mean Corpuscular Hemoglobin Concentration</th>\n",
              "      <td>486.0</td>\n",
              "      <td>0.501105</td>\n",
              "      <td>0.290614</td>\n",
              "      <td>0.000719</td>\n",
              "      <td>0.255839</td>\n",
              "      <td>0.493929</td>\n",
              "      <td>0.734817</td>\n",
              "      <td>0.999666</td>\n",
              "    </tr>\n",
              "    <tr>\n",
              "      <th>Insulin</th>\n",
              "      <td>486.0</td>\n",
              "      <td>0.514365</td>\n",
              "      <td>0.302708</td>\n",
              "      <td>-0.000779</td>\n",
              "      <td>0.231867</td>\n",
              "      <td>0.524974</td>\n",
              "      <td>0.795438</td>\n",
              "      <td>0.996694</td>\n",
              "    </tr>\n",
              "    <tr>\n",
              "      <th>BMI</th>\n",
              "      <td>486.0</td>\n",
              "      <td>0.491792</td>\n",
              "      <td>0.288040</td>\n",
              "      <td>0.000051</td>\n",
              "      <td>0.244747</td>\n",
              "      <td>0.485184</td>\n",
              "      <td>0.732942</td>\n",
              "      <td>0.997262</td>\n",
              "    </tr>\n",
              "    <tr>\n",
              "      <th>Systolic Blood Pressure</th>\n",
              "      <td>486.0</td>\n",
              "      <td>0.511460</td>\n",
              "      <td>0.284696</td>\n",
              "      <td>-0.000197</td>\n",
              "      <td>0.274454</td>\n",
              "      <td>0.513765</td>\n",
              "      <td>0.746143</td>\n",
              "      <td>1.000107</td>\n",
              "    </tr>\n",
              "    <tr>\n",
              "      <th>Diastolic Blood Pressure</th>\n",
              "      <td>486.0</td>\n",
              "      <td>0.496802</td>\n",
              "      <td>0.281928</td>\n",
              "      <td>-0.000360</td>\n",
              "      <td>0.272618</td>\n",
              "      <td>0.481470</td>\n",
              "      <td>0.745734</td>\n",
              "      <td>0.998742</td>\n",
              "    </tr>\n",
              "    <tr>\n",
              "      <th>Triglycerides</th>\n",
              "      <td>486.0</td>\n",
              "      <td>0.498538</td>\n",
              "      <td>0.288848</td>\n",
              "      <td>0.001885</td>\n",
              "      <td>0.238772</td>\n",
              "      <td>0.503164</td>\n",
              "      <td>0.749527</td>\n",
              "      <td>0.999826</td>\n",
              "    </tr>\n",
              "    <tr>\n",
              "      <th>HbA1c</th>\n",
              "      <td>486.0</td>\n",
              "      <td>0.489365</td>\n",
              "      <td>0.290849</td>\n",
              "      <td>-0.000991</td>\n",
              "      <td>0.239302</td>\n",
              "      <td>0.481549</td>\n",
              "      <td>0.725472</td>\n",
              "      <td>0.999265</td>\n",
              "    </tr>\n",
              "    <tr>\n",
              "      <th>LDL Cholesterol</th>\n",
              "      <td>486.0</td>\n",
              "      <td>0.501706</td>\n",
              "      <td>0.286729</td>\n",
              "      <td>0.001036</td>\n",
              "      <td>0.262516</td>\n",
              "      <td>0.511373</td>\n",
              "      <td>0.756136</td>\n",
              "      <td>0.999567</td>\n",
              "    </tr>\n",
              "    <tr>\n",
              "      <th>HDL Cholesterol</th>\n",
              "      <td>486.0</td>\n",
              "      <td>0.487933</td>\n",
              "      <td>0.292726</td>\n",
              "      <td>-0.000546</td>\n",
              "      <td>0.229095</td>\n",
              "      <td>0.481533</td>\n",
              "      <td>0.741867</td>\n",
              "      <td>1.000744</td>\n",
              "    </tr>\n",
              "    <tr>\n",
              "      <th>ALT</th>\n",
              "      <td>486.0</td>\n",
              "      <td>0.500615</td>\n",
              "      <td>0.285374</td>\n",
              "      <td>-0.000312</td>\n",
              "      <td>0.251076</td>\n",
              "      <td>0.515321</td>\n",
              "      <td>0.739248</td>\n",
              "      <td>1.000326</td>\n",
              "    </tr>\n",
              "    <tr>\n",
              "      <th>AST</th>\n",
              "      <td>486.0</td>\n",
              "      <td>0.499675</td>\n",
              "      <td>0.301451</td>\n",
              "      <td>0.002047</td>\n",
              "      <td>0.239369</td>\n",
              "      <td>0.497846</td>\n",
              "      <td>0.775458</td>\n",
              "      <td>1.000402</td>\n",
              "    </tr>\n",
              "    <tr>\n",
              "      <th>Heart Rate</th>\n",
              "      <td>486.0</td>\n",
              "      <td>0.493794</td>\n",
              "      <td>0.292400</td>\n",
              "      <td>0.002145</td>\n",
              "      <td>0.228581</td>\n",
              "      <td>0.507581</td>\n",
              "      <td>0.751124</td>\n",
              "      <td>0.999857</td>\n",
              "    </tr>\n",
              "    <tr>\n",
              "      <th>Creatinine</th>\n",
              "      <td>486.0</td>\n",
              "      <td>0.515541</td>\n",
              "      <td>0.287223</td>\n",
              "      <td>0.008831</td>\n",
              "      <td>0.262924</td>\n",
              "      <td>0.526299</td>\n",
              "      <td>0.777839</td>\n",
              "      <td>0.999348</td>\n",
              "    </tr>\n",
              "    <tr>\n",
              "      <th>Troponin</th>\n",
              "      <td>486.0</td>\n",
              "      <td>0.510077</td>\n",
              "      <td>0.294011</td>\n",
              "      <td>0.005714</td>\n",
              "      <td>0.267101</td>\n",
              "      <td>0.508479</td>\n",
              "      <td>0.781128</td>\n",
              "      <td>1.000125</td>\n",
              "    </tr>\n",
              "    <tr>\n",
              "      <th>C-reactive Protein</th>\n",
              "      <td>486.0</td>\n",
              "      <td>0.517365</td>\n",
              "      <td>0.291645</td>\n",
              "      <td>-0.000991</td>\n",
              "      <td>0.263192</td>\n",
              "      <td>0.546542</td>\n",
              "      <td>0.776940</td>\n",
              "      <td>0.999488</td>\n",
              "    </tr>\n",
              "  </tbody>\n",
              "</table>\n",
              "</div>"
            ],
            "text/plain": [
              "                                           count      mean       std  \\\n",
              "Glucose                                    486.0  0.490044  0.284196   \n",
              "Cholesterol                                486.0  0.506797  0.282871   \n",
              "Hemoglobin                                 486.0  0.485502  0.298818   \n",
              "Platelets                                  486.0  0.528136  0.292610   \n",
              "White Blood Cells                          486.0  0.509783  0.290887   \n",
              "Red Blood Cells                            486.0  0.504347  0.302865   \n",
              "Hematocrit                                 486.0  0.501042  0.294501   \n",
              "Mean Corpuscular Volume                    486.0  0.516185  0.279954   \n",
              "Mean Corpuscular Hemoglobin                486.0  0.510145  0.285213   \n",
              "Mean Corpuscular Hemoglobin Concentration  486.0  0.501105  0.290614   \n",
              "Insulin                                    486.0  0.514365  0.302708   \n",
              "BMI                                        486.0  0.491792  0.288040   \n",
              "Systolic Blood Pressure                    486.0  0.511460  0.284696   \n",
              "Diastolic Blood Pressure                   486.0  0.496802  0.281928   \n",
              "Triglycerides                              486.0  0.498538  0.288848   \n",
              "HbA1c                                      486.0  0.489365  0.290849   \n",
              "LDL Cholesterol                            486.0  0.501706  0.286729   \n",
              "HDL Cholesterol                            486.0  0.487933  0.292726   \n",
              "ALT                                        486.0  0.500615  0.285374   \n",
              "AST                                        486.0  0.499675  0.301451   \n",
              "Heart Rate                                 486.0  0.493794  0.292400   \n",
              "Creatinine                                 486.0  0.515541  0.287223   \n",
              "Troponin                                   486.0  0.510077  0.294011   \n",
              "C-reactive Protein                         486.0  0.517365  0.291645   \n",
              "\n",
              "                                                min       25%       50%  \\\n",
              "Glucose                                    0.001827  0.236664  0.496471   \n",
              "Cholesterol                                0.003088  0.268021  0.502397   \n",
              "Hemoglobin                                 0.000719  0.201994  0.477706   \n",
              "Platelets                                  0.000006  0.276155  0.538642   \n",
              "White Blood Cells                         -0.000206  0.264944  0.511102   \n",
              "Red Blood Cells                            0.000552  0.218573  0.518103   \n",
              "Hematocrit                                 0.004556  0.246255  0.496275   \n",
              "Mean Corpuscular Volume                    0.000309  0.287755  0.533319   \n",
              "Mean Corpuscular Hemoglobin               -0.000614  0.259967  0.498332   \n",
              "Mean Corpuscular Hemoglobin Concentration  0.000719  0.255839  0.493929   \n",
              "Insulin                                   -0.000779  0.231867  0.524974   \n",
              "BMI                                        0.000051  0.244747  0.485184   \n",
              "Systolic Blood Pressure                   -0.000197  0.274454  0.513765   \n",
              "Diastolic Blood Pressure                  -0.000360  0.272618  0.481470   \n",
              "Triglycerides                              0.001885  0.238772  0.503164   \n",
              "HbA1c                                     -0.000991  0.239302  0.481549   \n",
              "LDL Cholesterol                            0.001036  0.262516  0.511373   \n",
              "HDL Cholesterol                           -0.000546  0.229095  0.481533   \n",
              "ALT                                       -0.000312  0.251076  0.515321   \n",
              "AST                                        0.002047  0.239369  0.497846   \n",
              "Heart Rate                                 0.002145  0.228581  0.507581   \n",
              "Creatinine                                 0.008831  0.262924  0.526299   \n",
              "Troponin                                   0.005714  0.267101  0.508479   \n",
              "C-reactive Protein                        -0.000991  0.263192  0.546542   \n",
              "\n",
              "                                                75%       max  \n",
              "Glucose                                    0.727144  0.991742  \n",
              "Cholesterol                                0.754638  0.999606  \n",
              "Hemoglobin                                 0.750028  0.997876  \n",
              "Platelets                                  0.789486  0.999507  \n",
              "White Blood Cells                          0.767896  0.999646  \n",
              "Red Blood Cells                            0.768466  0.997267  \n",
              "Hematocrit                                 0.761107  1.000857  \n",
              "Mean Corpuscular Volume                    0.746765  0.996362  \n",
              "Mean Corpuscular Hemoglobin                0.761956  0.999234  \n",
              "Mean Corpuscular Hemoglobin Concentration  0.734817  0.999666  \n",
              "Insulin                                    0.795438  0.996694  \n",
              "BMI                                        0.732942  0.997262  \n",
              "Systolic Blood Pressure                    0.746143  1.000107  \n",
              "Diastolic Blood Pressure                   0.745734  0.998742  \n",
              "Triglycerides                              0.749527  0.999826  \n",
              "HbA1c                                      0.725472  0.999265  \n",
              "LDL Cholesterol                            0.756136  0.999567  \n",
              "HDL Cholesterol                            0.741867  1.000744  \n",
              "ALT                                        0.739248  1.000326  \n",
              "AST                                        0.775458  1.000402  \n",
              "Heart Rate                                 0.751124  0.999857  \n",
              "Creatinine                                 0.777839  0.999348  \n",
              "Troponin                                   0.781128  1.000125  \n",
              "C-reactive Protein                         0.776940  0.999488  "
            ]
          },
          "execution_count": 14,
          "metadata": {},
          "output_type": "execute_result"
        }
      ],
      "source": [
        "# Get the summary statistics for numerical variables\n",
        "df.describe().T"
      ]
    },
    {
      "cell_type": "code",
      "execution_count": null,
      "metadata": {},
      "outputs": [],
      "source": []
    },
    {
      "cell_type": "markdown",
      "metadata": {
        "id": "xlgX0UIyPyay"
      },
      "source": [
        "## **Step 3.3 | Summary Statistics for Categorical Variables**"
      ]
    },
    {
      "cell_type": "markdown",
      "metadata": {
        "id": "_vjfWvEKPyay"
      },
      "source": [
        "<div style=\"border-radius:10px; padding: 15px; background-color: #facfc8; font-size:115%; text-align:left\">\n",
        "\n",
        "Afterward, let's look at the summary statistics of the categorical features:"
      ]
    },
    {
      "cell_type": "code",
      "execution_count": 15,
      "metadata": {
        "colab": {
          "base_uri": "https://localhost:8080/",
          "height": 175
        },
        "execution": {
          "iopub.execute_input": "2025-03-02T15:32:11.005803Z",
          "iopub.status.busy": "2025-03-02T15:32:11.005419Z",
          "iopub.status.idle": "2025-03-02T15:32:11.01772Z",
          "shell.execute_reply": "2025-03-02T15:32:11.016311Z",
          "shell.execute_reply.started": "2025-03-02T15:32:11.005774Z"
        },
        "id": "ixkCWZ2LPyaz",
        "outputId": "cc716379-b9b3-4d55-d47a-8701b9c14d83",
        "trusted": true
      },
      "outputs": [
        {
          "data": {
            "text/html": [
              "<div>\n",
              "<style scoped>\n",
              "    .dataframe tbody tr th:only-of-type {\n",
              "        vertical-align: middle;\n",
              "    }\n",
              "\n",
              "    .dataframe tbody tr th {\n",
              "        vertical-align: top;\n",
              "    }\n",
              "\n",
              "    .dataframe thead th {\n",
              "        text-align: right;\n",
              "    }\n",
              "</style>\n",
              "<table border=\"1\" class=\"dataframe\">\n",
              "  <thead>\n",
              "    <tr style=\"text-align: right;\">\n",
              "      <th></th>\n",
              "      <th>Disease</th>\n",
              "    </tr>\n",
              "  </thead>\n",
              "  <tbody>\n",
              "    <tr>\n",
              "      <th>count</th>\n",
              "      <td>486</td>\n",
              "    </tr>\n",
              "    <tr>\n",
              "      <th>unique</th>\n",
              "      <td>6</td>\n",
              "    </tr>\n",
              "    <tr>\n",
              "      <th>top</th>\n",
              "      <td>Diabetes</td>\n",
              "    </tr>\n",
              "    <tr>\n",
              "      <th>freq</th>\n",
              "      <td>294</td>\n",
              "    </tr>\n",
              "  </tbody>\n",
              "</table>\n",
              "</div>"
            ],
            "text/plain": [
              "         Disease\n",
              "count        486\n",
              "unique         6\n",
              "top     Diabetes\n",
              "freq         294"
            ]
          },
          "execution_count": 15,
          "metadata": {},
          "output_type": "execute_result"
        }
      ],
      "source": [
        "# Get the summary statistics for categorical variables\n",
        "df.describe(include='object')"
      ]
    },
    {
      "cell_type": "markdown",
      "metadata": {
        "id": "Jqs5fuP5Pyaz"
      },
      "source": [
        "**Categorical Features:**\n",
        "\n",
        "* **`Disease`**: There are 6 unique values, with Diabetes being the most frequent category, occurring 834 times out of 2837 entries."
      ]
    },
    {
      "cell_type": "markdown",
      "metadata": {
        "id": "Ys7YLwd9Pyaz"
      },
      "source": [
        "# **Step 4 | EDA**"
      ]
    },
    {
      "cell_type": "markdown",
      "metadata": {
        "id": "Pk8hYQlFPya0"
      },
      "source": [
        "In our Exploratory Data Analysis (EDA), we'll proceed in two primary phases:\n",
        "\n",
        "1. **Univariate Analysis**: During this stage, our attention will be directed towards examining each feature independently to grasp its distribution and scope.\n",
        "\n",
        "2. **Multivariate Analysis**: In this phase, we'll delve into the connection between all features together excluding the target. This exploration aids in understanding the significance and impact of each feature on predicting the target outcome.\n",
        "\n",
        "Through these sequential steps, our objective is to gain insights into the distinctive attributes of the data as well as how each feature contributes to our overarching goal: **predicting the target variable**."
      ]
    },
    {
      "cell_type": "markdown",
      "metadata": {
        "id": "TxTmx1BnPya0"
      },
      "source": [
        "## **Step 4.1 | Univariate Analysis**"
      ]
    },
    {
      "cell_type": "markdown",
      "metadata": {
        "id": "yP9vIhFXPya0"
      },
      "source": [
        "We conduct univariate analysis on the dataset's features, distinguishing between their respective data types:\n",
        "\n",
        "* For **continuous data**: We utilize density plot to illuminate the distribution of each feature. This enables us to grasp the central tendency, dispersion, and form of the dataset's distribution.\n",
        "\n",
        "* For **categorical data**: Count plots are employed to depict the frequency of each category. This offers a concise portrayal of the prevalence of each category within its corresponding feature.\n",
        "\n",
        "By leveraging these visualization methods, we enhance our comprehension of the distinct attributes associated with each feature in the dataset."
      ]
    },
    {
      "cell_type": "markdown",
      "metadata": {
        "id": "xBeywsadPya1"
      },
      "source": [
        "### **Step 4.1.1 | Numerical Variables Univariate Analysis**"
      ]
    },
    {
      "cell_type": "code",
      "execution_count": 16,
      "metadata": {
        "execution": {
          "iopub.execute_input": "2025-03-02T15:32:11.019593Z",
          "iopub.status.busy": "2025-03-02T15:32:11.019197Z",
          "iopub.status.idle": "2025-03-02T15:32:11.031957Z",
          "shell.execute_reply": "2025-03-02T15:32:11.030734Z",
          "shell.execute_reply.started": "2025-03-02T15:32:11.019557Z"
        },
        "id": "hkiFczZuwjtx",
        "trusted": true
      },
      "outputs": [],
      "source": [
        "# Filter out continuous features for the univariate analysis\n",
        "df_continuous = df.iloc[:, :-1]"
      ]
    },
    {
      "cell_type": "code",
      "execution_count": 17,
      "metadata": {
        "execution": {
          "iopub.execute_input": "2025-03-02T15:32:11.035737Z",
          "iopub.status.busy": "2025-03-02T15:32:11.035307Z",
          "iopub.status.idle": "2025-03-02T15:32:11.048304Z",
          "shell.execute_reply": "2025-03-02T15:32:11.046983Z",
          "shell.execute_reply.started": "2025-03-02T15:32:11.035708Z"
        },
        "id": "_-UMVN8YPya1",
        "trusted": true
      },
      "outputs": [],
      "source": [
        "# # Set up the subplot\n",
        "# fig, axes = plt.subplots(nrows=4, ncols=6, figsize=(20, 12))\n",
        "# fig.tight_layout(pad=2.5)\n",
        "\n",
        "# axes = axes.flatten()\n",
        "\n",
        "# for i, col in enumerate(df_continuous.columns):\n",
        "#   sns.distplot(df_continuous[col], ax = axes[i])\n",
        "\n",
        "# plt.show()"
      ]
    },
    {
      "cell_type": "markdown",
      "metadata": {
        "id": "gtHQOGWnPya1"
      },
      "source": [
        "Upon reviewing the density plots of the continuous features and cross-referencing them with the provided feature descriptions, everything appears consistent and within expected ranges. __There doesn't seem to be any noticeable noise or implausible values among the continuous variables.__"
      ]
    },
    {
      "cell_type": "markdown",
      "metadata": {
        "id": "Z9dVd9BEPya2"
      },
      "source": [
        "### **Step 4.1.2 | Categorical Variables Univariate Analysis**"
      ]
    },
    {
      "cell_type": "code",
      "execution_count": 18,
      "metadata": {
        "colab": {
          "base_uri": "https://localhost:8080/",
          "height": 699
        },
        "execution": {
          "iopub.execute_input": "2025-03-02T15:32:11.05018Z",
          "iopub.status.busy": "2025-03-02T15:32:11.049776Z",
          "iopub.status.idle": "2025-03-02T15:32:11.42328Z",
          "shell.execute_reply": "2025-03-02T15:32:11.422068Z",
          "shell.execute_reply.started": "2025-03-02T15:32:11.05009Z"
        },
        "id": "aev1mK2VPya2",
        "outputId": "952becd0-c57e-4b37-b507-ae6685493f93",
        "trusted": true
      },
      "outputs": [
        {
          "data": {
            "image/png": "[encoded data removed]",
            "text/plain": [
              "<Figure size 504x432 with 1 Axes>"
            ]
          },
          "metadata": {
            "needs_background": "light"
          },
          "output_type": "display_data"
        }
      ],
      "source": [
        "plt.figure(figsize=(7, 6))\n",
        "sns.countplot(x=df['Disease'], data=df, palette=\"viridis\")\n",
        "\n",
        "# Customize plot appearance\n",
        "plt.xlabel('Category')\n",
        "plt.ylabel('Count')\n",
        "plt.title('Distribution of Categories')\n",
        "plt.xticks(rotation=45)  # Rotate x-axis labels for better readability\n",
        "\n",
        "# Show plot\n",
        "plt.tight_layout()\n",
        "plt.show()"
      ]
    },
    {
      "cell_type": "markdown",
      "metadata": {
        "id": "T-n1MVtYPya3"
      },
      "source": [
        "The countplot of Disease feature reveals that **`Diabetes`** disease is the most prevalent, followed by **`Anemia`** disease and **`Healthy`** people. Diseases **`Thalasse`**, **`Thromboc`**, and **`Heart Di`** are relatively less common. This distribution suggests that **`Diabetes`** disease is the dominant category in the dataset, with a significantly higher frequency compared to other categories."
      ]
    },
    {
      "cell_type": "markdown",
      "metadata": {
        "id": "p33Q4HXLPya3"
      },
      "source": [
        "## **Step 4.2 | Multivariate Analysis**"
      ]
    },
    {
      "cell_type": "markdown",
      "metadata": {
        "id": "oLjjNtq1Pya-"
      },
      "source": [
        "For our __Multivariate analysis__ on the dataset's features:\n",
        "\n",
        "We will create a **correlation matrix** to detect the correlation between all variables except the target and determine whether there is a high correlation between some features so that we can limit the number of features."
      ]
    },
    {
      "cell_type": "code",
      "execution_count": 19,
      "metadata": {
        "colab": {
          "base_uri": "https://localhost:8080/",
          "height": 1000
        },
        "execution": {
          "iopub.execute_input": "2025-03-02T15:32:11.425031Z",
          "iopub.status.busy": "2025-03-02T15:32:11.424719Z",
          "iopub.status.idle": "2025-03-02T15:32:13.463415Z",
          "shell.execute_reply": "2025-03-02T15:32:13.462337Z",
          "shell.execute_reply.started": "2025-03-02T15:32:11.425005Z"
        },
        "id": "_SFbmQlrLJHU",
        "outputId": "0727415a-9ac6-422b-d65d-6386c2b6493d",
        "trusted": true
      },
      "outputs": [
        {
          "data": {
            "image/png": "[encoded data removed]",
            "text/plain": [
              "<Figure size 1080x720 with 2 Axes>"
            ]
          },
          "metadata": {
            "needs_background": "light"
          },
          "output_type": "display_data"
        }
      ],
      "source": [
        "plt.figure(figsize=(15,10))\n",
        "\n",
        "sns.heatmap(df_continuous.corr(), annot=True, fmt = \".2f\")\n",
        "\n",
        "plt.tight_layout()\n",
        "plt.show()"
      ]
    },
    {
      "cell_type": "code",
      "execution_count": 20,
      "metadata": {
        "colab": {
          "base_uri": "https://localhost:8080/"
        },
        "execution": {
          "iopub.execute_input": "2025-03-02T15:32:13.46519Z",
          "iopub.status.busy": "2025-03-02T15:32:13.464866Z",
          "iopub.status.idle": "2025-03-02T15:32:14.045805Z",
          "shell.execute_reply": "2025-03-02T15:32:14.044487Z",
          "shell.execute_reply.started": "2025-03-02T15:32:13.465156Z"
        },
        "id": "nB86anXIMm8S",
        "outputId": "70393973-b995-4be2-aec3-bb3f4f74b0bb",
        "trusted": true
      },
      "outputs": [
        {
          "name": "stdout",
          "output_type": "stream",
          "text": [
            "No high correlation is found.\n"
          ]
        }
      ],
      "source": [
        "# Check for high correlations\n",
        "\n",
        "high_correlation_found = False\n",
        "\n",
        "features = df_continuous.columns\n",
        "for feature1 in features:\n",
        "  for feature2 in features:\n",
        "    if feature1 != feature2:\n",
        "      corr = df_continuous.corr().loc[feature1, feature2]\n",
        "      if corr > 0.5 or corr < -0.5:\n",
        "        print(f\"Correlation coefficient between {feature1} and {feature2}: {corr}\")\n",
        "        high_correlation_found = True\n",
        "\n",
        "if not high_correlation_found:\n",
        "    print(\"No high correlation is found.\")"
      ]
    },
    {
      "cell_type": "markdown",
      "metadata": {
        "id": "U7yOJ4NhPG72"
      },
      "source": [
        "**Inference:**\n",
        "\n",
        "Upon analyzing the correlation matrix of the continuous features in our dataset, we observe that no pairs of features exhibit a high correlation coefficient (greater than 0.5 or less than -0.5). This indicates that there are no strong linear relationships between any of the continuous variables"
      ]
    },
    {
      "cell_type": "markdown",
      "metadata": {
        "id": "MtEI6SPVPybB"
      },
      "source": [
        "# **Step 5 | Data Preprocessing**"
      ]
    },
    {
      "cell_type": "markdown",
      "metadata": {
        "id": "bbV_zJRLPybB"
      },
      "source": [
        "## **Step 5.1 | Irrelevant Features Removal**"
      ]
    },
    {
      "cell_type": "markdown",
      "metadata": {
        "id": "o8mrgd-VPybB"
      },
      "source": [
        "<div style=\"border-radius:10px; padding: 15px; background-color: #facfc8; font-size:115%; text-align:left\">\n",
        "\n",
        "All features in the dataset appear to be relevant based on our __EDA__. No columns seem redundant or irrelevant. Thus, we'll retain all features, ensuring no valuable information is lost, especially given the dataset's small size."
      ]
    },
    {
      "cell_type": "markdown",
      "metadata": {
        "id": "cgRPuk_gPybB"
      },
      "source": [
        "## **Step 5.2 | Missing Value Treatment**"
      ]
    },
    {
      "cell_type": "code",
      "execution_count": 21,
      "metadata": {
        "colab": {
          "base_uri": "https://localhost:8080/"
        },
        "execution": {
          "iopub.execute_input": "2025-03-02T15:32:14.048552Z",
          "iopub.status.busy": "2025-03-02T15:32:14.047909Z",
          "iopub.status.idle": "2025-03-02T15:32:14.058895Z",
          "shell.execute_reply": "2025-03-02T15:32:14.057334Z",
          "shell.execute_reply.started": "2025-03-02T15:32:14.048509Z"
        },
        "id": "TfhBsCHrPybB",
        "outputId": "fff9ae6b-7284-40c7-fb06-e5eddac7839b",
        "trusted": true
      },
      "outputs": [
        {
          "data": {
            "text/plain": [
              "0"
            ]
          },
          "execution_count": 21,
          "metadata": {},
          "output_type": "execute_result"
        }
      ],
      "source": [
        "# Check for missing values in the dataset\n",
        "df.isnull().sum().sum()"
      ]
    },
    {
      "cell_type": "markdown",
      "metadata": {
        "id": "gNO0b-TkPybC"
      },
      "source": [
        " Upon our above inspection, it is obvious that there are no missing values in our dataset. This is ideal as it means we don't have to make decisions about imputation or removal, which can introduce bias or reduce our already limited dataset size."
      ]
    },
    {
      "cell_type": "markdown",
      "metadata": {
        "id": "YL208wSmKWso"
      },
      "source": [
        "## **Step 5.3 | Duplicated Values Treatment**"
      ]
    },
    {
      "cell_type": "code",
      "execution_count": 22,
      "metadata": {
        "colab": {
          "base_uri": "https://localhost:8080/"
        },
        "execution": {
          "iopub.execute_input": "2025-03-02T15:32:14.061395Z",
          "iopub.status.busy": "2025-03-02T15:32:14.060937Z",
          "iopub.status.idle": "2025-03-02T15:32:14.075725Z",
          "shell.execute_reply": "2025-03-02T15:32:14.07461Z",
          "shell.execute_reply.started": "2025-03-02T15:32:14.061351Z"
        },
        "id": "eMmQpx1GKhMX",
        "outputId": "e270e0ed-58d1-477a-cc2d-fb601bd8a26f",
        "trusted": true
      },
      "outputs": [
        {
          "data": {
            "text/plain": [
              "0"
            ]
          },
          "execution_count": 22,
          "metadata": {},
          "output_type": "execute_result"
        }
      ],
      "source": [
        "df.duplicated().sum()"
      ]
    },
    {
      "cell_type": "code",
      "execution_count": 23,
      "metadata": {
        "colab": {
          "base_uri": "https://localhost:8080/"
        },
        "execution": {
          "iopub.execute_input": "2025-03-02T15:32:14.077312Z",
          "iopub.status.busy": "2025-03-02T15:32:14.076914Z",
          "iopub.status.idle": "2025-03-02T15:32:14.095232Z",
          "shell.execute_reply": "2025-03-02T15:32:14.094081Z",
          "shell.execute_reply.started": "2025-03-02T15:32:14.077276Z"
        },
        "id": "3_cYa-Z7Kwgl",
        "outputId": "0a179f58-2f8c-494d-cff7-9f068de601f6",
        "trusted": true
      },
      "outputs": [
        {
          "data": {
            "text/plain": [
              "0"
            ]
          },
          "execution_count": 23,
          "metadata": {},
          "output_type": "execute_result"
        }
      ],
      "source": [
        "df.drop_duplicates(inplace = True)\n",
        "df.duplicated().sum()"
      ]
    },
    {
      "cell_type": "code",
      "execution_count": 24,
      "metadata": {
        "colab": {
          "base_uri": "https://localhost:8080/"
        },
        "execution": {
          "iopub.execute_input": "2025-03-02T15:32:14.097813Z",
          "iopub.status.busy": "2025-03-02T15:32:14.097357Z",
          "iopub.status.idle": "2025-03-02T15:32:14.109694Z",
          "shell.execute_reply": "2025-03-02T15:32:14.108364Z",
          "shell.execute_reply.started": "2025-03-02T15:32:14.097777Z"
        },
        "id": "l3tb9kTFDGPL",
        "outputId": "b5ca9110-194d-48f3-a1dc-2a97ea443f9e",
        "trusted": true
      },
      "outputs": [
        {
          "data": {
            "text/plain": [
              "(486, 25)"
            ]
          },
          "execution_count": 24,
          "metadata": {},
          "output_type": "execute_result"
        }
      ],
      "source": [
        "df.shape"
      ]
    },
    {
      "cell_type": "markdown",
      "metadata": {
        "id": "LwTcvgsvK87h"
      },
      "source": [
        "Upon our above inspection, we found that there were about **2286** duplicated records in our dataset. We addressed this issue by dropping the duplicates. This is ideal as it helps to ensure the integrity of our data by eliminating redundant entries, thus providing a more accurate analysis"
      ]
    },
    {
      "cell_type": "markdown",
      "metadata": {
        "id": "vhQfc-DoPybC"
      },
      "source": [
        "## **Step 5.4 | Outlier Treatment**"
      ]
    },
    {
      "cell_type": "markdown",
      "metadata": {
        "id": "LZi7lorkPybC"
      },
      "source": [
        "<div style=\"border-radius:10px; padding: 15px; background-color: #facfc8; font-size:115%; text-align:left\">\n",
        "\n",
        "I am going to check for outliers using the __IQR method__ for the continuous features:"
      ]
    },
    {
      "cell_type": "code",
      "execution_count": 25,
      "metadata": {
        "execution": {
          "iopub.execute_input": "2025-03-02T15:32:14.112155Z",
          "iopub.status.busy": "2025-03-02T15:32:14.111735Z",
          "iopub.status.idle": "2025-03-02T15:32:14.122459Z",
          "shell.execute_reply": "2025-03-02T15:32:14.121288Z",
          "shell.execute_reply.started": "2025-03-02T15:32:14.112119Z"
        },
        "id": "sdpgrZvwPybD",
        "trusted": true
      },
      "outputs": [],
      "source": [
        "continuous_features = df_continuous.columns.to_list()"
      ]
    },
    {
      "cell_type": "code",
      "execution_count": 26,
      "metadata": {
        "colab": {
          "base_uri": "https://localhost:8080/",
          "height": 836
        },
        "execution": {
          "iopub.execute_input": "2025-03-02T15:32:14.124588Z",
          "iopub.status.busy": "2025-03-02T15:32:14.124242Z",
          "iopub.status.idle": "2025-03-02T15:32:14.160779Z",
          "shell.execute_reply": "2025-03-02T15:32:14.159518Z",
          "shell.execute_reply.started": "2025-03-02T15:32:14.124561Z"
        },
        "id": "piMoUJt1PybD",
        "outputId": "7e766005-b798-42f6-8af1-35cc0c2e637b",
        "trusted": true
      },
      "outputs": [
        {
          "data": {
            "text/plain": [
              "Glucose                                      0\n",
              "Cholesterol                                  0\n",
              "Hemoglobin                                   0\n",
              "Platelets                                    0\n",
              "White Blood Cells                            0\n",
              "Red Blood Cells                              0\n",
              "Hematocrit                                   0\n",
              "Mean Corpuscular Volume                      0\n",
              "Mean Corpuscular Hemoglobin                  0\n",
              "Mean Corpuscular Hemoglobin Concentration    0\n",
              "Insulin                                      0\n",
              "BMI                                          0\n",
              "Systolic Blood Pressure                      0\n",
              "Diastolic Blood Pressure                     0\n",
              "Triglycerides                                0\n",
              "HbA1c                                        0\n",
              "LDL Cholesterol                              0\n",
              "HDL Cholesterol                              0\n",
              "ALT                                          0\n",
              "AST                                          0\n",
              "Heart Rate                                   0\n",
              "Creatinine                                   0\n",
              "Troponin                                     0\n",
              "C-reactive Protein                           0\n",
              "dtype: int64"
            ]
          },
          "execution_count": 26,
          "metadata": {},
          "output_type": "execute_result"
        }
      ],
      "source": [
        "Q1 = df[continuous_features].quantile(0.25)\n",
        "Q3 = df[continuous_features].quantile(0.75)\n",
        "IQR = Q3 - Q1\n",
        "outliers_count_specified = ((df[continuous_features] < (Q1 - 1.5 * IQR)) | (df[continuous_features] > (Q3 + 1.5 * IQR))).sum()\n",
        "\n",
        "outliers_count_specified"
      ]
    },
    {
      "cell_type": "markdown",
      "metadata": {
        "id": "mw4enTHrPybD"
      },
      "source": [
        "Upon identifying outliers for the specified continuous features, we found the following:\n",
        "\n",
        "**There are no outliers detected in this data**"
      ]
    },
    {
      "cell_type": "markdown",
      "metadata": {
        "id": "9MCxxHxEPybE"
      },
      "source": [
        "## **Step 5.5 | Disease Feature Encoding**"
      ]
    },
    {
      "cell_type": "code",
      "execution_count": 27,
      "metadata": {
        "colab": {
          "base_uri": "https://localhost:8080/",
          "height": 441
        },
        "execution": {
          "iopub.execute_input": "2025-03-02T15:32:14.163522Z",
          "iopub.status.busy": "2025-03-02T15:32:14.16247Z",
          "iopub.status.idle": "2025-03-02T15:32:14.196642Z",
          "shell.execute_reply": "2025-03-02T15:32:14.195326Z",
          "shell.execute_reply.started": "2025-03-02T15:32:14.163479Z"
        },
        "id": "sBnsIijCPybE",
        "outputId": "53e08b39-e245-4445-ce5f-8b3b9d3b52fa",
        "trusted": true
      },
      "outputs": [
        {
          "data": {
            "text/html": [
              "<div>\n",
              "<style scoped>\n",
              "    .dataframe tbody tr th:only-of-type {\n",
              "        vertical-align: middle;\n",
              "    }\n",
              "\n",
              "    .dataframe tbody tr th {\n",
              "        vertical-align: top;\n",
              "    }\n",
              "\n",
              "    .dataframe thead th {\n",
              "        text-align: right;\n",
              "    }\n",
              "</style>\n",
              "<table border=\"1\" class=\"dataframe\">\n",
              "  <thead>\n",
              "    <tr style=\"text-align: right;\">\n",
              "      <th></th>\n",
              "      <th>Glucose</th>\n",
              "      <th>Cholesterol</th>\n",
              "      <th>Hemoglobin</th>\n",
              "      <th>Platelets</th>\n",
              "      <th>White Blood Cells</th>\n",
              "      <th>Red Blood Cells</th>\n",
              "      <th>Hematocrit</th>\n",
              "      <th>Mean Corpuscular Volume</th>\n",
              "      <th>Mean Corpuscular Hemoglobin</th>\n",
              "      <th>Mean Corpuscular Hemoglobin Concentration</th>\n",
              "      <th>...</th>\n",
              "      <th>HbA1c</th>\n",
              "      <th>LDL Cholesterol</th>\n",
              "      <th>HDL Cholesterol</th>\n",
              "      <th>ALT</th>\n",
              "      <th>AST</th>\n",
              "      <th>Heart Rate</th>\n",
              "      <th>Creatinine</th>\n",
              "      <th>Troponin</th>\n",
              "      <th>C-reactive Protein</th>\n",
              "      <th>Disease</th>\n",
              "    </tr>\n",
              "  </thead>\n",
              "  <tbody>\n",
              "    <tr>\n",
              "      <th>0</th>\n",
              "      <td>0.343810</td>\n",
              "      <td>0.347211</td>\n",
              "      <td>0.879096</td>\n",
              "      <td>0.850307</td>\n",
              "      <td>0.451967</td>\n",
              "      <td>0.873944</td>\n",
              "      <td>0.337557</td>\n",
              "      <td>0.906811</td>\n",
              "      <td>0.457209</td>\n",
              "      <td>0.395726</td>\n",
              "      <td>...</td>\n",
              "      <td>0.456361</td>\n",
              "      <td>0.854836</td>\n",
              "      <td>0.776464</td>\n",
              "      <td>0.123743</td>\n",
              "      <td>0.518523</td>\n",
              "      <td>0.695120</td>\n",
              "      <td>0.246893</td>\n",
              "      <td>0.592482</td>\n",
              "      <td>0.807131</td>\n",
              "      <td>1</td>\n",
              "    </tr>\n",
              "    <tr>\n",
              "      <th>1</th>\n",
              "      <td>0.588391</td>\n",
              "      <td>0.003088</td>\n",
              "      <td>0.773188</td>\n",
              "      <td>0.854583</td>\n",
              "      <td>0.498644</td>\n",
              "      <td>0.565886</td>\n",
              "      <td>0.473069</td>\n",
              "      <td>0.508935</td>\n",
              "      <td>0.062029</td>\n",
              "      <td>0.864294</td>\n",
              "      <td>...</td>\n",
              "      <td>0.508146</td>\n",
              "      <td>0.616156</td>\n",
              "      <td>0.101654</td>\n",
              "      <td>0.147040</td>\n",
              "      <td>0.115004</td>\n",
              "      <td>0.098292</td>\n",
              "      <td>0.526956</td>\n",
              "      <td>0.251893</td>\n",
              "      <td>0.114850</td>\n",
              "      <td>1</td>\n",
              "    </tr>\n",
              "    <tr>\n",
              "      <th>2</th>\n",
              "      <td>0.891698</td>\n",
              "      <td>0.976791</td>\n",
              "      <td>0.027625</td>\n",
              "      <td>0.740255</td>\n",
              "      <td>0.635076</td>\n",
              "      <td>0.027142</td>\n",
              "      <td>0.843330</td>\n",
              "      <td>0.696492</td>\n",
              "      <td>0.688079</td>\n",
              "      <td>0.296286</td>\n",
              "      <td>...</td>\n",
              "      <td>0.806246</td>\n",
              "      <td>0.767300</td>\n",
              "      <td>0.920398</td>\n",
              "      <td>0.720335</td>\n",
              "      <td>0.957106</td>\n",
              "      <td>0.798999</td>\n",
              "      <td>0.684442</td>\n",
              "      <td>0.042009</td>\n",
              "      <td>0.166463</td>\n",
              "      <td>1</td>\n",
              "    </tr>\n",
              "    <tr>\n",
              "      <th>3</th>\n",
              "      <td>0.206044</td>\n",
              "      <td>0.212879</td>\n",
              "      <td>0.247231</td>\n",
              "      <td>0.927585</td>\n",
              "      <td>0.232335</td>\n",
              "      <td>0.123815</td>\n",
              "      <td>0.436986</td>\n",
              "      <td>0.298435</td>\n",
              "      <td>0.266428</td>\n",
              "      <td>0.194279</td>\n",
              "      <td>...</td>\n",
              "      <td>0.720981</td>\n",
              "      <td>0.336904</td>\n",
              "      <td>0.410912</td>\n",
              "      <td>0.022297</td>\n",
              "      <td>0.830511</td>\n",
              "      <td>0.606609</td>\n",
              "      <td>0.515503</td>\n",
              "      <td>0.960136</td>\n",
              "      <td>0.651620</td>\n",
              "      <td>1</td>\n",
              "    </tr>\n",
              "    <tr>\n",
              "      <th>4</th>\n",
              "      <td>0.731964</td>\n",
              "      <td>0.561855</td>\n",
              "      <td>0.913374</td>\n",
              "      <td>0.684255</td>\n",
              "      <td>0.922896</td>\n",
              "      <td>0.243054</td>\n",
              "      <td>0.537608</td>\n",
              "      <td>0.830956</td>\n",
              "      <td>0.475400</td>\n",
              "      <td>0.179149</td>\n",
              "      <td>...</td>\n",
              "      <td>0.224386</td>\n",
              "      <td>0.261372</td>\n",
              "      <td>0.294475</td>\n",
              "      <td>0.886588</td>\n",
              "      <td>0.542060</td>\n",
              "      <td>0.650860</td>\n",
              "      <td>0.791743</td>\n",
              "      <td>0.611481</td>\n",
              "      <td>0.401127</td>\n",
              "      <td>1</td>\n",
              "    </tr>\n",
              "    <tr>\n",
              "      <th>...</th>\n",
              "      <td>...</td>\n",
              "      <td>...</td>\n",
              "      <td>...</td>\n",
              "      <td>...</td>\n",
              "      <td>...</td>\n",
              "      <td>...</td>\n",
              "      <td>...</td>\n",
              "      <td>...</td>\n",
              "      <td>...</td>\n",
              "      <td>...</td>\n",
              "      <td>...</td>\n",
              "      <td>...</td>\n",
              "      <td>...</td>\n",
              "      <td>...</td>\n",
              "      <td>...</td>\n",
              "      <td>...</td>\n",
              "      <td>...</td>\n",
              "      <td>...</td>\n",
              "      <td>...</td>\n",
              "      <td>...</td>\n",
              "      <td>...</td>\n",
              "    </tr>\n",
              "    <tr>\n",
              "      <th>481</th>\n",
              "      <td>0.007326</td>\n",
              "      <td>0.252854</td>\n",
              "      <td>0.688965</td>\n",
              "      <td>0.585497</td>\n",
              "      <td>0.544612</td>\n",
              "      <td>0.146135</td>\n",
              "      <td>0.351908</td>\n",
              "      <td>0.580549</td>\n",
              "      <td>0.891961</td>\n",
              "      <td>0.275039</td>\n",
              "      <td>...</td>\n",
              "      <td>0.409986</td>\n",
              "      <td>0.153422</td>\n",
              "      <td>0.174263</td>\n",
              "      <td>0.045693</td>\n",
              "      <td>0.050175</td>\n",
              "      <td>0.138868</td>\n",
              "      <td>0.533495</td>\n",
              "      <td>0.010287</td>\n",
              "      <td>0.068076</td>\n",
              "      <td>1</td>\n",
              "    </tr>\n",
              "    <tr>\n",
              "      <th>482</th>\n",
              "      <td>0.939915</td>\n",
              "      <td>0.202210</td>\n",
              "      <td>0.049386</td>\n",
              "      <td>0.926244</td>\n",
              "      <td>0.573190</td>\n",
              "      <td>0.759280</td>\n",
              "      <td>0.770963</td>\n",
              "      <td>0.229671</td>\n",
              "      <td>0.881976</td>\n",
              "      <td>0.318546</td>\n",
              "      <td>...</td>\n",
              "      <td>0.255325</td>\n",
              "      <td>0.216032</td>\n",
              "      <td>0.937486</td>\n",
              "      <td>0.303286</td>\n",
              "      <td>0.320990</td>\n",
              "      <td>0.351861</td>\n",
              "      <td>0.173075</td>\n",
              "      <td>0.088020</td>\n",
              "      <td>0.215551</td>\n",
              "      <td>1</td>\n",
              "    </tr>\n",
              "    <tr>\n",
              "      <th>483</th>\n",
              "      <td>0.539449</td>\n",
              "      <td>0.772569</td>\n",
              "      <td>0.640572</td>\n",
              "      <td>0.588195</td>\n",
              "      <td>0.667438</td>\n",
              "      <td>0.206742</td>\n",
              "      <td>0.237566</td>\n",
              "      <td>0.382557</td>\n",
              "      <td>0.782439</td>\n",
              "      <td>0.087289</td>\n",
              "      <td>...</td>\n",
              "      <td>0.110708</td>\n",
              "      <td>0.969043</td>\n",
              "      <td>0.870623</td>\n",
              "      <td>0.417573</td>\n",
              "      <td>0.419676</td>\n",
              "      <td>0.187228</td>\n",
              "      <td>0.501185</td>\n",
              "      <td>0.328932</td>\n",
              "      <td>0.201635</td>\n",
              "      <td>1</td>\n",
              "    </tr>\n",
              "    <tr>\n",
              "      <th>484</th>\n",
              "      <td>0.693828</td>\n",
              "      <td>0.377165</td>\n",
              "      <td>0.898659</td>\n",
              "      <td>0.065243</td>\n",
              "      <td>0.319042</td>\n",
              "      <td>0.074909</td>\n",
              "      <td>0.259575</td>\n",
              "      <td>0.486132</td>\n",
              "      <td>0.992022</td>\n",
              "      <td>0.461381</td>\n",
              "      <td>...</td>\n",
              "      <td>0.651357</td>\n",
              "      <td>0.010345</td>\n",
              "      <td>0.727764</td>\n",
              "      <td>0.416898</td>\n",
              "      <td>0.935822</td>\n",
              "      <td>0.112558</td>\n",
              "      <td>0.019671</td>\n",
              "      <td>0.620275</td>\n",
              "      <td>0.033933</td>\n",
              "      <td>1</td>\n",
              "    </tr>\n",
              "    <tr>\n",
              "      <th>485</th>\n",
              "      <td>0.269342</td>\n",
              "      <td>0.011624</td>\n",
              "      <td>0.533576</td>\n",
              "      <td>0.342742</td>\n",
              "      <td>0.427327</td>\n",
              "      <td>0.443560</td>\n",
              "      <td>0.383607</td>\n",
              "      <td>0.174713</td>\n",
              "      <td>0.540524</td>\n",
              "      <td>0.684039</td>\n",
              "      <td>...</td>\n",
              "      <td>0.265842</td>\n",
              "      <td>0.299599</td>\n",
              "      <td>0.148096</td>\n",
              "      <td>0.929171</td>\n",
              "      <td>1.000402</td>\n",
              "      <td>0.626009</td>\n",
              "      <td>0.880665</td>\n",
              "      <td>0.268616</td>\n",
              "      <td>0.947198</td>\n",
              "      <td>1</td>\n",
              "    </tr>\n",
              "  </tbody>\n",
              "</table>\n",
              "<p>486 rows × 25 columns</p>\n",
              "</div>"
            ],
            "text/plain": [
              "      Glucose  Cholesterol  Hemoglobin  Platelets  White Blood Cells  \\\n",
              "0    0.343810     0.347211    0.879096   0.850307           0.451967   \n",
              "1    0.588391     0.003088    0.773188   0.854583           0.498644   \n",
              "2    0.891698     0.976791    0.027625   0.740255           0.635076   \n",
              "3    0.206044     0.212879    0.247231   0.927585           0.232335   \n",
              "4    0.731964     0.561855    0.913374   0.684255           0.922896   \n",
              "..        ...          ...         ...        ...                ...   \n",
              "481  0.007326     0.252854    0.688965   0.585497           0.544612   \n",
              "482  0.939915     0.202210    0.049386   0.926244           0.573190   \n",
              "483  0.539449     0.772569    0.640572   0.588195           0.667438   \n",
              "484  0.693828     0.377165    0.898659   0.065243           0.319042   \n",
              "485  0.269342     0.011624    0.533576   0.342742           0.427327   \n",
              "\n",
              "     Red Blood Cells  Hematocrit  Mean Corpuscular Volume  \\\n",
              "0           0.873944    0.337557                 0.906811   \n",
              "1           0.565886    0.473069                 0.508935   \n",
              "2           0.027142    0.843330                 0.696492   \n",
              "3           0.123815    0.436986                 0.298435   \n",
              "4           0.243054    0.537608                 0.830956   \n",
              "..               ...         ...                      ...   \n",
              "481         0.146135    0.351908                 0.580549   \n",
              "482         0.759280    0.770963                 0.229671   \n",
              "483         0.206742    0.237566                 0.382557   \n",
              "484         0.074909    0.259575                 0.486132   \n",
              "485         0.443560    0.383607                 0.174713   \n",
              "\n",
              "     Mean Corpuscular Hemoglobin  Mean Corpuscular Hemoglobin Concentration  \\\n",
              "0                       0.457209                                   0.395726   \n",
              "1                       0.062029                                   0.864294   \n",
              "2                       0.688079                                   0.296286   \n",
              "3                       0.266428                                   0.194279   \n",
              "4                       0.475400                                   0.179149   \n",
              "..                           ...                                        ...   \n",
              "481                     0.891961                                   0.275039   \n",
              "482                     0.881976                                   0.318546   \n",
              "483                     0.782439                                   0.087289   \n",
              "484                     0.992022                                   0.461381   \n",
              "485                     0.540524                                   0.684039   \n",
              "\n",
              "     ...     HbA1c  LDL Cholesterol  HDL Cholesterol       ALT       AST  \\\n",
              "0    ...  0.456361         0.854836         0.776464  0.123743  0.518523   \n",
              "1    ...  0.508146         0.616156         0.101654  0.147040  0.115004   \n",
              "2    ...  0.806246         0.767300         0.920398  0.720335  0.957106   \n",
              "3    ...  0.720981         0.336904         0.410912  0.022297  0.830511   \n",
              "4    ...  0.224386         0.261372         0.294475  0.886588  0.542060   \n",
              "..   ...       ...              ...              ...       ...       ...   \n",
              "481  ...  0.409986         0.153422         0.174263  0.045693  0.050175   \n",
              "482  ...  0.255325         0.216032         0.937486  0.303286  0.320990   \n",
              "483  ...  0.110708         0.969043         0.870623  0.417573  0.419676   \n",
              "484  ...  0.651357         0.010345         0.727764  0.416898  0.935822   \n",
              "485  ...  0.265842         0.299599         0.148096  0.929171  1.000402   \n",
              "\n",
              "     Heart Rate  Creatinine  Troponin  C-reactive Protein  Disease  \n",
              "0      0.695120    0.246893  0.592482            0.807131        1  \n",
              "1      0.098292    0.526956  0.251893            0.114850        1  \n",
              "2      0.798999    0.684442  0.042009            0.166463        1  \n",
              "3      0.606609    0.515503  0.960136            0.651620        1  \n",
              "4      0.650860    0.791743  0.611481            0.401127        1  \n",
              "..          ...         ...       ...                 ...      ...  \n",
              "481    0.138868    0.533495  0.010287            0.068076        1  \n",
              "482    0.351861    0.173075  0.088020            0.215551        1  \n",
              "483    0.187228    0.501185  0.328932            0.201635        1  \n",
              "484    0.112558    0.019671  0.620275            0.033933        1  \n",
              "485    0.626009    0.880665  0.268616            0.947198        1  \n",
              "\n",
              "[486 rows x 25 columns]"
            ]
          },
          "execution_count": 27,
          "metadata": {},
          "output_type": "execute_result"
        }
      ],
      "source": [
        "# Convert target to numerical values\n",
        "df.Disease = [0 if value == \"Healthy\" else 1 for value in df.Disease]\n",
        "\n",
        "df"
      ]
    },
    {
      "cell_type": "code",
      "execution_count": 28,
      "metadata": {
        "colab": {
          "base_uri": "https://localhost:8080/",
          "height": 422
        },
        "execution": {
          "iopub.execute_input": "2025-03-02T15:32:14.198904Z",
          "iopub.status.busy": "2025-03-02T15:32:14.19844Z",
          "iopub.status.idle": "2025-03-02T15:32:14.333331Z",
          "shell.execute_reply": "2025-03-02T15:32:14.331772Z",
          "shell.execute_reply.started": "2025-03-02T15:32:14.198865Z"
        },
        "id": "dL-NUdw2PybE",
        "outputId": "4e91d0b6-6ab4-4042-be02-7901867c4f77",
        "trusted": true
      },
      "outputs": [
        {
          "data": {
            "image/png": "[encoded data removed]",
            "text/plain": [
              "<Figure size 360x360 with 1 Axes>"
            ]
          },
          "metadata": {},
          "output_type": "display_data"
        }
      ],
      "source": [
        "plt.figure(figsize = (5,5))\n",
        "\n",
        "labels = ['Disease','Healthy']\n",
        "explode = [0, 0.1]\n",
        "\n",
        "plt.pie(df.Disease.value_counts(), labels = labels, explode = explode, autopct = '%1.1f%%')\n",
        "\n",
        "plt.show()"
      ]
    },
    {
      "cell_type": "markdown",
      "metadata": {
        "id": "4Myc7HeoRn4S"
      },
      "source": [
        "The chart drawn clearly indicates a **class imbalance**, which, if not addressed, can lead to significant issues in model performance. This imbalance will likely cause the model to be biased towards the majority class, resulting in poor recognition of the minority class and unreliable predictions. Therefore, it's crucial to implement strategies to mitigate this imbalance to ensure the model's accuracy and robustness across all classes."
      ]
    },
    {
      "cell_type": "markdown",
      "metadata": {
        "id": "hK1VqzbRPybF"
      },
      "source": [
        "## **Step 5.6 | Oversampling disease feature using SMOTE**"
      ]
    },
    {
      "cell_type": "code",
      "execution_count": 29,
      "metadata": {
        "colab": {
          "base_uri": "https://localhost:8080/"
        },
        "execution": {
          "iopub.execute_input": "2025-03-02T15:32:14.335535Z",
          "iopub.status.busy": "2025-03-02T15:32:14.334982Z",
          "iopub.status.idle": "2025-03-02T15:32:14.357559Z",
          "shell.execute_reply": "2025-03-02T15:32:14.354237Z",
          "shell.execute_reply.started": "2025-03-02T15:32:14.33549Z"
        },
        "id": "EFK8uHr9HvYK",
        "outputId": "1c594848-4aec-4cea-91fe-acfa5adcdf2b",
        "trusted": true
      },
      "outputs": [
        {
          "data": {
            "text/plain": [
              "(486, 24)"
            ]
          },
          "execution_count": 29,
          "metadata": {},
          "output_type": "execute_result"
        }
      ],
      "source": [
        "# updating numerical data\n",
        "\n",
        "df_continuous = df.drop('Disease', axis=1)\n",
        "df_continuous.shape"
      ]
    },
    {
      "cell_type": "code",
      "execution_count": 30,
      "metadata": {
        "execution": {
          "iopub.execute_input": "2025-03-02T15:32:14.359961Z",
          "iopub.status.busy": "2025-03-02T15:32:14.359375Z",
          "iopub.status.idle": "2025-03-02T15:32:14.466343Z",
          "shell.execute_reply": "2025-03-02T15:32:14.463493Z",
          "shell.execute_reply.started": "2025-03-02T15:32:14.359905Z"
        },
        "id": "5VgShc31S5nP",
        "trusted": true
      },
      "outputs": [],
      "source": [
        "from imblearn.over_sampling import SMOTE\n",
        "\n",
        "# Ensure k_neighbors <= n_samples - 1\n",
        "smote = SMOTE(random_state=43, k_neighbors=min(2, len(df_continuous)-1))\n",
        "x_resampled, y_resampled = smote.fit_resample(df_continuous, df['Disease'])\n"
      ]
    },
    {
      "cell_type": "code",
      "execution_count": 31,
      "metadata": {
        "colab": {
          "base_uri": "https://localhost:8080/"
        },
        "execution": {
          "iopub.status.busy": "2025-03-02T15:32:14.467894Z",
          "iopub.status.idle": "2025-03-02T15:32:14.468488Z",
          "shell.execute_reply": "2025-03-02T15:32:14.468236Z",
          "shell.execute_reply.started": "2025-03-02T15:32:14.468212Z"
        },
        "id": "IeiZKwNqIi97",
        "outputId": "9999b64d-143a-4845-b249-3cffa6c1c642",
        "trusted": true
      },
      "outputs": [
        {
          "name": "stdout",
          "output_type": "stream",
          "text": [
            "shape of resampled x: (962, 24)\n",
            "shape of resampled y: (962,)\n"
          ]
        }
      ],
      "source": [
        "print(\"shape of resampled x:\", x_resampled.shape)\n",
        "print(\"shape of resampled y:\", y_resampled.shape)"
      ]
    },
    {
      "cell_type": "code",
      "execution_count": 32,
      "metadata": {
        "colab": {
          "base_uri": "https://localhost:8080/",
          "height": 268
        },
        "execution": {
          "iopub.status.busy": "2025-03-02T15:32:14.470518Z",
          "iopub.status.idle": "2025-03-02T15:32:14.470967Z",
          "shell.execute_reply": "2025-03-02T15:32:14.470804Z",
          "shell.execute_reply.started": "2025-03-02T15:32:14.470787Z"
        },
        "id": "MGL9iEVKIxB0",
        "outputId": "0c47b45e-5dd5-4fc4-f8b0-55570bf681aa",
        "trusted": true
      },
      "outputs": [
        {
          "data": {
            "image/png": "[encoded data removed]",
            "text/plain": [
              "<Figure size 216x216 with 1 Axes>"
            ]
          },
          "metadata": {},
          "output_type": "display_data"
        }
      ],
      "source": [
        "plt.figure(figsize = (3,3))\n",
        "\n",
        "labels = ['Disease','Healthy']\n",
        "explode = [0, 0.1]\n",
        "\n",
        "plt.pie(y_resampled.value_counts(), labels = labels, autopct = '%1.1f%%')\n",
        "\n",
        "plt.show()"
      ]
    },
    {
      "cell_type": "markdown",
      "metadata": {
        "id": "ApQPRkc5PybF"
      },
      "source": [
        "As we see we resolved the imbalance issue using oversampling with smote, making the two classes **equal**"
      ]
    },
    {
      "cell_type": "markdown",
      "metadata": {
        "id": "Ac07F_9DJ8P0"
      },
      "source": [
        "## **Step 5.7 | Splitting the data into train and test sets**"
      ]
    },
    {
      "cell_type": "code",
      "execution_count": 33,
      "metadata": {
        "execution": {
          "iopub.status.busy": "2025-03-02T15:32:14.472302Z",
          "iopub.status.idle": "2025-03-02T15:32:14.472713Z",
          "shell.execute_reply": "2025-03-02T15:32:14.472525Z",
          "shell.execute_reply.started": "2025-03-02T15:32:14.47251Z"
        },
        "id": "gPbey7WkPybG",
        "trusted": true
      },
      "outputs": [],
      "source": [
        "# Splitting data into train and test sets\n",
        "x_train, x_test, y_train, y_test = train_test_split(x_resampled, y_resampled, test_size=0.2, random_state=0)"
      ]
    },
    {
      "cell_type": "code",
      "execution_count": 34,
      "metadata": {
        "colab": {
          "base_uri": "https://localhost:8080/"
        },
        "execution": {
          "iopub.status.busy": "2025-03-02T15:32:14.474692Z",
          "iopub.status.idle": "2025-03-02T15:32:14.475081Z",
          "shell.execute_reply": "2025-03-02T15:32:14.474927Z",
          "shell.execute_reply.started": "2025-03-02T15:32:14.474912Z"
        },
        "id": "G5Hcn6IMPybG",
        "outputId": "dc2f618d-caaa-4f0f-c398-4ea4fb39fd41",
        "trusted": true
      },
      "outputs": [
        {
          "name": "stdout",
          "output_type": "stream",
          "text": [
            "Shape of x-train: (769, 24) | Shape of y-train: (769,)\n",
            "Shape of x-test: (193, 24) | Shape of y-test: (193,)\n"
          ]
        }
      ],
      "source": [
        "print(f\"Shape of x-train: {x_train.shape} | Shape of y-train: {y_train.shape}\")\n",
        "print(f\"Shape of x-test: {x_test.shape} | Shape of y-test: {y_test.shape}\")"
      ]
    },
    {
      "cell_type": "markdown",
      "metadata": {
        "id": "uEJtZwxzPybI"
      },
      "source": [
        "# **Step 6 | Building Models**"
      ]
    },
    {
      "cell_type": "markdown",
      "metadata": {
        "id": "Wloc6FvYyNBk"
      },
      "source": [
        "let's first build a logistic regression model"
      ]
    },
    {
      "cell_type": "markdown",
      "metadata": {
        "id": "QHa5RP_fPybI"
      },
      "source": [
        "## **Step 6.1 | Building Logistic Regression Model**"
      ]
    },
    {
      "cell_type": "markdown",
      "metadata": {
        "id": "cRDhdb2asdFY"
      },
      "source": [
        "### **Step 6.1.1 | Training the model**"
      ]
    },
    {
      "cell_type": "code",
      "execution_count": 35,
      "metadata": {
        "colab": {
          "base_uri": "https://localhost:8080/",
          "height": 80
        },
        "execution": {
          "iopub.status.busy": "2025-03-02T15:32:14.477051Z",
          "iopub.status.idle": "2025-03-02T15:32:14.477451Z",
          "shell.execute_reply": "2025-03-02T15:32:14.477287Z",
          "shell.execute_reply.started": "2025-03-02T15:32:14.47727Z"
        },
        "id": "7F_EglBjPybI",
        "outputId": "4a8ab023-411a-4139-e846-1f77ed6b3fe5",
        "trusted": true
      },
      "outputs": [
        {
          "data": {
            "text/plain": [
              "LogisticRegression()"
            ]
          },
          "execution_count": 35,
          "metadata": {},
          "output_type": "execute_result"
        }
      ],
      "source": [
        "l_reg_model = LogisticRegression()\n",
        "l_reg_model.fit(x_train, y_train)"
      ]
    },
    {
      "cell_type": "markdown",
      "metadata": {
        "id": "SC_DeLCjspb5"
      },
      "source": [
        "### **Step 6.1.2 | Evaluating the model**"
      ]
    },
    {
      "cell_type": "code",
      "execution_count": 36,
      "metadata": {
        "colab": {
          "base_uri": "https://localhost:8080/"
        },
        "execution": {
          "iopub.status.busy": "2025-03-02T15:32:14.479529Z",
          "iopub.status.idle": "2025-03-02T15:32:14.480182Z",
          "shell.execute_reply": "2025-03-02T15:32:14.480007Z",
          "shell.execute_reply.started": "2025-03-02T15:32:14.479989Z"
        },
        "id": "6uqS6pt8swjy",
        "outputId": "296756e2-137a-4b26-eb99-bd33c7727ac5",
        "trusted": true
      },
      "outputs": [
        {
          "name": "stdout",
          "output_type": "stream",
          "text": [
            "Train Accuracy: 96.88%\n",
            "Test Accuracy: 97.93%\n"
          ]
        }
      ],
      "source": [
        "yreg_pred_train = l_reg_model.predict(x_train)\n",
        "\n",
        "l_reg_accuracy_train = accuracy_score(y_train, yreg_pred_train)\n",
        "print(f\"Train Accuracy: {round(l_reg_accuracy_train * 100,2)}%\")\n",
        "\n",
        "yreg_pred_test = l_reg_model.predict(x_test)\n",
        "\n",
        "l_reg_accuracy_test = accuracy_score(y_test, yreg_pred_test)\n",
        "print(f\"Test Accuracy: {round(l_reg_accuracy_test * 100,2)}%\")"
      ]
    },
    {
      "cell_type": "code",
      "execution_count": 37,
      "metadata": {
        "colab": {
          "base_uri": "https://localhost:8080/"
        },
        "execution": {
          "iopub.status.busy": "2025-03-02T15:32:14.481846Z",
          "iopub.status.idle": "2025-03-02T15:32:14.482233Z",
          "shell.execute_reply": "2025-03-02T15:32:14.482076Z",
          "shell.execute_reply.started": "2025-03-02T15:32:14.482061Z"
        },
        "id": "Zr0cV6u8ugq3",
        "outputId": "5160c7c2-2755-447f-ef5a-dfe10673c6c9",
        "trusted": true
      },
      "outputs": [
        {
          "name": "stdout",
          "output_type": "stream",
          "text": [
            "Classification Report:\n",
            "              precision    recall  f1-score   support\n",
            "\n",
            "           0       0.96      1.00      0.98       102\n",
            "           1       1.00      0.96      0.98        91\n",
            "\n",
            "    accuracy                           0.98       193\n",
            "   macro avg       0.98      0.98      0.98       193\n",
            "weighted avg       0.98      0.98      0.98       193\n",
            "\n"
          ]
        }
      ],
      "source": [
        "print(\"Classification Report:\")\n",
        "print(classification_report(y_test, yreg_pred_test))"
      ]
    },
    {
      "cell_type": "code",
      "execution_count": 38,
      "metadata": {
        "colab": {
          "base_uri": "https://localhost:8080/",
          "height": 507
        },
        "execution": {
          "iopub.status.busy": "2025-03-02T15:32:14.483918Z",
          "iopub.status.idle": "2025-03-02T15:32:14.484325Z",
          "shell.execute_reply": "2025-03-02T15:32:14.484161Z",
          "shell.execute_reply.started": "2025-03-02T15:32:14.484138Z"
        },
        "id": "EnhlNr70uukj",
        "outputId": "5c56c212-b999-49a9-c813-408b28b50d43",
        "trusted": true
      },
      "outputs": [
        {
          "data": {
            "image/png": "[encoded data removed]",
            "text/plain": [
              "<Figure size 360x360 with 2 Axes>"
            ]
          },
          "metadata": {
            "needs_background": "light"
          },
          "output_type": "display_data"
        }
      ],
      "source": [
        "conf_matrix = confusion_matrix(y_test, yreg_pred_test)\n",
        "\n",
        "plt.figure(figsize=(5, 5))\n",
        "\n",
        "sns.heatmap(conf_matrix, annot=True, fmt='d', cmap='Blues',\n",
        "            xticklabels=['Healthy','Disease'], yticklabels=['Healthy','Disease'])\n",
        "plt.xlabel('Predicted')\n",
        "plt.ylabel('True')\n",
        "plt.title('Confusion Matrix Heatmap')\n",
        "\n",
        "plt.tight_layout()\n",
        "plt.show()"
      ]
    },
    {
      "cell_type": "markdown",
      "metadata": {
        "id": "5-9156BtyVTi"
      },
      "source": [
        "now, let's try building a random forest model"
      ]
    },
    {
      "cell_type": "markdown",
      "metadata": {
        "id": "t6SusVzgPybM"
      },
      "source": [
        "## **Step 6.2 | Building Random Forest Model**"
      ]
    },
    {
      "cell_type": "markdown",
      "metadata": {
        "id": "uDpYtYDtwN5l"
      },
      "source": [
        "### **Step 6.2.1 | Training the model**"
      ]
    },
    {
      "cell_type": "code",
      "execution_count": 39,
      "metadata": {
        "colab": {
          "base_uri": "https://localhost:8080/",
          "height": 80
        },
        "execution": {
          "iopub.status.busy": "2025-03-02T15:32:14.485977Z",
          "iopub.status.idle": "2025-03-02T15:32:14.486356Z",
          "shell.execute_reply": "2025-03-02T15:32:14.486204Z",
          "shell.execute_reply.started": "2025-03-02T15:32:14.486189Z"
        },
        "id": "xP2FwHy7PybM",
        "outputId": "b2367a8f-b3aa-440e-affc-0df63a90788a",
        "trusted": true
      },
      "outputs": [
        {
          "data": {
            "text/plain": [
              "RandomForestClassifier()"
            ]
          },
          "execution_count": 39,
          "metadata": {},
          "output_type": "execute_result"
        }
      ],
      "source": [
        "rf_model = RandomForestClassifier()\n",
        "rf_model.fit(x_train, y_train)"
      ]
    },
    {
      "cell_type": "markdown",
      "metadata": {
        "id": "gE-joD3SwXX_"
      },
      "source": [
        "### **Step 6.1.2 | Evaluating the model**"
      ]
    },
    {
      "cell_type": "code",
      "execution_count": 40,
      "metadata": {
        "colab": {
          "base_uri": "https://localhost:8080/"
        },
        "execution": {
          "iopub.status.busy": "2025-03-02T15:32:14.488203Z",
          "iopub.status.idle": "2025-03-02T15:32:14.488611Z",
          "shell.execute_reply": "2025-03-02T15:32:14.488454Z",
          "shell.execute_reply.started": "2025-03-02T15:32:14.488438Z"
        },
        "id": "Omreh3PXwbw3",
        "outputId": "323a8584-95dd-4163-c626-ef5db7939a3c",
        "trusted": true
      },
      "outputs": [
        {
          "name": "stdout",
          "output_type": "stream",
          "text": [
            "Train Accuracy: 100.0%\n",
            "Test Accuracy: 100.0%\n"
          ]
        }
      ],
      "source": [
        "yrf_pred_train = rf_model.predict(x_train)\n",
        "\n",
        "rf_accuracy_train = accuracy_score(y_train, yrf_pred_train)\n",
        "print(f\"Train Accuracy: {round(rf_accuracy_train * 100,2)}%\")\n",
        "\n",
        "yrf_pred_test = rf_model.predict(x_test)\n",
        "\n",
        "rf_accuracy_test = accuracy_score(y_test, yrf_pred_test)\n",
        "print(f\"Test Accuracy: {round(rf_accuracy_test * 100,2)}%\")"
      ]
    },
    {
      "cell_type": "code",
      "execution_count": 41,
      "metadata": {
        "colab": {
          "base_uri": "https://localhost:8080/"
        },
        "execution": {
          "iopub.status.busy": "2025-03-02T15:32:14.490388Z",
          "iopub.status.idle": "2025-03-02T15:32:14.490827Z",
          "shell.execute_reply": "2025-03-02T15:32:14.490659Z",
          "shell.execute_reply.started": "2025-03-02T15:32:14.490608Z"
        },
        "id": "5H9ond8ewyXQ",
        "outputId": "864cf469-e703-4682-f014-e92f6d4f7fa9",
        "trusted": true
      },
      "outputs": [
        {
          "name": "stdout",
          "output_type": "stream",
          "text": [
            "Classification Report:\n",
            "              precision    recall  f1-score   support\n",
            "\n",
            "           0       1.00      1.00      1.00       102\n",
            "           1       1.00      1.00      1.00        91\n",
            "\n",
            "    accuracy                           1.00       193\n",
            "   macro avg       1.00      1.00      1.00       193\n",
            "weighted avg       1.00      1.00      1.00       193\n",
            "\n"
          ]
        }
      ],
      "source": [
        "print(\"Classification Report:\")\n",
        "print(classification_report(y_test, yrf_pred_test))"
      ]
    },
    {
      "cell_type": "code",
      "execution_count": 42,
      "metadata": {
        "colab": {
          "base_uri": "https://localhost:8080/",
          "height": 507
        },
        "execution": {
          "iopub.status.busy": "2025-03-02T15:32:14.492774Z",
          "iopub.status.idle": "2025-03-02T15:32:14.493191Z",
          "shell.execute_reply": "2025-03-02T15:32:14.493023Z",
          "shell.execute_reply.started": "2025-03-02T15:32:14.493007Z"
        },
        "id": "Cm9bza3ixC9t",
        "outputId": "d3c17426-17bf-4f13-c74c-d69c5c25cbc7",
        "trusted": true
      },
      "outputs": [
        {
          "data": {
            "image/png": "[encoded data removed]",
            "text/plain": [
              "<Figure size 360x360 with 2 Axes>"
            ]
          },
          "metadata": {
            "needs_background": "light"
          },
          "output_type": "display_data"
        }
      ],
      "source": [
        "conf_matrix = confusion_matrix(y_test, yrf_pred_test)\n",
        "\n",
        "plt.figure(figsize=(5, 5))\n",
        "\n",
        "sns.heatmap(conf_matrix, annot=True, fmt='d', cmap='Blues',\n",
        "            xticklabels=['Healthy','Disease'], yticklabels=['Healthy','Disease'])\n",
        "plt.xlabel('Predicted')\n",
        "plt.ylabel('True')\n",
        "plt.title('Confusion Matrix Heatmap')\n",
        "\n",
        "plt.tight_layout()\n",
        "plt.show()"
      ]
    },
    {
      "cell_type": "markdown",
      "metadata": {
        "id": "EZRUSkOwPybR"
      },
      "source": [
        "# **Step 7 | Conclusion**"
      ]
    },
    {
      "cell_type": "markdown",
      "metadata": {
        "id": "JheGeX29PybS"
      },
      "source": [
        "In the critical context of disease diagnosis, our primary objective is to ensure a high recall for the positive class. Accurately identifying every potential case is paramount, as even one missed diagnosis could have serious consequences. However, while striving for this high recall, it is essential to maintain balanced performance to avoid unnecessary medical interventions for healthy individuals. Therefore, our models will be evaluated against these vital medical benchmarks to achieve both comprehensive detection and judicious intervention."
      ]
    },
    {
      "cell_type": "code",
      "execution_count": 43,
      "metadata": {
        "execution": {
          "iopub.status.busy": "2025-03-02T15:32:14.494389Z",
          "iopub.status.idle": "2025-03-02T15:32:14.494799Z",
          "shell.execute_reply": "2025-03-02T15:32:14.494608Z",
          "shell.execute_reply.started": "2025-03-02T15:32:14.494592Z"
        },
        "id": "6w76ctgyPybS",
        "trusted": true
      },
      "outputs": [],
      "source": [
        "models = pd.DataFrame({\n",
        "    'Model': [\n",
        "        'Logistic Regression','Random Forest'\n",
        "    ],\n",
        "    'Training Accuracy Score': [\n",
        "        l_reg_accuracy_train,rf_accuracy_train\n",
        "    ],\n",
        "    'Test Accuracy Score': [\n",
        "       l_reg_accuracy_test,rf_accuracy_test\n",
        "    ]\n",
        "})"
      ]
    },
    {
      "cell_type": "code",
      "execution_count": 45,
      "metadata": {
        "colab": {
          "base_uri": "https://localhost:8080/",
          "height": 112
        },
        "execution": {
          "iopub.status.busy": "2025-03-02T15:32:14.496355Z",
          "iopub.status.idle": "2025-03-02T15:32:14.496767Z",
          "shell.execute_reply": "2025-03-02T15:32:14.496574Z",
          "shell.execute_reply.started": "2025-03-02T15:32:14.496559Z"
        },
        "id": "VSSKuq7rzWyN",
        "outputId": "13e59a45-3881-464a-92dd-6c7b152ff9be",
        "trusted": true
      },
      "outputs": [
        {
          "data": {
            "text/html": [
              "<style  type=\"text/css\" >\n",
              "#T_5ab43f38_f77e_11ef_8c26_a841f4e24221row0_col1,#T_5ab43f38_f77e_11ef_8c26_a841f4e24221row0_col2{\n",
              "            background-color:  #fee838;\n",
              "            color:  #000000;\n",
              "        }#T_5ab43f38_f77e_11ef_8c26_a841f4e24221row1_col1,#T_5ab43f38_f77e_11ef_8c26_a841f4e24221row1_col2{\n",
              "            background-color:  #00224e;\n",
              "            color:  #f1f1f1;\n",
              "        }</style><table id=\"T_5ab43f38_f77e_11ef_8c26_a841f4e24221\" ><thead>    <tr>        <th class=\"blank level0\" ></th>        <th class=\"col_heading level0 col0\" >Model</th>        <th class=\"col_heading level0 col1\" >Training Accuracy Score</th>        <th class=\"col_heading level0 col2\" >Test Accuracy Score</th>    </tr></thead><tbody>\n",
              "                <tr>\n",
              "                        <th id=\"T_5ab43f38_f77e_11ef_8c26_a841f4e24221level0_row0\" class=\"row_heading level0 row0\" >1</th>\n",
              "                        <td id=\"T_5ab43f38_f77e_11ef_8c26_a841f4e24221row0_col0\" class=\"data row0 col0\" >Random Forest</td>\n",
              "                        <td id=\"T_5ab43f38_f77e_11ef_8c26_a841f4e24221row0_col1\" class=\"data row0 col1\" >1.000000</td>\n",
              "                        <td id=\"T_5ab43f38_f77e_11ef_8c26_a841f4e24221row0_col2\" class=\"data row0 col2\" >1.000000</td>\n",
              "            </tr>\n",
              "            <tr>\n",
              "                        <th id=\"T_5ab43f38_f77e_11ef_8c26_a841f4e24221level0_row1\" class=\"row_heading level0 row1\" >0</th>\n",
              "                        <td id=\"T_5ab43f38_f77e_11ef_8c26_a841f4e24221row1_col0\" class=\"data row1 col0\" >Logistic Regression</td>\n",
              "                        <td id=\"T_5ab43f38_f77e_11ef_8c26_a841f4e24221row1_col1\" class=\"data row1 col1\" >0.968791</td>\n",
              "                        <td id=\"T_5ab43f38_f77e_11ef_8c26_a841f4e24221row1_col2\" class=\"data row1 col2\" >0.979275</td>\n",
              "            </tr>\n",
              "    </tbody></table>"
            ],
            "text/plain": [
              "<pandas.io.formats.style.Styler at 0x204381f4a90>"
            ]
          },
          "execution_count": 45,
          "metadata": {},
          "output_type": "execute_result"
        }
      ],
      "source": [
        "models.sort_values(by='Training Accuracy Score', ascending=False).style.background_gradient(cmap='cividis')"
      ]
    },
    {
      "cell_type": "code",
      "execution_count": 46,
      "metadata": {
        "colab": {
          "base_uri": "https://localhost:8080/",
          "height": 607
        },
        "execution": {
          "iopub.status.busy": "2025-03-02T15:32:14.497755Z",
          "iopub.status.idle": "2025-03-02T15:32:14.498122Z",
          "shell.execute_reply": "2025-03-02T15:32:14.497966Z",
          "shell.execute_reply.started": "2025-03-02T15:32:14.497951Z"
        },
        "id": "lB8oBN8uPybS",
        "outputId": "3f32a548-2969-4332-f225-e27b286bb963",
        "trusted": true
      },
      "outputs": [
        {
          "data": {
            "image/png": "[encoded data removed]",
            "text/plain": [
              "<Figure size 720x432 with 1 Axes>"
            ]
          },
          "metadata": {
            "needs_background": "light"
          },
          "output_type": "display_data"
        }
      ],
      "source": [
        "model_names = ['Logistic Regression', 'Random Forest']\n",
        "\n",
        "accuracies = [l_reg_accuracy_test, rf_accuracy_test]\n",
        "precisions = [precision_score(y_test, yreg_pred_test), precision_score(y_test, yrf_pred_test)]\n",
        "recalls = [recall_score(y_test, yreg_pred_test), recall_score(y_test, yrf_pred_test)]\n",
        "f1_scores = [f1_score(y_test, yreg_pred_test), f1_score(y_test, yrf_pred_test)]\n",
        "\n",
        "graph = pd.DataFrame({\n",
        "    'Model': model_names * 4,\n",
        "    'Metric': ['Accuracy'] * 2 + ['Precision'] * 2 + ['Recall'] * 2 + ['F1-Score'] * 2,\n",
        "    'Score': accuracies + precisions + recalls + f1_scores\n",
        "})\n",
        "\n",
        "plt.figure(figsize=(10, 6))\n",
        "sns.barplot(x='Model', y='Score', hue='Metric', data=graph, palette='viridis')\n",
        "\n",
        "plt.xlabel('Models')\n",
        "plt.ylabel('Score')\n",
        "plt.title('Model Comparison - Accuracy, Precision, Recall, and f1-score')\n",
        "\n",
        "plt.tight_layout()\n",
        "plt.show()"
      ]
    },
    {
      "cell_type": "code",
      "execution_count": 48,
      "metadata": {},
      "outputs": [
        {
          "data": {
            "text/plain": [
              "['basic_disease_prediction.pkl']"
            ]
          },
          "execution_count": 48,
          "metadata": {},
          "output_type": "execute_result"
        }
      ],
      "source": [
        "import joblib\n",
        "\n",
        "# Save the Random Forest model to a file\n",
        "joblib.dump(rf_model, 'basic_disease_prediction.pkl')"
      ]
    },
    {
      "cell_type": "markdown",
      "metadata": {
        "id": "9-oU30AQPybS"
      },
      "source": [
        "__The Random forest model demonstrates a perfect capability in recognizing potential diseases. With a recall of 1.00, it's evident that almost all patients with diseases are correctly identified. This is of paramount importance in a medical setting. However, the model's balanced performance ensures that while aiming for high recall, it doesn't compromise on precision, thereby not overburdening the system with unnecessary alerts.__\n",
        "\n"
      ]
    },
    {
      "cell_type": "markdown",
      "metadata": {
        "id": "ayxYI1vIPybS"
      },
      "source": [
        "*__Best regards!__*"
      ]
    }
  ],
  "metadata": {
    "colab": {
      "name": "Disease Prediction",
      "provenance": []
    },
    "kaggle": {
      "accelerator": "none",
      "dataSources": [
        {
          "datasetId": 4532617,
          "sourceId": 7752217,
          "sourceType": "datasetVersion"
        }
      ],
      "dockerImageVersionId": 30698,
      "isGpuEnabled": false,
      "isInternetEnabled": true,
      "language": "python",
      "sourceType": "notebook"
    },
    "kernelspec": {
      "display_name": "gpu2",
      "language": "python",
      "name": "python3"
    },
    "language_info": {
      "codemirror_mode": {
        "name": "ipython",
        "version": 3
      },
      "file_extension": ".py",
      "mimetype": "text/x-python",
      "name": "python",
      "nbconvert_exporter": "python",
      "pygments_lexer": "ipython3",
      "version": "3.6.13"
    }
  },
  "nbformat": 4,
  "nbformat_minor": 0
}
